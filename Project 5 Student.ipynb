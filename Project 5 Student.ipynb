{
 "cells": [
  {
   "cell_type": "markdown",
   "metadata": {},
   "source": [
    "## [Computational Social Science] Project 5: Natural Language Processing"
   ]
  },
  {
   "cell_type": "markdown",
   "metadata": {},
   "source": [
    "In this project, you will use natural language processing techniques to explore a dataset containing tweets from members of the 116th United States Congress that met from January 3, 2019 to January 2, 2021. The dataset has also been cleaned to contain information about each legislator. Concretely, you will do the following:\n",
    "\n",
    "* Preprocess the text of legislators' tweets\n",
    "* Conduct Exploratory Data Analysis of the text\n",
    "* Use sentiment analysis to explore differences between legislators' tweets\n",
    "* Featurize text with manual feature engineering, frequency-based, and vector-based techniques\n",
    "* Predict legislators' political parties and whether they are a Senator or Representative\n",
    "\n",
    "You will explore two questions that relate to two central findings in political science and examine how they relate to the text of legislators' tweets. First, political scientists have argued that U.S. politics is currently highly polarized relative to other periods in American history, but also that the polarization is asymmetric. Historically, there were several conservative Democrats (i.e. \"blue dog Democrats\") and liberal Republicans (i.e. \"Rockefeller Republicans\"), as measured by popular measurement tools like [DW-NOMINATE](https://en.wikipedia.org/wiki/NOMINATE_(scaling_method)#:~:text=DW\\%2DNOMINATE\\%20scores\\%20have\\%20been,in\\%20the\\%20liberal\\%2Dconservative\\%20scale.). However, in the last few years, there are few if any examples of any Democrat in Congress being further to the right than any Republican and vice versa. At the same time, scholars have argued that this polarization is mostly a function of the Republican party moving further right than the Democratic party has moved left. **Does this sort of asymmetric polarization show up in how politicians communicate to their constituents through tweets?**\n",
    "\n",
    "Second, the U.S. Congress is a bicameral legislature, and there has long been debate about partisanship in the Senate versus the House. The House of Representatives is apportioned by population and all members serve two year terms. In the Senate, each state receives two Senators and each Senator serves a term of six years. For a variety of reasons (smaller chamber size, more insulation from the voters, rules and norms like the filibuster, etc.), the Senate has been argued to be the \"cooling saucer\" of Congress in that it is more bipartisan and moderate than the House. **Does the theory that the Senate is more moderate have support in Senators' tweets?**\n",
    "\n",
    "**Note**: See the project handout for more details on caveats and the data dictionary."
   ]
  },
  {
   "cell_type": "code",
   "execution_count": 1,
   "metadata": {},
   "outputs": [],
   "source": [
    "# pandas and numpy\n",
    "import pandas as pd\n",
    "import numpy as numpy\n",
    "\n",
    "# punctuation, stop words and English language model\n",
    "from string import punctuation\n",
    "from spacy.lang.en.stop_words import STOP_WORDS\n",
    "import en_core_web_sm\n",
    "nlp = en_core_web_sm.load()\n",
    "\n",
    "# textblob\n",
    "from textblob import TextBlob\n",
    "\n",
    "# countvectorizer, tfidfvectorizer\n",
    "from sklearn.feature_extraction.text import CountVectorizer, TfidfVectorizer\n",
    "\n",
    "# gensim\n",
    "import gensim\n",
    "from gensim import models\n",
    "from gensim.models.doc2vec import Doc2Vec, TaggedDocument\n",
    "\n",
    "# plotting\n",
    "import matplotlib.pyplot as plt\n",
    "import seaborn as sns\n",
    "%matplotlib inline"
   ]
  },
  {
   "cell_type": "code",
   "execution_count": 2,
   "metadata": {},
   "outputs": [],
   "source": [
    "# other useful packages \n",
    "from PIL import Image\n",
    "import spacy\n",
    "import en_core_web_sm\n",
    "import scattertext as st\n",
    "from wordcloud import WordCloud, STOPWORDS, ImageColorGenerator\n",
    "from sklearn.decomposition import LatentDirichletAllocation"
   ]
  },
  {
   "cell_type": "code",
   "execution_count": 3,
   "metadata": {},
   "outputs": [
    {
     "data": {
      "text/html": [
       "<div>\n",
       "<style scoped>\n",
       "    .dataframe tbody tr th:only-of-type {\n",
       "        vertical-align: middle;\n",
       "    }\n",
       "\n",
       "    .dataframe tbody tr th {\n",
       "        vertical-align: top;\n",
       "    }\n",
       "\n",
       "    .dataframe thead th {\n",
       "        text-align: right;\n",
       "    }\n",
       "</style>\n",
       "<table border=\"1\" class=\"dataframe\">\n",
       "  <thead>\n",
       "    <tr style=\"text-align: right;\">\n",
       "      <th></th>\n",
       "      <th>tweet_id</th>\n",
       "      <th>screen_name</th>\n",
       "      <th>datetime</th>\n",
       "      <th>text</th>\n",
       "      <th>name_wikipedia</th>\n",
       "      <th>position</th>\n",
       "      <th>joined_congress_date</th>\n",
       "      <th>birthday</th>\n",
       "      <th>gender</th>\n",
       "      <th>state</th>\n",
       "      <th>district_number</th>\n",
       "      <th>party</th>\n",
       "      <th>trump_2016_state_share</th>\n",
       "      <th>clinton_2016_state_share</th>\n",
       "      <th>obama_2012_state_share</th>\n",
       "      <th>romney_2012_state_share</th>\n",
       "    </tr>\n",
       "  </thead>\n",
       "  <tbody>\n",
       "    <tr>\n",
       "      <th>11361</th>\n",
       "      <td>1.132820e+18</td>\n",
       "      <td>SenDanSullivan</td>\n",
       "      <td>2019-05-26T21:36:32-04:00</td>\n",
       "      <td>Sam &amp;amp; the guys had to deal with a less exp...</td>\n",
       "      <td>Dan Sullivan</td>\n",
       "      <td>Sen</td>\n",
       "      <td>3-Jan-15</td>\n",
       "      <td>11/13/1964</td>\n",
       "      <td>M</td>\n",
       "      <td>AK</td>\n",
       "      <td>Senate</td>\n",
       "      <td>Republican</td>\n",
       "      <td>163,387</td>\n",
       "      <td>116,454</td>\n",
       "      <td>122,640</td>\n",
       "      <td>164,676</td>\n",
       "    </tr>\n",
       "    <tr>\n",
       "      <th>479436</th>\n",
       "      <td>1.125490e+18</td>\n",
       "      <td>SenatorFischer</td>\n",
       "      <td>2019-05-06T16:15:46-04:00</td>\n",
       "      <td>It was great to @Skype w @StuartPublicSch’s go...</td>\n",
       "      <td>Deb Fischer</td>\n",
       "      <td>Sen</td>\n",
       "      <td>3-Jan-13</td>\n",
       "      <td>3/1/1951</td>\n",
       "      <td>F</td>\n",
       "      <td>NE</td>\n",
       "      <td>Senate</td>\n",
       "      <td>Republican</td>\n",
       "      <td>495,961</td>\n",
       "      <td>284,494</td>\n",
       "      <td>302,081</td>\n",
       "      <td>475,064</td>\n",
       "    </tr>\n",
       "    <tr>\n",
       "      <th>866557</th>\n",
       "      <td>1.166860e+18</td>\n",
       "      <td>RepDonBeyer</td>\n",
       "      <td>2019-08-28T19:44:44-04:00</td>\n",
       "      <td>RT @brianstelter 170 days.\\n\\nhttp://www.cnn.c...</td>\n",
       "      <td>Don Beyer</td>\n",
       "      <td>Rep</td>\n",
       "      <td>3-Jan-15</td>\n",
       "      <td>6/20/1950</td>\n",
       "      <td>M</td>\n",
       "      <td>VA</td>\n",
       "      <td>8</td>\n",
       "      <td>Democrat</td>\n",
       "      <td>1,769,443</td>\n",
       "      <td>1,981,473</td>\n",
       "      <td>1,971,820</td>\n",
       "      <td>1,822,522</td>\n",
       "    </tr>\n",
       "    <tr>\n",
       "      <th>168486</th>\n",
       "      <td>1.242860e+18</td>\n",
       "      <td>SenatorBennet</td>\n",
       "      <td>2020-03-25T13:14:12-04:00</td>\n",
       "      <td>@SenateDems We fought hard to make sure nonpro...</td>\n",
       "      <td>Michael Bennet</td>\n",
       "      <td>Sen</td>\n",
       "      <td>21-Jan-09</td>\n",
       "      <td>11/28/1964</td>\n",
       "      <td>M</td>\n",
       "      <td>CO</td>\n",
       "      <td>Senate</td>\n",
       "      <td>Democrat</td>\n",
       "      <td>1,202,484</td>\n",
       "      <td>1,338,870</td>\n",
       "      <td>1,323,102</td>\n",
       "      <td>1,185,243</td>\n",
       "    </tr>\n",
       "    <tr>\n",
       "      <th>507812</th>\n",
       "      <td>1.126490e+18</td>\n",
       "      <td>RepSires</td>\n",
       "      <td>2019-05-09T10:26:11-04:00</td>\n",
       "      <td>This illegal act shows once again there is no ...</td>\n",
       "      <td>Albio Sires</td>\n",
       "      <td>Rep</td>\n",
       "      <td>3-Jan-13</td>\n",
       "      <td>1/26/1951</td>\n",
       "      <td>M</td>\n",
       "      <td>NJ</td>\n",
       "      <td>8</td>\n",
       "      <td>Democrat</td>\n",
       "      <td>1,601,933</td>\n",
       "      <td>2,148,278</td>\n",
       "      <td>2,125,101</td>\n",
       "      <td>1,477,568</td>\n",
       "    </tr>\n",
       "  </tbody>\n",
       "</table>\n",
       "</div>"
      ],
      "text/plain": [
       "            tweet_id     screen_name                   datetime  \\\n",
       "11361   1.132820e+18  SenDanSullivan  2019-05-26T21:36:32-04:00   \n",
       "479436  1.125490e+18  SenatorFischer  2019-05-06T16:15:46-04:00   \n",
       "866557  1.166860e+18     RepDonBeyer  2019-08-28T19:44:44-04:00   \n",
       "168486  1.242860e+18   SenatorBennet  2020-03-25T13:14:12-04:00   \n",
       "507812  1.126490e+18        RepSires  2019-05-09T10:26:11-04:00   \n",
       "\n",
       "                                                     text  name_wikipedia  \\\n",
       "11361   Sam &amp; the guys had to deal with a less exp...    Dan Sullivan   \n",
       "479436  It was great to @Skype w @StuartPublicSch’s go...     Deb Fischer   \n",
       "866557  RT @brianstelter 170 days.\\n\\nhttp://www.cnn.c...       Don Beyer   \n",
       "168486  @SenateDems We fought hard to make sure nonpro...  Michael Bennet   \n",
       "507812  This illegal act shows once again there is no ...     Albio Sires   \n",
       "\n",
       "       position joined_congress_date    birthday gender state district_number  \\\n",
       "11361       Sen             3-Jan-15  11/13/1964      M    AK          Senate   \n",
       "479436      Sen             3-Jan-13    3/1/1951      F    NE          Senate   \n",
       "866557      Rep             3-Jan-15   6/20/1950      M    VA               8   \n",
       "168486      Sen            21-Jan-09  11/28/1964      M    CO          Senate   \n",
       "507812      Rep             3-Jan-13   1/26/1951      M    NJ               8   \n",
       "\n",
       "             party trump_2016_state_share clinton_2016_state_share  \\\n",
       "11361   Republican                163,387                  116,454   \n",
       "479436  Republican                495,961                  284,494   \n",
       "866557    Democrat              1,769,443                1,981,473   \n",
       "168486    Democrat              1,202,484                1,338,870   \n",
       "507812    Democrat              1,601,933                2,148,278   \n",
       "\n",
       "       obama_2012_state_share romney_2012_state_share  \n",
       "11361                 122,640                 164,676  \n",
       "479436                302,081                 475,064  \n",
       "866557              1,971,820               1,822,522  \n",
       "168486              1,323,102               1,185,243  \n",
       "507812              2,125,101               1,477,568  "
      ]
     },
     "execution_count": 3,
     "metadata": {},
     "output_type": "execute_result"
    }
   ],
   "source": [
    "# read the data \n",
    "# note that this data file does not live on GitHub, so each team member has saved the file in their local project repo \n",
    "congress_tweets = pd.read_csv(\"116th Congressional Tweets and Demographics.csv\")\n",
    "\n",
    "# sample 1000 rows to run the code \n",
    "# note that random.state has been set to an integer, so hopefully we will get the same sample in each iteration \n",
    "congress_tweets = congress_tweets.sample(n=1000, replace=False, random_state= 5, axis= 0)\n",
    "congress_tweets.head()"
   ]
  },
  {
   "cell_type": "markdown",
   "metadata": {},
   "source": [
    "## Preprocessing"
   ]
  },
  {
   "cell_type": "markdown",
   "metadata": {},
   "source": [
    "The first step in working with text data is to preprocess it. Make sure you do the following:\n",
    "\n",
    "* Remove punctuation and stop words. The `rem_punc_stop()` function we used in lab is provided to you but you should feel free to edit it as necessary for other steps\n",
    "* Remove tokens that occur frequently in tweets, but may not be helpful for downstream classification. For instance, many tweets contain a flag for retweeting, or share a URL \n",
    "\n",
    "As you search online, you might run into solutions that rely on regular expressions. You are free to use these, but you should also be able to preprocess using the techniques we covered in lab. Specifically, we encourage you to use spaCy's token attributes and string methods to do some of this text preprocessing."
   ]
  },
  {
   "cell_type": "code",
   "execution_count": 4,
   "metadata": {},
   "outputs": [
    {
     "data": {
      "text/html": [
       "<div>\n",
       "<style scoped>\n",
       "    .dataframe tbody tr th:only-of-type {\n",
       "        vertical-align: middle;\n",
       "    }\n",
       "\n",
       "    .dataframe tbody tr th {\n",
       "        vertical-align: top;\n",
       "    }\n",
       "\n",
       "    .dataframe thead th {\n",
       "        text-align: right;\n",
       "    }\n",
       "</style>\n",
       "<table border=\"1\" class=\"dataframe\">\n",
       "  <thead>\n",
       "    <tr style=\"text-align: right;\">\n",
       "      <th></th>\n",
       "      <th>index</th>\n",
       "      <th>tweet_id</th>\n",
       "      <th>screen_name</th>\n",
       "      <th>datetime</th>\n",
       "      <th>text</th>\n",
       "      <th>name_wikipedia</th>\n",
       "      <th>position</th>\n",
       "      <th>joined_congress_date</th>\n",
       "      <th>birthday</th>\n",
       "      <th>gender</th>\n",
       "      <th>state</th>\n",
       "      <th>district_number</th>\n",
       "      <th>party</th>\n",
       "      <th>trump_2016_state_share</th>\n",
       "      <th>clinton_2016_state_share</th>\n",
       "      <th>obama_2012_state_share</th>\n",
       "      <th>romney_2012_state_share</th>\n",
       "    </tr>\n",
       "  </thead>\n",
       "  <tbody>\n",
       "    <tr>\n",
       "      <th>0</th>\n",
       "      <td>11361</td>\n",
       "      <td>1.132820e+18</td>\n",
       "      <td>SenDanSullivan</td>\n",
       "      <td>2019-05-26T21:36:32-04:00</td>\n",
       "      <td>Sam &amp;amp; the guys had to deal with a less exp...</td>\n",
       "      <td>Dan Sullivan</td>\n",
       "      <td>Sen</td>\n",
       "      <td>3-Jan-15</td>\n",
       "      <td>11/13/1964</td>\n",
       "      <td>M</td>\n",
       "      <td>AK</td>\n",
       "      <td>Senate</td>\n",
       "      <td>Republican</td>\n",
       "      <td>163,387</td>\n",
       "      <td>116,454</td>\n",
       "      <td>122,640</td>\n",
       "      <td>164,676</td>\n",
       "    </tr>\n",
       "    <tr>\n",
       "      <th>1</th>\n",
       "      <td>479436</td>\n",
       "      <td>1.125490e+18</td>\n",
       "      <td>SenatorFischer</td>\n",
       "      <td>2019-05-06T16:15:46-04:00</td>\n",
       "      <td>It was great to @Skype w @StuartPublicSch’s go...</td>\n",
       "      <td>Deb Fischer</td>\n",
       "      <td>Sen</td>\n",
       "      <td>3-Jan-13</td>\n",
       "      <td>3/1/1951</td>\n",
       "      <td>F</td>\n",
       "      <td>NE</td>\n",
       "      <td>Senate</td>\n",
       "      <td>Republican</td>\n",
       "      <td>495,961</td>\n",
       "      <td>284,494</td>\n",
       "      <td>302,081</td>\n",
       "      <td>475,064</td>\n",
       "    </tr>\n",
       "    <tr>\n",
       "      <th>2</th>\n",
       "      <td>866557</td>\n",
       "      <td>1.166860e+18</td>\n",
       "      <td>RepDonBeyer</td>\n",
       "      <td>2019-08-28T19:44:44-04:00</td>\n",
       "      <td>RT @brianstelter 170 days.\\n\\nhttp://www.cnn.c...</td>\n",
       "      <td>Don Beyer</td>\n",
       "      <td>Rep</td>\n",
       "      <td>3-Jan-15</td>\n",
       "      <td>6/20/1950</td>\n",
       "      <td>M</td>\n",
       "      <td>VA</td>\n",
       "      <td>8</td>\n",
       "      <td>Democrat</td>\n",
       "      <td>1,769,443</td>\n",
       "      <td>1,981,473</td>\n",
       "      <td>1,971,820</td>\n",
       "      <td>1,822,522</td>\n",
       "    </tr>\n",
       "    <tr>\n",
       "      <th>3</th>\n",
       "      <td>168486</td>\n",
       "      <td>1.242860e+18</td>\n",
       "      <td>SenatorBennet</td>\n",
       "      <td>2020-03-25T13:14:12-04:00</td>\n",
       "      <td>@SenateDems We fought hard to make sure nonpro...</td>\n",
       "      <td>Michael Bennet</td>\n",
       "      <td>Sen</td>\n",
       "      <td>21-Jan-09</td>\n",
       "      <td>11/28/1964</td>\n",
       "      <td>M</td>\n",
       "      <td>CO</td>\n",
       "      <td>Senate</td>\n",
       "      <td>Democrat</td>\n",
       "      <td>1,202,484</td>\n",
       "      <td>1,338,870</td>\n",
       "      <td>1,323,102</td>\n",
       "      <td>1,185,243</td>\n",
       "    </tr>\n",
       "    <tr>\n",
       "      <th>4</th>\n",
       "      <td>507812</td>\n",
       "      <td>1.126490e+18</td>\n",
       "      <td>RepSires</td>\n",
       "      <td>2019-05-09T10:26:11-04:00</td>\n",
       "      <td>This illegal act shows once again there is no ...</td>\n",
       "      <td>Albio Sires</td>\n",
       "      <td>Rep</td>\n",
       "      <td>3-Jan-13</td>\n",
       "      <td>1/26/1951</td>\n",
       "      <td>M</td>\n",
       "      <td>NJ</td>\n",
       "      <td>8</td>\n",
       "      <td>Democrat</td>\n",
       "      <td>1,601,933</td>\n",
       "      <td>2,148,278</td>\n",
       "      <td>2,125,101</td>\n",
       "      <td>1,477,568</td>\n",
       "    </tr>\n",
       "  </tbody>\n",
       "</table>\n",
       "</div>"
      ],
      "text/plain": [
       "    index      tweet_id     screen_name                   datetime  \\\n",
       "0   11361  1.132820e+18  SenDanSullivan  2019-05-26T21:36:32-04:00   \n",
       "1  479436  1.125490e+18  SenatorFischer  2019-05-06T16:15:46-04:00   \n",
       "2  866557  1.166860e+18     RepDonBeyer  2019-08-28T19:44:44-04:00   \n",
       "3  168486  1.242860e+18   SenatorBennet  2020-03-25T13:14:12-04:00   \n",
       "4  507812  1.126490e+18        RepSires  2019-05-09T10:26:11-04:00   \n",
       "\n",
       "                                                text  name_wikipedia position  \\\n",
       "0  Sam &amp; the guys had to deal with a less exp...    Dan Sullivan      Sen   \n",
       "1  It was great to @Skype w @StuartPublicSch’s go...     Deb Fischer      Sen   \n",
       "2  RT @brianstelter 170 days.\\n\\nhttp://www.cnn.c...       Don Beyer      Rep   \n",
       "3  @SenateDems We fought hard to make sure nonpro...  Michael Bennet      Sen   \n",
       "4  This illegal act shows once again there is no ...     Albio Sires      Rep   \n",
       "\n",
       "  joined_congress_date    birthday gender state district_number       party  \\\n",
       "0             3-Jan-15  11/13/1964      M    AK          Senate  Republican   \n",
       "1             3-Jan-13    3/1/1951      F    NE          Senate  Republican   \n",
       "2             3-Jan-15   6/20/1950      M    VA               8    Democrat   \n",
       "3            21-Jan-09  11/28/1964      M    CO          Senate    Democrat   \n",
       "4             3-Jan-13   1/26/1951      M    NJ               8    Democrat   \n",
       "\n",
       "  trump_2016_state_share clinton_2016_state_share obama_2012_state_share  \\\n",
       "0                163,387                  116,454                122,640   \n",
       "1                495,961                  284,494                302,081   \n",
       "2              1,769,443                1,981,473              1,971,820   \n",
       "3              1,202,484                1,338,870              1,323,102   \n",
       "4              1,601,933                2,148,278              2,125,101   \n",
       "\n",
       "  romney_2012_state_share  \n",
       "0                 164,676  \n",
       "1                 475,064  \n",
       "2               1,822,522  \n",
       "3               1,185,243  \n",
       "4               1,477,568  "
      ]
     },
     "execution_count": 4,
     "metadata": {},
     "output_type": "execute_result"
    }
   ],
   "source": [
    "# drop NA in the 'text' column \n",
    "congress_tweets = congress_tweets.dropna(subset = ['text']).reset_index()\n",
    "congress_tweets.head()"
   ]
  },
  {
   "cell_type": "code",
   "execution_count": 5,
   "metadata": {},
   "outputs": [
    {
     "data": {
      "text/plain": [
       "0      Sam &amp; the guys had to deal with a less exp...\n",
       "1      It was great to @Skype w @StuartPublicSch’s go...\n",
       "2      RT @brianstelter 170 days.\\n\\nhttp://www.cnn.c...\n",
       "3      @SenateDems We fought hard to make sure nonpro...\n",
       "4      This illegal act shows once again there is no ...\n",
       "                             ...                        \n",
       "995    Protecting our Great Lakes is part of our DNA ...\n",
       "996    Implementing #Huawei technology into national ...\n",
       "997    Sarah Pitlyk lacks the basic qualifications an...\n",
       "998    For the fourth consecutive day, Mississippi's ...\n",
       "999    They provide needed relief for local restauran...\n",
       "Name: text, Length: 1000, dtype: object"
      ]
     },
     "execution_count": 5,
     "metadata": {},
     "output_type": "execute_result"
    }
   ],
   "source": [
    "# look at the \"text\" column \n",
    "text = congress_tweets['text']\n",
    "text"
   ]
  },
  {
   "cell_type": "code",
   "execution_count": 6,
   "metadata": {},
   "outputs": [
    {
     "data": {
      "text/plain": [
       "'Sam &amp; the guys had to deal with a less experienced teammate (me). But we did make it onto the podium for 3rd place, and my teammates were gracious. Fortunately, Sam’s all-time race record of 1:09 still stands! Congrats to the winners and all who competed. #Kodiak #crabfest2019'"
      ]
     },
     "execution_count": 6,
     "metadata": {},
     "output_type": "execute_result"
    }
   ],
   "source": [
    "# see what a tweet looks like \n",
    "congress_tweets['text'][0]"
   ]
  },
  {
   "cell_type": "code",
   "execution_count": 7,
   "metadata": {},
   "outputs": [
    {
     "data": {
      "text/plain": [
       "'RT @brianstelter 170 days.\\n\\nhttp://www.cnn.com/2019/08/28/politics/trump-white-house-daily-press-briefing/index.html'"
      ]
     },
     "execution_count": 7,
     "metadata": {},
     "output_type": "execute_result"
    }
   ],
   "source": [
    "congress_tweets['text'][2]"
   ]
  },
  {
   "cell_type": "markdown",
   "metadata": {},
   "source": [
    "In addition to words with substantial meanings, we can see many symbols like @, #, &, http://, and perhaps emojis (is flag an emoji?). Let's remove URLs first. "
   ]
  },
  {
   "cell_type": "code",
   "execution_count": 8,
   "metadata": {},
   "outputs": [],
   "source": [
    "import re\n",
    "def remove_URL(sample):\n",
    "    return re.sub(r\"http\\S+\", \"\", sample)"
   ]
  },
  {
   "cell_type": "code",
   "execution_count": 9,
   "metadata": {},
   "outputs": [],
   "source": [
    "congress_tweets['text_URLremoved'] = congress_tweets['text'].map(lambda x: remove_URL(x))"
   ]
  },
  {
   "cell_type": "code",
   "execution_count": 10,
   "metadata": {},
   "outputs": [
    {
     "data": {
      "text/plain": [
       "'RT @brianstelter 170 days.\\n\\n'"
      ]
     },
     "execution_count": 10,
     "metadata": {},
     "output_type": "execute_result"
    }
   ],
   "source": [
    "congress_tweets['text_URLremoved'][2]"
   ]
  },
  {
   "cell_type": "markdown",
   "metadata": {},
   "source": [
    "URLs are now removed, but we still have new-line indicators and abbreviations such as 'RT' (retweet) and 'QT'(quote a tweet), which are not helpful in classification. Let's integrate removal of new-line indicators and abbreviations in the rem_punc_stop() function, and apply that function to see what we can get. \n",
    "\n",
    "(We acknowledge that our team is not the most familiar with Twitter data, and thus may have missed other commonly used abbreviations on this platform. If we were conducting this analysis in a real-world setting, we would intentionally solicit expert feedback on this pre-processing step to ensure we begin our analysis with the cleanest data possible)."
   ]
  },
  {
   "cell_type": "code",
   "execution_count": 11,
   "metadata": {},
   "outputs": [],
   "source": [
    "# define the punctuation and stop words remove function \n",
    "def rem_punc_stop(text):\n",
    "    stop_words = STOP_WORDS\n",
    "    \n",
    "    nlp.Defaults.stop_words |= {\"\\n\\n\", \"\\n \\n\" \"\\n\", \"RT\", \"QT\", \"rt\", \"qt\", \"amp\"} \n",
    "    \n",
    "    punc = set(punctuation)\n",
    "    \n",
    "    punc_free = \"\".join([ch for ch in text if ch not in punc])\n",
    "    \n",
    "    doc = nlp(punc_free)\n",
    "    \n",
    "    spacy_words = [token.text for token in doc]\n",
    "    \n",
    "    spacy_words = [word for word in spacy_words if not word.startswith('http')]\n",
    "    \n",
    "    no_stop = [word for word in spacy_words if word not in stop_words]\n",
    "    \n",
    "    return no_stop"
   ]
  },
  {
   "cell_type": "code",
   "execution_count": 12,
   "metadata": {},
   "outputs": [],
   "source": [
    "# apply rem_punc_stop() to 'text' column to get a tokenized list of 'text' with stop words and puncutation removed \n",
    "congress_tweets['tokens'] = congress_tweets['text_URLremoved'].map(lambda x: rem_punc_stop(x))\n",
    "# this step adds a new column 'token' to the original dadaframe "
   ]
  },
  {
   "cell_type": "code",
   "execution_count": 13,
   "metadata": {},
   "outputs": [
    {
     "data": {
      "text/plain": [
       "0      [Sam, guys, deal, experienced, teammate, But, ...\n",
       "1      [It, great, Skype, w, StuartPublicSch, governm...\n",
       "2                              [brianstelter, 170, days]\n",
       "3      [SenateDems, We, fought, hard, sure, nonprofit...\n",
       "4      [This, illegal, act, shows, rule, law, Maduro,...\n",
       "                             ...                        \n",
       "995    [Protecting, Great, Lakes, DNA, Michiganders, ...\n",
       "996    [Implementing, Huawei, technology, national, i...\n",
       "997    [Sarah, Pitlyk, lacks, basic, qualifications, ...\n",
       "998    [For, fourth, consecutive, day, Mississippis, ...\n",
       "999    [They, provide, needed, relief, local, restaur...\n",
       "Name: tokens, Length: 1000, dtype: object"
      ]
     },
     "execution_count": 13,
     "metadata": {},
     "output_type": "execute_result"
    }
   ],
   "source": [
    "congress_tweets['tokens']"
   ]
  },
  {
   "cell_type": "code",
   "execution_count": 14,
   "metadata": {},
   "outputs": [
    {
     "data": {
      "text/plain": [
       "['Sam',\n",
       " 'guys',\n",
       " 'deal',\n",
       " 'experienced',\n",
       " 'teammate',\n",
       " 'But',\n",
       " 'podium',\n",
       " '3rd',\n",
       " 'place',\n",
       " 'teammates',\n",
       " 'gracious',\n",
       " 'Fortunately',\n",
       " 'Sam',\n",
       " 'alltime',\n",
       " 'race',\n",
       " 'record',\n",
       " '109',\n",
       " 'stands',\n",
       " 'Congrats',\n",
       " 'winners',\n",
       " 'competed',\n",
       " 'Kodiak',\n",
       " 'crabfest2019']"
      ]
     },
     "execution_count": 14,
     "metadata": {},
     "output_type": "execute_result"
    }
   ],
   "source": [
    "# see tokens in some tweets\n",
    "congress_tweets['tokens'][0]"
   ]
  },
  {
   "cell_type": "code",
   "execution_count": 15,
   "metadata": {},
   "outputs": [
    {
     "data": {
      "text/plain": [
       "['brianstelter', '170', 'days']"
      ]
     },
     "execution_count": 15,
     "metadata": {},
     "output_type": "execute_result"
    }
   ],
   "source": [
    "congress_tweets['tokens'][2]"
   ]
  },
  {
   "cell_type": "markdown",
   "metadata": {},
   "source": [
    "The tokens seem good. Let's use WordCloud to see if the most frequent words and their size according to frequency sound meaningful. "
   ]
  },
  {
   "cell_type": "code",
   "execution_count": 16,
   "metadata": {},
   "outputs": [
    {
     "data": {
      "image/png": "[encoded data removed]",
      "text/plain": [
       "<Figure size 432x288 with 1 Axes>"
      ]
     },
     "metadata": {
      "needs_background": "light"
     },
     "output_type": "display_data"
    }
   ],
   "source": [
    "text = ' '.join(congress_tweets['tokens'].map(lambda text: ' '.join(text))) \n",
    "wordcloud = WordCloud().generate(text)\n",
    "plt.imshow(wordcloud, interpolation = 'bilinear')\n",
    "plt.axis('off')\n",
    "plt.show()"
   ]
  },
  {
   "cell_type": "markdown",
   "metadata": {},
   "source": [
    "The word clouds seems make sense. Now we move to EDA. (Word clouds is also an EDA approach but here I use it more like a sanity check)."
   ]
  },
  {
   "cell_type": "code",
   "execution_count": 17,
   "metadata": {},
   "outputs": [],
   "source": [
    "# Delete empty cells/tokens (keep tweets with >2 characters after pre-processing) and remove line breaks\n",
    "\n",
    "#Drop token that are just brackets\n",
    "congress_tweets['length_tokens']=congress_tweets['tokens'].str.len()\n",
    "congress_tweets_notempty=pd.DataFrame(congress_tweets[congress_tweets['length_tokens']>2])\n",
    "\n",
    "#Length of smallest tweet\n",
    "congress_tweets_notempty['tokens'].str.len().min()\n",
    "\n",
    "#Remove line breaks\n",
    "def remove_lbreaks(text):\n",
    "    line_breaks = re.compile('\\n')\n",
    "    return line_breaks.sub(r'', text)\n",
    "\n",
    "#Passing function to 'text'\n",
    "congress_tweets_notempty['text'] = congress_tweets_notempty['text'].apply(remove_lbreaks)"
   ]
  },
  {
   "cell_type": "markdown",
   "metadata": {},
   "source": [
    "## Exploratory Data Analysis"
   ]
  },
  {
   "cell_type": "markdown",
   "metadata": {},
   "source": [
    "Use two of the techniques we covered in lab (or other techniques outside of lab!) to explore the text of the tweets. You should construct these visualizations with an eye toward the eventual classification tasks: (1) predicting the legislator's political party based on the text of their tweet, and (2) predicting whether the legislator is a Senator or Representative. As a reminder, in lab we covered word frequencies, word clouds, word/character counts, scattertext, and topic modeling as possible exploration tools. "
   ]
  },
  {
   "cell_type": "markdown",
   "metadata": {},
   "source": [
    "### EDA 1 visualizing n-grams"
   ]
  },
  {
   "cell_type": "code",
   "execution_count": 18,
   "metadata": {},
   "outputs": [
    {
     "data": {
      "text/plain": [
       "0      Sam guys deal experienced teammate But podium ...\n",
       "1      It great Skype w StuartPublicSch government cl...\n",
       "2                                  brianstelter 170 days\n",
       "3      SenateDems We fought hard sure nonprofits size...\n",
       "4      This illegal act shows rule law Maduro Venezue...\n",
       "                             ...                        \n",
       "995    Protecting Great Lakes DNA Michiganders critic...\n",
       "996    Implementing Huawei technology national infras...\n",
       "997    Sarah Pitlyk lacks basic qualifications experi...\n",
       "998    For fourth consecutive day Mississippis number...\n",
       "999    They provide needed relief local restaurants l...\n",
       "Name: tokens, Length: 991, dtype: object"
      ]
     },
     "execution_count": 18,
     "metadata": {},
     "output_type": "execute_result"
    }
   ],
   "source": [
    "# collapse our tokens back into strings with the join() string method.\n",
    "congress_tweets_notempty['tokens'] = congress_tweets_notempty['tokens'].map(lambda text: ' '.join(text))\n",
    "congress_tweets_notempty['tokens']"
   ]
  },
  {
   "cell_type": "code",
   "execution_count": 19,
   "metadata": {},
   "outputs": [
    {
     "data": {
      "text/html": [
       "<div>\n",
       "<style scoped>\n",
       "    .dataframe tbody tr th:only-of-type {\n",
       "        vertical-align: middle;\n",
       "    }\n",
       "\n",
       "    .dataframe tbody tr th {\n",
       "        vertical-align: top;\n",
       "    }\n",
       "\n",
       "    .dataframe thead th {\n",
       "        text-align: right;\n",
       "    }\n",
       "</style>\n",
       "<table border=\"1\" class=\"dataframe\">\n",
       "  <thead>\n",
       "    <tr style=\"text-align: right;\">\n",
       "      <th></th>\n",
       "      <th>index</th>\n",
       "      <th>tweet_id</th>\n",
       "      <th>screen_name</th>\n",
       "      <th>datetime</th>\n",
       "      <th>text</th>\n",
       "      <th>name_wikipedia</th>\n",
       "      <th>position</th>\n",
       "      <th>joined_congress_date</th>\n",
       "      <th>birthday</th>\n",
       "      <th>gender</th>\n",
       "      <th>state</th>\n",
       "      <th>district_number</th>\n",
       "      <th>party</th>\n",
       "      <th>trump_2016_state_share</th>\n",
       "      <th>clinton_2016_state_share</th>\n",
       "      <th>obama_2012_state_share</th>\n",
       "      <th>romney_2012_state_share</th>\n",
       "      <th>text_URLremoved</th>\n",
       "      <th>tokens</th>\n",
       "      <th>length_tokens</th>\n",
       "    </tr>\n",
       "  </thead>\n",
       "  <tbody>\n",
       "    <tr>\n",
       "      <th>0</th>\n",
       "      <td>11361</td>\n",
       "      <td>1.132820e+18</td>\n",
       "      <td>SenDanSullivan</td>\n",
       "      <td>2019-05-26T21:36:32-04:00</td>\n",
       "      <td>Sam &amp;amp; the guys had to deal with a less exp...</td>\n",
       "      <td>Dan Sullivan</td>\n",
       "      <td>Sen</td>\n",
       "      <td>3-Jan-15</td>\n",
       "      <td>11/13/1964</td>\n",
       "      <td>M</td>\n",
       "      <td>AK</td>\n",
       "      <td>Senate</td>\n",
       "      <td>Republican</td>\n",
       "      <td>163,387</td>\n",
       "      <td>116,454</td>\n",
       "      <td>122,640</td>\n",
       "      <td>164,676</td>\n",
       "      <td>Sam &amp;amp; the guys had to deal with a less exp...</td>\n",
       "      <td>Sam guys deal experienced teammate But podium ...</td>\n",
       "      <td>23</td>\n",
       "    </tr>\n",
       "    <tr>\n",
       "      <th>1</th>\n",
       "      <td>479436</td>\n",
       "      <td>1.125490e+18</td>\n",
       "      <td>SenatorFischer</td>\n",
       "      <td>2019-05-06T16:15:46-04:00</td>\n",
       "      <td>It was great to @Skype w @StuartPublicSch’s go...</td>\n",
       "      <td>Deb Fischer</td>\n",
       "      <td>Sen</td>\n",
       "      <td>3-Jan-13</td>\n",
       "      <td>3/1/1951</td>\n",
       "      <td>F</td>\n",
       "      <td>NE</td>\n",
       "      <td>Senate</td>\n",
       "      <td>Republican</td>\n",
       "      <td>495,961</td>\n",
       "      <td>284,494</td>\n",
       "      <td>302,081</td>\n",
       "      <td>475,064</td>\n",
       "      <td>It was great to @Skype w @StuartPublicSch’s go...</td>\n",
       "      <td>It great Skype w StuartPublicSch government cl...</td>\n",
       "      <td>24</td>\n",
       "    </tr>\n",
       "  </tbody>\n",
       "</table>\n",
       "</div>"
      ],
      "text/plain": [
       "    index      tweet_id     screen_name                   datetime  \\\n",
       "0   11361  1.132820e+18  SenDanSullivan  2019-05-26T21:36:32-04:00   \n",
       "1  479436  1.125490e+18  SenatorFischer  2019-05-06T16:15:46-04:00   \n",
       "\n",
       "                                                text name_wikipedia position  \\\n",
       "0  Sam &amp; the guys had to deal with a less exp...   Dan Sullivan      Sen   \n",
       "1  It was great to @Skype w @StuartPublicSch’s go...    Deb Fischer      Sen   \n",
       "\n",
       "  joined_congress_date    birthday gender state district_number       party  \\\n",
       "0             3-Jan-15  11/13/1964      M    AK          Senate  Republican   \n",
       "1             3-Jan-13    3/1/1951      F    NE          Senate  Republican   \n",
       "\n",
       "  trump_2016_state_share clinton_2016_state_share obama_2012_state_share  \\\n",
       "0                163,387                  116,454                122,640   \n",
       "1                495,961                  284,494                302,081   \n",
       "\n",
       "  romney_2012_state_share                                    text_URLremoved  \\\n",
       "0                 164,676  Sam &amp; the guys had to deal with a less exp...   \n",
       "1                 475,064  It was great to @Skype w @StuartPublicSch’s go...   \n",
       "\n",
       "                                              tokens  length_tokens  \n",
       "0  Sam guys deal experienced teammate But podium ...             23  \n",
       "1  It great Skype w StuartPublicSch government cl...             24  "
      ]
     },
     "execution_count": 19,
     "metadata": {},
     "output_type": "execute_result"
    }
   ],
   "source": [
    "congress_tweets_notempty.head(2)"
   ]
  },
  {
   "cell_type": "code",
   "execution_count": 20,
   "metadata": {},
   "outputs": [
    {
     "name": "stderr",
     "output_type": "stream",
     "text": [
      "/Users/rachel/miniforge3/lib/python3.9/site-packages/sklearn/feature_extraction/text.py:396: UserWarning: Your stop_words may be inconsistent with your preprocessing. Tokenizing the stop words generated tokens ['ll', 've'] not in stop_words.\n",
      "  warnings.warn(\n",
      "/Users/rachel/miniforge3/lib/python3.9/site-packages/sklearn/utils/deprecation.py:87: FutureWarning: Function get_feature_names is deprecated; get_feature_names is deprecated in 1.0 and will be removed in 1.2. Please use get_feature_names_out instead.\n",
      "  warnings.warn(msg, category=FutureWarning)\n"
     ]
    }
   ],
   "source": [
    "# initialize the BOW countervectorizer\n",
    "# the ngram_range argument. ngram_range=(1,2) is do to a unigram (1-gram) and a bigram (2-gram) \n",
    "countvec = CountVectorizer(stop_words=STOP_WORDS, ngram_range=(2,3)) # n-gram is a bigram and a 3-gram\n",
    "ngrams = countvec.fit_transform(congress_tweets_notempty['tokens'])\n",
    "\n",
    "dictionary_dataframe = pd.DataFrame(ngrams.todense(), columns = countvec.get_feature_names())"
   ]
  },
  {
   "cell_type": "code",
   "execution_count": 21,
   "metadata": {},
   "outputs": [
    {
     "data": {
      "text/html": [
       "<div>\n",
       "<style scoped>\n",
       "    .dataframe tbody tr th:only-of-type {\n",
       "        vertical-align: middle;\n",
       "    }\n",
       "\n",
       "    .dataframe tbody tr th {\n",
       "        vertical-align: top;\n",
       "    }\n",
       "\n",
       "    .dataframe thead th {\n",
       "        text-align: right;\n",
       "    }\n",
       "</style>\n",
       "<table border=\"1\" class=\"dataframe\">\n",
       "  <thead>\n",
       "    <tr style=\"text-align: right;\">\n",
       "      <th></th>\n",
       "      <th>10 celebrated</th>\n",
       "      <th>10 celebrated harriet</th>\n",
       "      <th>10 covid</th>\n",
       "      <th>10 covid states</th>\n",
       "      <th>10 million</th>\n",
       "      <th>10 million scientist</th>\n",
       "      <th>10 people</th>\n",
       "      <th>10 pm</th>\n",
       "      <th>10 pm week</th>\n",
       "      <th>10 years</th>\n",
       "      <th>...</th>\n",
       "      <th>zip code</th>\n",
       "      <th>zip code economic</th>\n",
       "      <th>zones act</th>\n",
       "      <th>zones act repanthonybrown</th>\n",
       "      <th>zones expand</th>\n",
       "      <th>zones expand exact</th>\n",
       "      <th>zoo nt</th>\n",
       "      <th>zoo nt know</th>\n",
       "      <th>zulu acherry13</th>\n",
       "      <th>zulu acherry13 gov</th>\n",
       "    </tr>\n",
       "  </thead>\n",
       "  <tbody>\n",
       "    <tr>\n",
       "      <th>0</th>\n",
       "      <td>0</td>\n",
       "      <td>0</td>\n",
       "      <td>0</td>\n",
       "      <td>0</td>\n",
       "      <td>0</td>\n",
       "      <td>0</td>\n",
       "      <td>0</td>\n",
       "      <td>0</td>\n",
       "      <td>0</td>\n",
       "      <td>0</td>\n",
       "      <td>...</td>\n",
       "      <td>0</td>\n",
       "      <td>0</td>\n",
       "      <td>0</td>\n",
       "      <td>0</td>\n",
       "      <td>0</td>\n",
       "      <td>0</td>\n",
       "      <td>0</td>\n",
       "      <td>0</td>\n",
       "      <td>0</td>\n",
       "      <td>0</td>\n",
       "    </tr>\n",
       "    <tr>\n",
       "      <th>1</th>\n",
       "      <td>0</td>\n",
       "      <td>0</td>\n",
       "      <td>0</td>\n",
       "      <td>0</td>\n",
       "      <td>0</td>\n",
       "      <td>0</td>\n",
       "      <td>0</td>\n",
       "      <td>0</td>\n",
       "      <td>0</td>\n",
       "      <td>0</td>\n",
       "      <td>...</td>\n",
       "      <td>0</td>\n",
       "      <td>0</td>\n",
       "      <td>0</td>\n",
       "      <td>0</td>\n",
       "      <td>0</td>\n",
       "      <td>0</td>\n",
       "      <td>0</td>\n",
       "      <td>0</td>\n",
       "      <td>0</td>\n",
       "      <td>0</td>\n",
       "    </tr>\n",
       "    <tr>\n",
       "      <th>2</th>\n",
       "      <td>0</td>\n",
       "      <td>0</td>\n",
       "      <td>0</td>\n",
       "      <td>0</td>\n",
       "      <td>0</td>\n",
       "      <td>0</td>\n",
       "      <td>0</td>\n",
       "      <td>0</td>\n",
       "      <td>0</td>\n",
       "      <td>0</td>\n",
       "      <td>...</td>\n",
       "      <td>0</td>\n",
       "      <td>0</td>\n",
       "      <td>0</td>\n",
       "      <td>0</td>\n",
       "      <td>0</td>\n",
       "      <td>0</td>\n",
       "      <td>0</td>\n",
       "      <td>0</td>\n",
       "      <td>0</td>\n",
       "      <td>0</td>\n",
       "    </tr>\n",
       "    <tr>\n",
       "      <th>3</th>\n",
       "      <td>0</td>\n",
       "      <td>0</td>\n",
       "      <td>0</td>\n",
       "      <td>0</td>\n",
       "      <td>0</td>\n",
       "      <td>0</td>\n",
       "      <td>0</td>\n",
       "      <td>0</td>\n",
       "      <td>0</td>\n",
       "      <td>0</td>\n",
       "      <td>...</td>\n",
       "      <td>0</td>\n",
       "      <td>0</td>\n",
       "      <td>0</td>\n",
       "      <td>0</td>\n",
       "      <td>0</td>\n",
       "      <td>0</td>\n",
       "      <td>0</td>\n",
       "      <td>0</td>\n",
       "      <td>0</td>\n",
       "      <td>0</td>\n",
       "    </tr>\n",
       "    <tr>\n",
       "      <th>4</th>\n",
       "      <td>0</td>\n",
       "      <td>0</td>\n",
       "      <td>0</td>\n",
       "      <td>0</td>\n",
       "      <td>0</td>\n",
       "      <td>0</td>\n",
       "      <td>0</td>\n",
       "      <td>0</td>\n",
       "      <td>0</td>\n",
       "      <td>0</td>\n",
       "      <td>...</td>\n",
       "      <td>0</td>\n",
       "      <td>0</td>\n",
       "      <td>0</td>\n",
       "      <td>0</td>\n",
       "      <td>0</td>\n",
       "      <td>0</td>\n",
       "      <td>0</td>\n",
       "      <td>0</td>\n",
       "      <td>0</td>\n",
       "      <td>0</td>\n",
       "    </tr>\n",
       "  </tbody>\n",
       "</table>\n",
       "<p>5 rows × 36121 columns</p>\n",
       "</div>"
      ],
      "text/plain": [
       "   10 celebrated  10 celebrated harriet  10 covid  10 covid states  \\\n",
       "0              0                      0         0                0   \n",
       "1              0                      0         0                0   \n",
       "2              0                      0         0                0   \n",
       "3              0                      0         0                0   \n",
       "4              0                      0         0                0   \n",
       "\n",
       "   10 million  10 million scientist  10 people  10 pm  10 pm week  10 years  \\\n",
       "0           0                     0          0      0           0         0   \n",
       "1           0                     0          0      0           0         0   \n",
       "2           0                     0          0      0           0         0   \n",
       "3           0                     0          0      0           0         0   \n",
       "4           0                     0          0      0           0         0   \n",
       "\n",
       "   ...  zip code  zip code economic  zones act  zones act repanthonybrown  \\\n",
       "0  ...         0                  0          0                          0   \n",
       "1  ...         0                  0          0                          0   \n",
       "2  ...         0                  0          0                          0   \n",
       "3  ...         0                  0          0                          0   \n",
       "4  ...         0                  0          0                          0   \n",
       "\n",
       "   zones expand  zones expand exact  zoo nt  zoo nt know  zulu acherry13  \\\n",
       "0             0                   0       0            0               0   \n",
       "1             0                   0       0            0               0   \n",
       "2             0                   0       0            0               0   \n",
       "3             0                   0       0            0               0   \n",
       "4             0                   0       0            0               0   \n",
       "\n",
       "   zulu acherry13 gov  \n",
       "0                   0  \n",
       "1                   0  \n",
       "2                   0  \n",
       "3                   0  \n",
       "4                   0  \n",
       "\n",
       "[5 rows x 36121 columns]"
      ]
     },
     "execution_count": 21,
     "metadata": {},
     "output_type": "execute_result"
    }
   ],
   "source": [
    "# see how each 2-grams or 3-grams show up in each row/individual\n",
    "dictionary_dataframe.head()"
   ]
  },
  {
   "cell_type": "code",
   "execution_count": 22,
   "metadata": {},
   "outputs": [
    {
     "data": {
      "text/html": [
       "<div>\n",
       "<style scoped>\n",
       "    .dataframe tbody tr th:only-of-type {\n",
       "        vertical-align: middle;\n",
       "    }\n",
       "\n",
       "    .dataframe tbody tr th {\n",
       "        vertical-align: top;\n",
       "    }\n",
       "\n",
       "    .dataframe thead th {\n",
       "        text-align: right;\n",
       "    }\n",
       "</style>\n",
       "<table border=\"1\" class=\"dataframe\">\n",
       "  <thead>\n",
       "    <tr style=\"text-align: right;\">\n",
       "      <th></th>\n",
       "      <th>ngrams</th>\n",
       "      <th>freq</th>\n",
       "    </tr>\n",
       "  </thead>\n",
       "  <tbody>\n",
       "    <tr>\n",
       "      <th>0</th>\n",
       "      <td>american people</td>\n",
       "      <td>23</td>\n",
       "    </tr>\n",
       "    <tr>\n",
       "      <th>1</th>\n",
       "      <td>president trump</td>\n",
       "      <td>21</td>\n",
       "    </tr>\n",
       "    <tr>\n",
       "      <th>2</th>\n",
       "      <td>health care</td>\n",
       "      <td>20</td>\n",
       "    </tr>\n",
       "    <tr>\n",
       "      <th>3</th>\n",
       "      <td>trump administration</td>\n",
       "      <td>19</td>\n",
       "    </tr>\n",
       "    <tr>\n",
       "      <th>4</th>\n",
       "      <td>small businesses</td>\n",
       "      <td>17</td>\n",
       "    </tr>\n",
       "  </tbody>\n",
       "</table>\n",
       "</div>"
      ],
      "text/plain": [
       "                 ngrams  freq\n",
       "0       american people    23\n",
       "1       president trump    21\n",
       "2           health care    20\n",
       "3  trump administration    19\n",
       "4      small businesses    17"
      ]
     },
     "execution_count": 22,
     "metadata": {},
     "output_type": "execute_result"
    }
   ],
   "source": [
    "# counts how many times each of the 2-grams and 3-grams show up across all document \n",
    "df_ngram = pd.DataFrame(dictionary_dataframe.sum().reset_index()).rename(columns={'index': 'ngrams', 0:'freq'})\n",
    "df_ngram = df_ngram.sort_values(by = ['freq'], ascending = False).reset_index(drop = True)\n",
    "df_ngram.head() "
   ]
  },
  {
   "cell_type": "code",
   "execution_count": 23,
   "metadata": {
    "scrolled": true
   },
   "outputs": [
    {
     "data": {
      "image/png": "[encoded data removed]",
      "text/plain": [
       "<Figure size 432x288 with 1 Axes>"
      ]
     },
     "metadata": {
      "needs_background": "light"
     },
     "output_type": "display_data"
    }
   ],
   "source": [
    "# plot the top 25 n-grams \n",
    "sns.barplot(x=\"ngrams\", y = 'freq', data=df_ngram[0:25]) \n",
    "plt.xticks(rotation=90)\n",
    "plt.show()"
   ]
  },
  {
   "cell_type": "markdown",
   "metadata": {},
   "source": [
    "It seems the top 25 n-grams contains words that are suggestive of topics like **People** (\"american people\", \"millions americans\"), **Health** (\"health care\", \"public health\", \"mental health\"), **Government and Politics** (\"trump administration\", \"supreme court\", \"house democrats\", \"town hall\", \"house passed\"), **Country/Nation** (\"united states\", \"national securitry\"), **COVID-19** (\"wear mask\", \"social distancing\"), **Business** (\"small business\"), etc. These messages are not indicative toward our prediciton tasks but just help us know potential themes in the tweets. Let's use topic modeling to see if these topics will appear and which topics may be good predictors of party membership or senator vs. rep positions."
   ]
  },
  {
   "cell_type": "markdown",
   "metadata": {},
   "source": [
    "### EDA 2 Latent Dirichlet Allocation (LDA) for topic modeling"
   ]
  },
  {
   "cell_type": "code",
   "execution_count": 24,
   "metadata": {},
   "outputs": [],
   "source": [
    "# create tf-idf matrix \n",
    "\n",
    "X = congress_tweets_notempty['tokens']\n",
    "tf = TfidfVectorizer(tokenizer = rem_punc_stop)  # initialize the function, name it as 'tf'\n",
    "\n",
    "tfidf_matrix =  tf.fit_transform(X)  \n",
    "dense_matrix = tfidf_matrix.todense()"
   ]
  },
  {
   "cell_type": "code",
   "execution_count": 25,
   "metadata": {},
   "outputs": [
    {
     "data": {
      "text/plain": [
       "matrix([[0., 0., 0., ..., 0., 0., 0.],\n",
       "        [0., 0., 0., ..., 0., 0., 0.],\n",
       "        [0., 0., 0., ..., 0., 0., 0.],\n",
       "        ...,\n",
       "        [0., 0., 0., ..., 0., 0., 0.],\n",
       "        [0., 0., 0., ..., 0., 0., 0.],\n",
       "        [0., 0., 0., ..., 0., 0., 0.]])"
      ]
     },
     "execution_count": 25,
     "metadata": {},
     "output_type": "execute_result"
    }
   ],
   "source": [
    "dense_matrix \n",
    "# tf-idf ranges from 0 to 1. The closer to 1, the word is more distinguishing. \n",
    "# I don't see any 1?? "
   ]
  },
  {
   "cell_type": "code",
   "execution_count": 26,
   "metadata": {},
   "outputs": [
    {
     "name": "stderr",
     "output_type": "stream",
     "text": [
      "/Users/rachel/miniforge3/lib/python3.9/site-packages/sklearn/utils/validation.py:585: FutureWarning: np.matrix usage is deprecated in 1.0 and will raise a TypeError in 1.2. Please convert to a numpy array with np.asarray. For more information see: https://numpy.org/doc/stable/reference/generated/numpy.matrix.html\n",
      "  warnings.warn(\n"
     ]
    }
   ],
   "source": [
    "# apply the LDA model. set n_components= 6 to see what we get. \n",
    "lda = LatentDirichletAllocation(n_components=6, max_iter=20, random_state=0) \n",
    "\n",
    "# use LDA model to fit the data \n",
    "lda = lda.fit(dense_matrix)"
   ]
  },
  {
   "cell_type": "code",
   "execution_count": 27,
   "metadata": {},
   "outputs": [],
   "source": [
    "def print_top_words(model, feature_names, n_top_words):\n",
    "    for topic_idx, topic in enumerate(model.components_):\n",
    "        print(\"\\nTopic #{}:\".format(topic_idx))\n",
    "        print(\" \".join([feature_names[i]\n",
    "                        for i in topic.argsort()[:-n_top_words - 1:-1]]))\n",
    "    print()"
   ]
  },
  {
   "cell_type": "code",
   "execution_count": 28,
   "metadata": {},
   "outputs": [
    {
     "name": "stdout",
     "output_type": "stream",
     "text": [
      "\n",
      "Topic #0:\n",
      "     trump families ” president “ \n",
      "  act today care america relief \n",
      " border covid19 bill americans security free\n",
      "\n",
      "Topic #1:\n",
      "   today   time day \n",
      "  work thank covid19 country small act congress learn health women world \n",
      " \n",
      "  protect businesses\n",
      "\n",
      "Topic #2:\n",
      "     today new \n",
      " president people house families trump support health great week american act americans – protect ”\n",
      "\n",
      "Topic #3:\n",
      "     \n",
      "  today “ ” president congress trump time americans join act health new help live people realdonaldtrump need\n",
      "\n",
      "Topic #4:\n",
      "   \n",
      "    covid19 people need support today thank help economy president house ️ health congress bill work trump working\n",
      "\n",
      "Topic #5:\n",
      "\n",
      "    help    need health federal community president americans know \n",
      " trump fighting bill testing \n",
      " \n",
      "  national ️ public\n",
      "\n"
     ]
    },
    {
     "name": "stderr",
     "output_type": "stream",
     "text": [
      "/Users/rachel/miniforge3/lib/python3.9/site-packages/sklearn/utils/deprecation.py:87: FutureWarning: Function get_feature_names is deprecated; get_feature_names is deprecated in 1.0 and will be removed in 1.2. Please use get_feature_names_out instead.\n",
      "  warnings.warn(msg, category=FutureWarning)\n"
     ]
    }
   ],
   "source": [
    "# see the 6 topics and print out the top 20 words in each topic\n",
    "tf_feature_names = tf.get_feature_names()\n",
    "print_top_words(lda, tf_feature_names, 20) "
   ]
  },
  {
   "cell_type": "markdown",
   "metadata": {},
   "source": [
    "Based on the top 20 words in each topic, it seems topic 0, 2, 3, 4 is about COVID-19 and health care, topic 1 and 5 is about today's community and work. All of them are related to the pandemic. Overall these topics seem more interelated than distinguishable from each other. "
   ]
  },
  {
   "cell_type": "markdown",
   "metadata": {},
   "source": [
    "Now we compare the prevalence of each topic across individuals by merging the topic distribution back into the Pandas dataframe."
   ]
  },
  {
   "cell_type": "code",
   "execution_count": 29,
   "metadata": {},
   "outputs": [
    {
     "data": {
      "text/plain": [
       "array([[0.84750323, 0.03045568, 0.03047058, 0.03053955, 0.03056528,\n",
       "        0.03046568],\n",
       "       [0.02995081, 0.02987264, 0.02998733, 0.03011535, 0.85019679,\n",
       "        0.02987708],\n",
       "       [0.06140652, 0.06189021, 0.06162402, 0.06165146, 0.69204859,\n",
       "        0.0613792 ],\n",
       "       ...,\n",
       "       [0.02523732, 0.025318  , 0.02538625, 0.87366706, 0.02516874,\n",
       "        0.02522263],\n",
       "       [0.02300215, 0.02317378, 0.02280666, 0.02289908, 0.88508395,\n",
       "        0.02303438],\n",
       "       [0.03326365, 0.03327276, 0.03318553, 0.03318189, 0.03321299,\n",
       "        0.83388317]])"
      ]
     },
     "execution_count": 29,
     "metadata": {},
     "output_type": "execute_result"
    }
   ],
   "source": [
    "# get the topic distribution array\n",
    "topic_dist = lda.transform(tfidf_matrix)\n",
    "topic_dist"
   ]
  },
  {
   "cell_type": "code",
   "execution_count": 30,
   "metadata": {},
   "outputs": [
    {
     "data": {
      "text/html": [
       "<div>\n",
       "<style scoped>\n",
       "    .dataframe tbody tr th:only-of-type {\n",
       "        vertical-align: middle;\n",
       "    }\n",
       "\n",
       "    .dataframe tbody tr th {\n",
       "        vertical-align: top;\n",
       "    }\n",
       "\n",
       "    .dataframe thead th {\n",
       "        text-align: right;\n",
       "    }\n",
       "</style>\n",
       "<table border=\"1\" class=\"dataframe\">\n",
       "  <thead>\n",
       "    <tr style=\"text-align: right;\">\n",
       "      <th></th>\n",
       "      <th>0</th>\n",
       "      <th>1</th>\n",
       "      <th>2</th>\n",
       "      <th>3</th>\n",
       "      <th>4</th>\n",
       "      <th>5</th>\n",
       "      <th>level_0</th>\n",
       "      <th>index</th>\n",
       "      <th>tweet_id</th>\n",
       "      <th>screen_name</th>\n",
       "      <th>...</th>\n",
       "      <th>state</th>\n",
       "      <th>district_number</th>\n",
       "      <th>party</th>\n",
       "      <th>trump_2016_state_share</th>\n",
       "      <th>clinton_2016_state_share</th>\n",
       "      <th>obama_2012_state_share</th>\n",
       "      <th>romney_2012_state_share</th>\n",
       "      <th>text_URLremoved</th>\n",
       "      <th>tokens</th>\n",
       "      <th>length_tokens</th>\n",
       "    </tr>\n",
       "  </thead>\n",
       "  <tbody>\n",
       "    <tr>\n",
       "      <th>0</th>\n",
       "      <td>0.847503</td>\n",
       "      <td>0.030456</td>\n",
       "      <td>0.030471</td>\n",
       "      <td>0.030540</td>\n",
       "      <td>0.030565</td>\n",
       "      <td>0.030466</td>\n",
       "      <td>0</td>\n",
       "      <td>11361</td>\n",
       "      <td>1.132820e+18</td>\n",
       "      <td>SenDanSullivan</td>\n",
       "      <td>...</td>\n",
       "      <td>AK</td>\n",
       "      <td>Senate</td>\n",
       "      <td>Republican</td>\n",
       "      <td>163,387</td>\n",
       "      <td>116,454</td>\n",
       "      <td>122,640</td>\n",
       "      <td>164,676</td>\n",
       "      <td>Sam &amp;amp; the guys had to deal with a less exp...</td>\n",
       "      <td>Sam guys deal experienced teammate But podium ...</td>\n",
       "      <td>23</td>\n",
       "    </tr>\n",
       "    <tr>\n",
       "      <th>1</th>\n",
       "      <td>0.029951</td>\n",
       "      <td>0.029873</td>\n",
       "      <td>0.029987</td>\n",
       "      <td>0.030115</td>\n",
       "      <td>0.850197</td>\n",
       "      <td>0.029877</td>\n",
       "      <td>1</td>\n",
       "      <td>479436</td>\n",
       "      <td>1.125490e+18</td>\n",
       "      <td>SenatorFischer</td>\n",
       "      <td>...</td>\n",
       "      <td>NE</td>\n",
       "      <td>Senate</td>\n",
       "      <td>Republican</td>\n",
       "      <td>495,961</td>\n",
       "      <td>284,494</td>\n",
       "      <td>302,081</td>\n",
       "      <td>475,064</td>\n",
       "      <td>It was great to @Skype w @StuartPublicSch’s go...</td>\n",
       "      <td>It great Skype w StuartPublicSch government cl...</td>\n",
       "      <td>24</td>\n",
       "    </tr>\n",
       "    <tr>\n",
       "      <th>2</th>\n",
       "      <td>0.061407</td>\n",
       "      <td>0.061890</td>\n",
       "      <td>0.061624</td>\n",
       "      <td>0.061651</td>\n",
       "      <td>0.692049</td>\n",
       "      <td>0.061379</td>\n",
       "      <td>2</td>\n",
       "      <td>866557</td>\n",
       "      <td>1.166860e+18</td>\n",
       "      <td>RepDonBeyer</td>\n",
       "      <td>...</td>\n",
       "      <td>VA</td>\n",
       "      <td>8</td>\n",
       "      <td>Democrat</td>\n",
       "      <td>1,769,443</td>\n",
       "      <td>1,981,473</td>\n",
       "      <td>1,971,820</td>\n",
       "      <td>1,822,522</td>\n",
       "      <td>RT @brianstelter 170 days.\\n\\n</td>\n",
       "      <td>brianstelter 170 days</td>\n",
       "      <td>3</td>\n",
       "    </tr>\n",
       "    <tr>\n",
       "      <th>3</th>\n",
       "      <td>0.031217</td>\n",
       "      <td>0.031109</td>\n",
       "      <td>0.031053</td>\n",
       "      <td>0.031192</td>\n",
       "      <td>0.031204</td>\n",
       "      <td>0.844225</td>\n",
       "      <td>3</td>\n",
       "      <td>168486</td>\n",
       "      <td>1.242860e+18</td>\n",
       "      <td>SenatorBennet</td>\n",
       "      <td>...</td>\n",
       "      <td>CO</td>\n",
       "      <td>Senate</td>\n",
       "      <td>Democrat</td>\n",
       "      <td>1,202,484</td>\n",
       "      <td>1,338,870</td>\n",
       "      <td>1,323,102</td>\n",
       "      <td>1,185,243</td>\n",
       "      <td>@SenateDems We fought hard to make sure nonpro...</td>\n",
       "      <td>SenateDems We fought hard sure nonprofits size...</td>\n",
       "      <td>21</td>\n",
       "    </tr>\n",
       "    <tr>\n",
       "      <th>4</th>\n",
       "      <td>0.827898</td>\n",
       "      <td>0.034386</td>\n",
       "      <td>0.034415</td>\n",
       "      <td>0.034561</td>\n",
       "      <td>0.034385</td>\n",
       "      <td>0.034355</td>\n",
       "      <td>4</td>\n",
       "      <td>507812</td>\n",
       "      <td>1.126490e+18</td>\n",
       "      <td>RepSires</td>\n",
       "      <td>...</td>\n",
       "      <td>NJ</td>\n",
       "      <td>8</td>\n",
       "      <td>Democrat</td>\n",
       "      <td>1,601,933</td>\n",
       "      <td>2,148,278</td>\n",
       "      <td>2,125,101</td>\n",
       "      <td>1,477,568</td>\n",
       "      <td>This illegal act shows once again there is no ...</td>\n",
       "      <td>This illegal act shows rule law Maduro Venezue...</td>\n",
       "      <td>20</td>\n",
       "    </tr>\n",
       "  </tbody>\n",
       "</table>\n",
       "<p>5 rows × 27 columns</p>\n",
       "</div>"
      ],
      "text/plain": [
       "          0         1         2         3         4         5  level_0  \\\n",
       "0  0.847503  0.030456  0.030471  0.030540  0.030565  0.030466        0   \n",
       "1  0.029951  0.029873  0.029987  0.030115  0.850197  0.029877        1   \n",
       "2  0.061407  0.061890  0.061624  0.061651  0.692049  0.061379        2   \n",
       "3  0.031217  0.031109  0.031053  0.031192  0.031204  0.844225        3   \n",
       "4  0.827898  0.034386  0.034415  0.034561  0.034385  0.034355        4   \n",
       "\n",
       "    index      tweet_id     screen_name  ... state district_number  \\\n",
       "0   11361  1.132820e+18  SenDanSullivan  ...    AK          Senate   \n",
       "1  479436  1.125490e+18  SenatorFischer  ...    NE          Senate   \n",
       "2  866557  1.166860e+18     RepDonBeyer  ...    VA               8   \n",
       "3  168486  1.242860e+18   SenatorBennet  ...    CO          Senate   \n",
       "4  507812  1.126490e+18        RepSires  ...    NJ               8   \n",
       "\n",
       "        party trump_2016_state_share clinton_2016_state_share  \\\n",
       "0  Republican                163,387                  116,454   \n",
       "1  Republican                495,961                  284,494   \n",
       "2    Democrat              1,769,443                1,981,473   \n",
       "3    Democrat              1,202,484                1,338,870   \n",
       "4    Democrat              1,601,933                2,148,278   \n",
       "\n",
       "  obama_2012_state_share romney_2012_state_share  \\\n",
       "0                122,640                 164,676   \n",
       "1                302,081                 475,064   \n",
       "2              1,971,820               1,822,522   \n",
       "3              1,323,102               1,185,243   \n",
       "4              2,125,101               1,477,568   \n",
       "\n",
       "                                     text_URLremoved  \\\n",
       "0  Sam &amp; the guys had to deal with a less exp...   \n",
       "1  It was great to @Skype w @StuartPublicSch’s go...   \n",
       "2                     RT @brianstelter 170 days.\\n\\n   \n",
       "3  @SenateDems We fought hard to make sure nonpro...   \n",
       "4  This illegal act shows once again there is no ...   \n",
       "\n",
       "                                              tokens length_tokens  \n",
       "0  Sam guys deal experienced teammate But podium ...            23  \n",
       "1  It great Skype w StuartPublicSch government cl...            24  \n",
       "2                              brianstelter 170 days             3  \n",
       "3  SenateDems We fought hard sure nonprofits size...            21  \n",
       "4  This illegal act shows rule law Maduro Venezue...            20  \n",
       "\n",
       "[5 rows x 27 columns]"
      ]
     },
     "execution_count": 30,
     "metadata": {},
     "output_type": "execute_result"
    }
   ],
   "source": [
    "# merge back with original dataframe\n",
    "topic_dist_df = pd.DataFrame(topic_dist)\n",
    "df_w_topics = topic_dist_df.join(congress_tweets_notempty.reset_index())\n",
    "df_w_topics.head(5)\n"
   ]
  },
  {
   "cell_type": "markdown",
   "metadata": {},
   "source": [
    "In each row (which is each person's tweet), we can see the percentages represent the proportion of variation explained by each topic. For example for person 0, topic 1 explains more variations (0.847596), for person 1, topic 2 explain more variations. Now we can check the average weight of each topic across 'party' (each person's party membership) using *groupby*."
   ]
  },
  {
   "cell_type": "code",
   "execution_count": 31,
   "metadata": {},
   "outputs": [
    {
     "name": "stdout",
     "output_type": "stream",
     "text": [
      "party\n",
      "Independent    0.231200\n",
      "Democrat       0.178804\n",
      "Republican     0.167153\n",
      "Name: 0, dtype: float64\n",
      "party\n",
      "Democrat       0.164280\n",
      "Republican     0.158846\n",
      "Independent    0.031377\n",
      "Name: 1, dtype: float64\n",
      "party\n",
      "Democrat       0.176374\n",
      "Republican     0.172609\n",
      "Independent    0.031385\n",
      "Name: 2, dtype: float64\n",
      "party\n",
      "Independent    0.234444\n",
      "Democrat       0.177786\n",
      "Republican     0.166878\n",
      "Name: 3, dtype: float64\n",
      "party\n",
      "Independent    0.234469\n",
      "Republican     0.199155\n",
      "Democrat       0.158620\n",
      "Name: 4, dtype: float64\n",
      "party\n",
      "Independent    0.237125\n",
      "Democrat       0.144136\n",
      "Republican     0.135358\n",
      "Name: 5, dtype: float64\n"
     ]
    }
   ],
   "source": [
    "# check the average weight of each topic across 'party' \n",
    "grouped = df_w_topics.groupby('party')\n",
    "for i in range(0, 6):\n",
    "    print(grouped[i].mean().sort_values(ascending=False))"
   ]
  },
  {
   "cell_type": "markdown",
   "metadata": {},
   "source": [
    "Topic 2 seems to have fair separation between Independent or Republican/Democrat, so do topic 0 and 3. This aligns with our impression on the initial redults of topic modeling (i.e., overall these topics seem more interelated than distinguishable from each other). Let's plot topic 2 by party. "
   ]
  },
  {
   "cell_type": "code",
   "execution_count": 32,
   "metadata": {},
   "outputs": [
    {
     "data": {
      "image/png": "[encoded data removed]",
      "text/plain": [
       "<Figure size 459.25x360 with 1 Axes>"
      ]
     },
     "metadata": {
      "needs_background": "light"
     },
     "output_type": "display_data"
    }
   ],
   "source": [
    "sns.displot(df_w_topics, x=df_w_topics[2], hue = \"party\", kind = 'kde', fill = 'true')\n",
    "plt.show()"
   ]
  },
  {
   "cell_type": "code",
   "execution_count": 33,
   "metadata": {},
   "outputs": [
    {
     "name": "stdout",
     "output_type": "stream",
     "text": [
      "position\n",
      "Sen    0.187925\n",
      "Rep    0.171334\n",
      "Name: 0, dtype: float64\n",
      "position\n",
      "Rep    0.169404\n",
      "Sen    0.136432\n",
      "Name: 1, dtype: float64\n",
      "position\n",
      "Rep    0.180524\n",
      "Sen    0.154095\n",
      "Name: 2, dtype: float64\n",
      "position\n",
      "Sen    0.189087\n",
      "Rep    0.170021\n",
      "Name: 3, dtype: float64\n",
      "position\n",
      "Sen    0.193518\n",
      "Rep    0.166387\n",
      "Name: 4, dtype: float64\n",
      "position\n",
      "Rep    0.142331\n",
      "Sen    0.138943\n",
      "Name: 5, dtype: float64\n"
     ]
    }
   ],
   "source": [
    "# check the average weight of each topic across 'position' \n",
    "grouped = df_w_topics.groupby('position')\n",
    "for i in range(0, 6):\n",
    "    print(grouped[i].mean().sort_values(ascending=False))"
   ]
  },
  {
   "cell_type": "markdown",
   "metadata": {},
   "source": [
    "Topics are even less distinguishable across positions (senator or representative). See a plot for topic 4:"
   ]
  },
  {
   "cell_type": "code",
   "execution_count": 34,
   "metadata": {},
   "outputs": [
    {
     "data": {
      "image/png": "[encoded data removed]",
      "text/plain": [
       "<Figure size 414.75x360 with 1 Axes>"
      ]
     },
     "metadata": {
      "needs_background": "light"
     },
     "output_type": "display_data"
    }
   ],
   "source": [
    "sns.displot(df_w_topics, x=df_w_topics[2], hue = \"position\", kind = 'kde', fill = 'true')\n",
    "plt.show()"
   ]
  },
  {
   "cell_type": "markdown",
   "metadata": {},
   "source": [
    "**Summary of EDA**: Results from n-grams (we used 2- and 3-grams) and Latent Dirichlet Allocation (LDA) topic modeling suggest that topics surface from the tweeter text are related to people, government and politics, country/nation, COVID-19 and health care, business, community and work, etc. Overall these topics seem more interelated than distinguishable from each other. Toward our prediciton tasks (whether the person behind the tweeter text is a democrat, republican, or independent; or a senator or representative), these topics generally seems not strongly associate with what we want to predict. We need further analyses to see if tweeter text is indicative of prople's party membership and congress position. \n"
   ]
  },
  {
   "cell_type": "markdown",
   "metadata": {},
   "source": [
    "## Sentiment Analysis"
   ]
  },
  {
   "cell_type": "markdown",
   "metadata": {},
   "source": [
    "Next, let's analyze the sentiments contained within the tweets. You may use TextBlob or another library for these tasks. Do the following:\n",
    "\n",
    "* Choose two legislators, one who you think will be more liberal and one who you think will be more conservative, and analyze their sentiment and/or subjectivity scores per tweet. For instance, you might do two scatterplots that plot each legislator's sentiment against their subjectivity, or two density plots for their sentiments. Do the scores match what you thought?\n",
    "* Plot two more visualizations like the ones you chose in the first part, but do them to compare (1) Democrats v. Republicans and (2) Senators v. Representatives \n",
    "\n",
    "`TextBlob` has already been imported in the top cell."
   ]
  },
  {
   "cell_type": "code",
   "execution_count": 47,
   "metadata": {},
   "outputs": [
    {
     "data": {
      "image/png": "[encoded data removed]",
      "text/plain": [
       "<Figure size 360x360 with 1 Axes>"
      ]
     },
     "metadata": {
      "needs_background": "light"
     },
     "output_type": "display_data"
    }
   ],
   "source": [
    "# examine the overall sentiment distribution in our dataset\n",
    "congress_tweets_notempty[\"polarity\"] = congress_tweets_notempty['tokens'].map(lambda text: TextBlob(text).sentiment.polarity)\n",
    "sns.displot(congress_tweets_notempty, x=\"polarity\")\n",
    "plt.show()"
   ]
  },
  {
   "cell_type": "markdown",
   "metadata": {},
   "source": [
    "We begin by looking at the overall distribution of legislators' sentiments in their tweets (within our sample). Specifically, we look at polarity, which analyzes the negative vs. positive sentiment of a tweet using a range of -1 to 1. We see that the vast majority of tweets are relatively neutral, and that a slight majority are classified as positive. "
   ]
  },
  {
   "cell_type": "code",
   "execution_count": 48,
   "metadata": {},
   "outputs": [
    {
     "data": {
      "text/plain": [
       "screen_name\n",
       "RepDonBeyer        16\n",
       "RepAndyBiggsAZ     15\n",
       "RepJayapal         13\n",
       "RepMaloney         11\n",
       "JohnCornyn         11\n",
       "                   ..\n",
       "RepTedBudd          1\n",
       "RepGallagher        1\n",
       "RepGarretGraves     1\n",
       "RepGregPence        1\n",
       "RepKayGranger       1\n",
       "Name: state, Length: 345, dtype: int64"
      ]
     },
     "execution_count": 48,
     "metadata": {},
     "output_type": "execute_result"
    }
   ],
   "source": [
    "# Identify Legislators with the Most Tweets in our Sample\n",
    "congress_tweets_notempty.groupby('screen_name').state.count().sort_values(ascending=False)"
   ]
  },
  {
   "cell_type": "markdown",
   "metadata": {},
   "source": [
    "To decide which legislators to pick for this exercise, we first look at which senators in our sample have the highest number of tweets. We select the most frequently occuring Democrat (Representative Don Beyer) and Republican (Representative Andy Biggs) legislator in our sample."
   ]
  },
  {
   "cell_type": "code",
   "execution_count": 49,
   "metadata": {},
   "outputs": [
    {
     "data": {
      "image/png": "[encoded data removed]",
      "text/plain": [
       "<Figure size 841.75x360 with 2 Axes>"
      ]
     },
     "metadata": {
      "needs_background": "light"
     },
     "output_type": "display_data"
    }
   ],
   "source": [
    "# Plot polarity distributions for selected legilators\n",
    "beyer_biggs_tweets = congress_tweets_notempty[congress_tweets_notempty['screen_name'].isin(['RepDonBeyer','RepAndyBiggsAZ'])]\n",
    "\n",
    "sns.displot(beyer_biggs_tweets, x=\"polarity\", hue = 'screen_name', col = 'screen_name')\n",
    "plt.show()"
   ]
  },
  {
   "cell_type": "markdown",
   "metadata": {},
   "source": [
    "From this side-by-side comparison, we see that both representatives have mostly neutral tweets. This is congruent with the overall pattern we saw above. However, we do note that Representative Andy Biggs has one very negative tweet (<-0.06), while Representative Beyer does not."
   ]
  },
  {
   "cell_type": "code",
   "execution_count": 50,
   "metadata": {},
   "outputs": [
    {
     "data": {
      "text/plain": [
       "party\n",
       "Democrat       654\n",
       "Republican     333\n",
       "Independent      4\n",
       "Name: state, dtype: int64"
      ]
     },
     "execution_count": 50,
     "metadata": {},
     "output_type": "execute_result"
    },
    {
     "data": {
      "image/png": "[encoded data removed]",
      "text/plain": [
       "<Figure size 459.25x360 with 1 Axes>"
      ]
     },
     "metadata": {
      "needs_background": "light"
     },
     "output_type": "display_data"
    }
   ],
   "source": [
    "# Plot polarity distribution for Democrats, Republicans, and Independents\n",
    "sns.displot(congress_tweets_notempty, x=\"polarity\", hue=\"party\", kind='kde')\n",
    "\n",
    "# Display number of tweets by party\n",
    "congress_tweets_notempty.groupby('party').state.count().sort_values(ascending=False)"
   ]
  },
  {
   "cell_type": "code",
   "execution_count": 51,
   "metadata": {},
   "outputs": [
    {
     "data": {
      "text/plain": [
       "<seaborn.axisgrid.FacetGrid at 0x2abf11190>"
      ]
     },
     "execution_count": 51,
     "metadata": {},
     "output_type": "execute_result"
    },
    {
     "data": {
      "image/png": "[encoded data removed]",
      "text/plain": [
       "<Figure size 459.25x360 with 1 Axes>"
      ]
     },
     "metadata": {
      "needs_background": "light"
     },
     "output_type": "display_data"
    }
   ],
   "source": [
    "# Plot subjectivity distribution for Democrats, Republicans, and Independents\n",
    "congress_tweets_notempty['subjectivity'] = congress_tweets_notempty['tokens'].map(lambda text: TextBlob(text).sentiment.subjectivity)\n",
    "sns.displot(congress_tweets_notempty, x=\"subjectivity\", hue=\"party\", kind='kde')"
   ]
  },
  {
   "cell_type": "markdown",
   "metadata": {},
   "source": [
    "Here, we overlay the distribution of both polarity and subjectivity for all 3 political parties in our dataset, though we focus on the comparison between Republicans and Democrats. The addition of subjectivity allows us to quantify the amount of personal opinion vs. factural information contained in legislators tweets. While Democrats (n=660) have higher tweet frequency than Republicans (n=336) in our sample, we see extremely similar patterns across both groups. Democrats and Republicans appear to tweet with the same frequency of positivity/negativity, and both parties tend to tweet more subjective information than objective, fact-based information. The bimodal nature of the subjectivity plot is interesting, and may be something to explore in future analyses!"
   ]
  },
  {
   "cell_type": "code",
   "execution_count": 52,
   "metadata": {},
   "outputs": [
    {
     "data": {
      "text/plain": [
       "<seaborn.axisgrid.FacetGrid at 0x2ace45700>"
      ]
     },
     "execution_count": 52,
     "metadata": {},
     "output_type": "execute_result"
    },
    {
     "data": {
      "image/png": "[encoded data removed]",
      "text/plain": [
       "<Figure size 414.75x360 with 1 Axes>"
      ]
     },
     "metadata": {
      "needs_background": "light"
     },
     "output_type": "display_data"
    }
   ],
   "source": [
    "# Plot polarity distribution for Senators vs. Representatives\n",
    "sns.displot(congress_tweets_notempty, x=\"polarity\", hue=\"position\", kind=\"kde\")"
   ]
  },
  {
   "cell_type": "code",
   "execution_count": 53,
   "metadata": {
    "scrolled": true
   },
   "outputs": [
    {
     "data": {
      "text/plain": [
       "<seaborn.axisgrid.FacetGrid at 0x2b3101c70>"
      ]
     },
     "execution_count": 53,
     "metadata": {},
     "output_type": "execute_result"
    },
    {
     "data": {
      "image/png": "[encoded data removed]",
      "text/plain": [
       "<Figure size 414.75x360 with 1 Axes>"
      ]
     },
     "metadata": {
      "needs_background": "light"
     },
     "output_type": "display_data"
    }
   ],
   "source": [
    "# Plot subjectivity distribution for Senators vs. Representatives\n",
    "sns.displot(congress_tweets_notempty, x=\"subjectivity\", hue=\"position\", kind=\"kde\")"
   ]
  },
  {
   "cell_type": "markdown",
   "metadata": {},
   "source": [
    "Here, we overlay the distribution of both polarity and subjectivity for legislators in the house and the senate. We see more tweets from representatives than senators, which is logical because the United States congress consists of 100 total senators and 435 representatives. Overall, legislators in the house and the senate display similar patterns of posting positive/negative information and factual/subjective information. Some differences between these groups were anticipated given the difference in term lengths for members of the house (2 years) and senate (6 years). From our sample, it does not appear that differences in re-election frequency are associated with tweet sentiment."
   ]
  },
  {
   "cell_type": "markdown",
   "metadata": {},
   "source": [
    "## Featurization"
   ]
  },
  {
   "cell_type": "markdown",
   "metadata": {},
   "source": [
    "Before going to classification, explore different featurization techniques. Create three dataframes or arrays to represent your text features, specifically:\n",
    "\n",
    "* Features engineered from your previous analysis. For example, word counts, sentiment scores, topic model etc.\n",
    "* A term frequency-inverse document frequency matrix. \n",
    "* An embedding-based featurization (like a document averaged word2vec)\n",
    "\n",
    "In the next section, you will experiment with each of these featurization techniques to see which one produces the best classifications."
   ]
  },
  {
   "cell_type": "markdown",
   "metadata": {},
   "source": [
    "### Engineered Text Features"
   ]
  },
  {
   "cell_type": "code",
   "execution_count": 54,
   "metadata": {},
   "outputs": [],
   "source": [
    "# Engineered Features\n",
    "engineered_features = congress_tweets_notempty[['polarity', 'subjectivity']].reset_index(drop = True)\n",
    "\n",
    "# Engineered Features with Topics\n",
    "engineered_features_with_topics = topic_dist_df.join(congress_tweets_notempty.reset_index(drop = True))"
   ]
  },
  {
   "cell_type": "code",
   "execution_count": 55,
   "metadata": {},
   "outputs": [
    {
     "data": {
      "text/html": [
       "<div>\n",
       "<style scoped>\n",
       "    .dataframe tbody tr th:only-of-type {\n",
       "        vertical-align: middle;\n",
       "    }\n",
       "\n",
       "    .dataframe tbody tr th {\n",
       "        vertical-align: top;\n",
       "    }\n",
       "\n",
       "    .dataframe thead th {\n",
       "        text-align: right;\n",
       "    }\n",
       "</style>\n",
       "<table border=\"1\" class=\"dataframe\">\n",
       "  <thead>\n",
       "    <tr style=\"text-align: right;\">\n",
       "      <th></th>\n",
       "      <th>polarity</th>\n",
       "      <th>subjectivity</th>\n",
       "    </tr>\n",
       "  </thead>\n",
       "  <tbody>\n",
       "    <tr>\n",
       "      <th>0</th>\n",
       "      <td>0.400000</td>\n",
       "      <td>0.533333</td>\n",
       "    </tr>\n",
       "    <tr>\n",
       "      <th>1</th>\n",
       "      <td>0.733333</td>\n",
       "      <td>0.683333</td>\n",
       "    </tr>\n",
       "    <tr>\n",
       "      <th>2</th>\n",
       "      <td>0.000000</td>\n",
       "      <td>0.000000</td>\n",
       "    </tr>\n",
       "    <tr>\n",
       "      <th>3</th>\n",
       "      <td>0.085417</td>\n",
       "      <td>0.474306</td>\n",
       "    </tr>\n",
       "    <tr>\n",
       "      <th>4</th>\n",
       "      <td>-0.500000</td>\n",
       "      <td>0.500000</td>\n",
       "    </tr>\n",
       "    <tr>\n",
       "      <th>...</th>\n",
       "      <td>...</td>\n",
       "      <td>...</td>\n",
       "    </tr>\n",
       "    <tr>\n",
       "      <th>986</th>\n",
       "      <td>0.533333</td>\n",
       "      <td>0.850000</td>\n",
       "    </tr>\n",
       "    <tr>\n",
       "      <th>987</th>\n",
       "      <td>-0.025000</td>\n",
       "      <td>0.200000</td>\n",
       "    </tr>\n",
       "    <tr>\n",
       "      <th>988</th>\n",
       "      <td>-0.050000</td>\n",
       "      <td>0.112500</td>\n",
       "    </tr>\n",
       "    <tr>\n",
       "      <th>989</th>\n",
       "      <td>-0.006370</td>\n",
       "      <td>0.489765</td>\n",
       "    </tr>\n",
       "    <tr>\n",
       "      <th>990</th>\n",
       "      <td>0.068182</td>\n",
       "      <td>0.250000</td>\n",
       "    </tr>\n",
       "  </tbody>\n",
       "</table>\n",
       "<p>991 rows × 2 columns</p>\n",
       "</div>"
      ],
      "text/plain": [
       "     polarity  subjectivity\n",
       "0    0.400000      0.533333\n",
       "1    0.733333      0.683333\n",
       "2    0.000000      0.000000\n",
       "3    0.085417      0.474306\n",
       "4   -0.500000      0.500000\n",
       "..        ...           ...\n",
       "986  0.533333      0.850000\n",
       "987 -0.025000      0.200000\n",
       "988 -0.050000      0.112500\n",
       "989 -0.006370      0.489765\n",
       "990  0.068182      0.250000\n",
       "\n",
       "[991 rows x 2 columns]"
      ]
     },
     "execution_count": 55,
     "metadata": {},
     "output_type": "execute_result"
    }
   ],
   "source": [
    "engineered_features"
   ]
  },
  {
   "cell_type": "code",
   "execution_count": 56,
   "metadata": {},
   "outputs": [
    {
     "data": {
      "text/html": [
       "<div>\n",
       "<style scoped>\n",
       "    .dataframe tbody tr th:only-of-type {\n",
       "        vertical-align: middle;\n",
       "    }\n",
       "\n",
       "    .dataframe tbody tr th {\n",
       "        vertical-align: top;\n",
       "    }\n",
       "\n",
       "    .dataframe thead th {\n",
       "        text-align: right;\n",
       "    }\n",
       "</style>\n",
       "<table border=\"1\" class=\"dataframe\">\n",
       "  <thead>\n",
       "    <tr style=\"text-align: right;\">\n",
       "      <th></th>\n",
       "      <th>0</th>\n",
       "      <th>1</th>\n",
       "      <th>2</th>\n",
       "      <th>3</th>\n",
       "      <th>4</th>\n",
       "      <th>5</th>\n",
       "      <th>index</th>\n",
       "      <th>tweet_id</th>\n",
       "      <th>screen_name</th>\n",
       "      <th>datetime</th>\n",
       "      <th>...</th>\n",
       "      <th>party</th>\n",
       "      <th>trump_2016_state_share</th>\n",
       "      <th>clinton_2016_state_share</th>\n",
       "      <th>obama_2012_state_share</th>\n",
       "      <th>romney_2012_state_share</th>\n",
       "      <th>text_URLremoved</th>\n",
       "      <th>tokens</th>\n",
       "      <th>length_tokens</th>\n",
       "      <th>polarity</th>\n",
       "      <th>subjectivity</th>\n",
       "    </tr>\n",
       "  </thead>\n",
       "  <tbody>\n",
       "    <tr>\n",
       "      <th>0</th>\n",
       "      <td>0.847503</td>\n",
       "      <td>0.030456</td>\n",
       "      <td>0.030471</td>\n",
       "      <td>0.030540</td>\n",
       "      <td>0.030565</td>\n",
       "      <td>0.030466</td>\n",
       "      <td>11361</td>\n",
       "      <td>1.132820e+18</td>\n",
       "      <td>SenDanSullivan</td>\n",
       "      <td>2019-05-26T21:36:32-04:00</td>\n",
       "      <td>...</td>\n",
       "      <td>Republican</td>\n",
       "      <td>163,387</td>\n",
       "      <td>116,454</td>\n",
       "      <td>122,640</td>\n",
       "      <td>164,676</td>\n",
       "      <td>Sam &amp;amp; the guys had to deal with a less exp...</td>\n",
       "      <td>Sam guys deal experienced teammate But podium ...</td>\n",
       "      <td>23</td>\n",
       "      <td>0.400000</td>\n",
       "      <td>0.533333</td>\n",
       "    </tr>\n",
       "    <tr>\n",
       "      <th>1</th>\n",
       "      <td>0.029951</td>\n",
       "      <td>0.029873</td>\n",
       "      <td>0.029987</td>\n",
       "      <td>0.030115</td>\n",
       "      <td>0.850197</td>\n",
       "      <td>0.029877</td>\n",
       "      <td>479436</td>\n",
       "      <td>1.125490e+18</td>\n",
       "      <td>SenatorFischer</td>\n",
       "      <td>2019-05-06T16:15:46-04:00</td>\n",
       "      <td>...</td>\n",
       "      <td>Republican</td>\n",
       "      <td>495,961</td>\n",
       "      <td>284,494</td>\n",
       "      <td>302,081</td>\n",
       "      <td>475,064</td>\n",
       "      <td>It was great to @Skype w @StuartPublicSch’s go...</td>\n",
       "      <td>It great Skype w StuartPublicSch government cl...</td>\n",
       "      <td>24</td>\n",
       "      <td>0.733333</td>\n",
       "      <td>0.683333</td>\n",
       "    </tr>\n",
       "    <tr>\n",
       "      <th>2</th>\n",
       "      <td>0.061407</td>\n",
       "      <td>0.061890</td>\n",
       "      <td>0.061624</td>\n",
       "      <td>0.061651</td>\n",
       "      <td>0.692049</td>\n",
       "      <td>0.061379</td>\n",
       "      <td>866557</td>\n",
       "      <td>1.166860e+18</td>\n",
       "      <td>RepDonBeyer</td>\n",
       "      <td>2019-08-28T19:44:44-04:00</td>\n",
       "      <td>...</td>\n",
       "      <td>Democrat</td>\n",
       "      <td>1,769,443</td>\n",
       "      <td>1,981,473</td>\n",
       "      <td>1,971,820</td>\n",
       "      <td>1,822,522</td>\n",
       "      <td>RT @brianstelter 170 days.\\n\\n</td>\n",
       "      <td>brianstelter 170 days</td>\n",
       "      <td>3</td>\n",
       "      <td>0.000000</td>\n",
       "      <td>0.000000</td>\n",
       "    </tr>\n",
       "    <tr>\n",
       "      <th>3</th>\n",
       "      <td>0.031217</td>\n",
       "      <td>0.031109</td>\n",
       "      <td>0.031053</td>\n",
       "      <td>0.031192</td>\n",
       "      <td>0.031204</td>\n",
       "      <td>0.844225</td>\n",
       "      <td>168486</td>\n",
       "      <td>1.242860e+18</td>\n",
       "      <td>SenatorBennet</td>\n",
       "      <td>2020-03-25T13:14:12-04:00</td>\n",
       "      <td>...</td>\n",
       "      <td>Democrat</td>\n",
       "      <td>1,202,484</td>\n",
       "      <td>1,338,870</td>\n",
       "      <td>1,323,102</td>\n",
       "      <td>1,185,243</td>\n",
       "      <td>@SenateDems We fought hard to make sure nonpro...</td>\n",
       "      <td>SenateDems We fought hard sure nonprofits size...</td>\n",
       "      <td>21</td>\n",
       "      <td>0.085417</td>\n",
       "      <td>0.474306</td>\n",
       "    </tr>\n",
       "    <tr>\n",
       "      <th>4</th>\n",
       "      <td>0.827898</td>\n",
       "      <td>0.034386</td>\n",
       "      <td>0.034415</td>\n",
       "      <td>0.034561</td>\n",
       "      <td>0.034385</td>\n",
       "      <td>0.034355</td>\n",
       "      <td>507812</td>\n",
       "      <td>1.126490e+18</td>\n",
       "      <td>RepSires</td>\n",
       "      <td>2019-05-09T10:26:11-04:00</td>\n",
       "      <td>...</td>\n",
       "      <td>Democrat</td>\n",
       "      <td>1,601,933</td>\n",
       "      <td>2,148,278</td>\n",
       "      <td>2,125,101</td>\n",
       "      <td>1,477,568</td>\n",
       "      <td>This illegal act shows once again there is no ...</td>\n",
       "      <td>This illegal act shows rule law Maduro Venezue...</td>\n",
       "      <td>20</td>\n",
       "      <td>-0.500000</td>\n",
       "      <td>0.500000</td>\n",
       "    </tr>\n",
       "    <tr>\n",
       "      <th>...</th>\n",
       "      <td>...</td>\n",
       "      <td>...</td>\n",
       "      <td>...</td>\n",
       "      <td>...</td>\n",
       "      <td>...</td>\n",
       "      <td>...</td>\n",
       "      <td>...</td>\n",
       "      <td>...</td>\n",
       "      <td>...</td>\n",
       "      <td>...</td>\n",
       "      <td>...</td>\n",
       "      <td>...</td>\n",
       "      <td>...</td>\n",
       "      <td>...</td>\n",
       "      <td>...</td>\n",
       "      <td>...</td>\n",
       "      <td>...</td>\n",
       "      <td>...</td>\n",
       "      <td>...</td>\n",
       "      <td>...</td>\n",
       "      <td>...</td>\n",
       "    </tr>\n",
       "    <tr>\n",
       "      <th>986</th>\n",
       "      <td>0.033597</td>\n",
       "      <td>0.033809</td>\n",
       "      <td>0.033848</td>\n",
       "      <td>0.033802</td>\n",
       "      <td>0.831274</td>\n",
       "      <td>0.033671</td>\n",
       "      <td>426557</td>\n",
       "      <td>1.235730e+18</td>\n",
       "      <td>SenGaryPeters</td>\n",
       "      <td>2020-03-05T19:33:35-05:00</td>\n",
       "      <td>...</td>\n",
       "      <td>Democrat</td>\n",
       "      <td>2,279,543</td>\n",
       "      <td>2,268,839</td>\n",
       "      <td>2,564,569</td>\n",
       "      <td>2,115,256</td>\n",
       "      <td>Protecting our Great Lakes is part of our DNA ...</td>\n",
       "      <td>Protecting Great Lakes DNA Michiganders critic...</td>\n",
       "      <td>21</td>\n",
       "      <td>0.533333</td>\n",
       "      <td>0.850000</td>\n",
       "    </tr>\n",
       "    <tr>\n",
       "      <th>987</th>\n",
       "      <td>0.030898</td>\n",
       "      <td>0.030885</td>\n",
       "      <td>0.030999</td>\n",
       "      <td>0.030863</td>\n",
       "      <td>0.030921</td>\n",
       "      <td>0.845434</td>\n",
       "      <td>227593</td>\n",
       "      <td>1.221880e+18</td>\n",
       "      <td>RepTedYoho</td>\n",
       "      <td>2020-01-27T14:38:17-05:00</td>\n",
       "      <td>...</td>\n",
       "      <td>Republican</td>\n",
       "      <td>4,617,886</td>\n",
       "      <td>4,504,975</td>\n",
       "      <td>4,237,756</td>\n",
       "      <td>4,163,447</td>\n",
       "      <td>Implementing #Huawei technology into national ...</td>\n",
       "      <td>Implementing Huawei technology national infras...</td>\n",
       "      <td>20</td>\n",
       "      <td>-0.025000</td>\n",
       "      <td>0.200000</td>\n",
       "    </tr>\n",
       "    <tr>\n",
       "      <th>988</th>\n",
       "      <td>0.025237</td>\n",
       "      <td>0.025318</td>\n",
       "      <td>0.025386</td>\n",
       "      <td>0.873667</td>\n",
       "      <td>0.025169</td>\n",
       "      <td>0.025223</td>\n",
       "      <td>288757</td>\n",
       "      <td>1.201600e+18</td>\n",
       "      <td>SenatorDurbin</td>\n",
       "      <td>2019-12-02T15:38:59-05:00</td>\n",
       "      <td>...</td>\n",
       "      <td>Democrat</td>\n",
       "      <td>2,146,015</td>\n",
       "      <td>3,090,729</td>\n",
       "      <td>3,019,512</td>\n",
       "      <td>2,135,216</td>\n",
       "      <td>Sarah Pitlyk lacks the basic qualifications an...</td>\n",
       "      <td>Sarah Pitlyk lacks basic qualifications experi...</td>\n",
       "      <td>49</td>\n",
       "      <td>-0.050000</td>\n",
       "      <td>0.112500</td>\n",
       "    </tr>\n",
       "    <tr>\n",
       "      <th>989</th>\n",
       "      <td>0.023002</td>\n",
       "      <td>0.023174</td>\n",
       "      <td>0.022807</td>\n",
       "      <td>0.022899</td>\n",
       "      <td>0.885084</td>\n",
       "      <td>0.023034</td>\n",
       "      <td>460038</td>\n",
       "      <td>1.283480e+18</td>\n",
       "      <td>CongPalazzo</td>\n",
       "      <td>2020-07-15T15:03:58-04:00</td>\n",
       "      <td>...</td>\n",
       "      <td>Republican</td>\n",
       "      <td>700,714</td>\n",
       "      <td>485,131</td>\n",
       "      <td>562,949</td>\n",
       "      <td>710,746</td>\n",
       "      <td>For the fourth consecutive day, Mississippi's ...</td>\n",
       "      <td>For fourth consecutive day Mississippis number...</td>\n",
       "      <td>59</td>\n",
       "      <td>-0.006370</td>\n",
       "      <td>0.489765</td>\n",
       "    </tr>\n",
       "    <tr>\n",
       "      <th>990</th>\n",
       "      <td>0.033264</td>\n",
       "      <td>0.033273</td>\n",
       "      <td>0.033186</td>\n",
       "      <td>0.033182</td>\n",
       "      <td>0.033213</td>\n",
       "      <td>0.833883</td>\n",
       "      <td>854614</td>\n",
       "      <td>1.312090e+18</td>\n",
       "      <td>PeterWelch</td>\n",
       "      <td>2020-10-02T13:44:55-04:00</td>\n",
       "      <td>...</td>\n",
       "      <td>Democrat</td>\n",
       "      <td>95,369</td>\n",
       "      <td>178,573</td>\n",
       "      <td>199,239</td>\n",
       "      <td>92,698</td>\n",
       "      <td>They provide needed relief for local restauran...</td>\n",
       "      <td>They provide needed relief local restaurants l...</td>\n",
       "      <td>19</td>\n",
       "      <td>0.068182</td>\n",
       "      <td>0.250000</td>\n",
       "    </tr>\n",
       "  </tbody>\n",
       "</table>\n",
       "<p>991 rows × 28 columns</p>\n",
       "</div>"
      ],
      "text/plain": [
       "            0         1         2         3         4         5   index  \\\n",
       "0    0.847503  0.030456  0.030471  0.030540  0.030565  0.030466   11361   \n",
       "1    0.029951  0.029873  0.029987  0.030115  0.850197  0.029877  479436   \n",
       "2    0.061407  0.061890  0.061624  0.061651  0.692049  0.061379  866557   \n",
       "3    0.031217  0.031109  0.031053  0.031192  0.031204  0.844225  168486   \n",
       "4    0.827898  0.034386  0.034415  0.034561  0.034385  0.034355  507812   \n",
       "..        ...       ...       ...       ...       ...       ...     ...   \n",
       "986  0.033597  0.033809  0.033848  0.033802  0.831274  0.033671  426557   \n",
       "987  0.030898  0.030885  0.030999  0.030863  0.030921  0.845434  227593   \n",
       "988  0.025237  0.025318  0.025386  0.873667  0.025169  0.025223  288757   \n",
       "989  0.023002  0.023174  0.022807  0.022899  0.885084  0.023034  460038   \n",
       "990  0.033264  0.033273  0.033186  0.033182  0.033213  0.833883  854614   \n",
       "\n",
       "         tweet_id     screen_name                   datetime  ...       party  \\\n",
       "0    1.132820e+18  SenDanSullivan  2019-05-26T21:36:32-04:00  ...  Republican   \n",
       "1    1.125490e+18  SenatorFischer  2019-05-06T16:15:46-04:00  ...  Republican   \n",
       "2    1.166860e+18     RepDonBeyer  2019-08-28T19:44:44-04:00  ...    Democrat   \n",
       "3    1.242860e+18   SenatorBennet  2020-03-25T13:14:12-04:00  ...    Democrat   \n",
       "4    1.126490e+18        RepSires  2019-05-09T10:26:11-04:00  ...    Democrat   \n",
       "..            ...             ...                        ...  ...         ...   \n",
       "986  1.235730e+18   SenGaryPeters  2020-03-05T19:33:35-05:00  ...    Democrat   \n",
       "987  1.221880e+18      RepTedYoho  2020-01-27T14:38:17-05:00  ...  Republican   \n",
       "988  1.201600e+18   SenatorDurbin  2019-12-02T15:38:59-05:00  ...    Democrat   \n",
       "989  1.283480e+18     CongPalazzo  2020-07-15T15:03:58-04:00  ...  Republican   \n",
       "990  1.312090e+18      PeterWelch  2020-10-02T13:44:55-04:00  ...    Democrat   \n",
       "\n",
       "    trump_2016_state_share clinton_2016_state_share obama_2012_state_share  \\\n",
       "0                  163,387                  116,454                122,640   \n",
       "1                  495,961                  284,494                302,081   \n",
       "2                1,769,443                1,981,473              1,971,820   \n",
       "3                1,202,484                1,338,870              1,323,102   \n",
       "4                1,601,933                2,148,278              2,125,101   \n",
       "..                     ...                      ...                    ...   \n",
       "986              2,279,543                2,268,839              2,564,569   \n",
       "987              4,617,886                4,504,975              4,237,756   \n",
       "988              2,146,015                3,090,729              3,019,512   \n",
       "989                700,714                  485,131                562,949   \n",
       "990                 95,369                  178,573                199,239   \n",
       "\n",
       "    romney_2012_state_share  \\\n",
       "0                   164,676   \n",
       "1                   475,064   \n",
       "2                 1,822,522   \n",
       "3                 1,185,243   \n",
       "4                 1,477,568   \n",
       "..                      ...   \n",
       "986               2,115,256   \n",
       "987               4,163,447   \n",
       "988               2,135,216   \n",
       "989                 710,746   \n",
       "990                  92,698   \n",
       "\n",
       "                                       text_URLremoved  \\\n",
       "0    Sam &amp; the guys had to deal with a less exp...   \n",
       "1    It was great to @Skype w @StuartPublicSch’s go...   \n",
       "2                       RT @brianstelter 170 days.\\n\\n   \n",
       "3    @SenateDems We fought hard to make sure nonpro...   \n",
       "4    This illegal act shows once again there is no ...   \n",
       "..                                                 ...   \n",
       "986  Protecting our Great Lakes is part of our DNA ...   \n",
       "987  Implementing #Huawei technology into national ...   \n",
       "988  Sarah Pitlyk lacks the basic qualifications an...   \n",
       "989  For the fourth consecutive day, Mississippi's ...   \n",
       "990  They provide needed relief for local restauran...   \n",
       "\n",
       "                                                tokens length_tokens  \\\n",
       "0    Sam guys deal experienced teammate But podium ...            23   \n",
       "1    It great Skype w StuartPublicSch government cl...            24   \n",
       "2                                brianstelter 170 days             3   \n",
       "3    SenateDems We fought hard sure nonprofits size...            21   \n",
       "4    This illegal act shows rule law Maduro Venezue...            20   \n",
       "..                                                 ...           ...   \n",
       "986  Protecting Great Lakes DNA Michiganders critic...            21   \n",
       "987  Implementing Huawei technology national infras...            20   \n",
       "988  Sarah Pitlyk lacks basic qualifications experi...            49   \n",
       "989  For fourth consecutive day Mississippis number...            59   \n",
       "990  They provide needed relief local restaurants l...            19   \n",
       "\n",
       "     polarity subjectivity  \n",
       "0    0.400000     0.533333  \n",
       "1    0.733333     0.683333  \n",
       "2    0.000000     0.000000  \n",
       "3    0.085417     0.474306  \n",
       "4   -0.500000     0.500000  \n",
       "..        ...          ...  \n",
       "986  0.533333     0.850000  \n",
       "987 -0.025000     0.200000  \n",
       "988 -0.050000     0.112500  \n",
       "989 -0.006370     0.489765  \n",
       "990  0.068182     0.250000  \n",
       "\n",
       "[991 rows x 28 columns]"
      ]
     },
     "execution_count": 56,
     "metadata": {},
     "output_type": "execute_result"
    }
   ],
   "source": [
    "engineered_features_with_topics"
   ]
  },
  {
   "cell_type": "markdown",
   "metadata": {},
   "source": [
    "We use polarity and subjectivity to engineer our text features. As we learned in lab, we can use either engineered features alone, or engineered features with topics identified from our prior LDA anlaysis."
   ]
  },
  {
   "cell_type": "markdown",
   "metadata": {},
   "source": [
    "### Bag-of-words or Tf-idf"
   ]
  },
  {
   "cell_type": "code",
   "execution_count": 57,
   "metadata": {},
   "outputs": [
    {
     "name": "stderr",
     "output_type": "stream",
     "text": [
      "/Users/rachel/miniforge3/lib/python3.9/site-packages/sklearn/utils/deprecation.py:87: FutureWarning: Function get_feature_names is deprecated; get_feature_names is deprecated in 1.0 and will be removed in 1.2. Please use get_feature_names_out instead.\n",
      "  warnings.warn(msg, category=FutureWarning)\n"
     ]
    }
   ],
   "source": [
    "# Frequency Based featurization\n",
    "tfidf_df = pd.DataFrame(tfidf_matrix.todense(), columns = tf.get_feature_names())"
   ]
  },
  {
   "cell_type": "code",
   "execution_count": 58,
   "metadata": {},
   "outputs": [
    {
     "data": {
      "text/html": [
       "<div>\n",
       "<style scoped>\n",
       "    .dataframe tbody tr th:only-of-type {\n",
       "        vertical-align: middle;\n",
       "    }\n",
       "\n",
       "    .dataframe tbody tr th {\n",
       "        vertical-align: top;\n",
       "    }\n",
       "\n",
       "    .dataframe thead th {\n",
       "        text-align: right;\n",
       "    }\n",
       "</style>\n",
       "<table border=\"1\" class=\"dataframe\">\n",
       "  <thead>\n",
       "    <tr style=\"text-align: right;\">\n",
       "      <th></th>\n",
       "      <th>\\n</th>\n",
       "      <th>\\n\\n\\n\\n</th>\n",
       "      <th>\\n\\n\\n</th>\n",
       "      <th>\\n\\n</th>\n",
       "      <th>\\n\\n</th>\n",
       "      <th>\\n</th>\n",
       "      <th>\\n \\n</th>\n",
       "      <th>\\n \\n</th>\n",
       "      <th>\\n</th>\n",
       "      <th>\\n</th>\n",
       "      <th>...</th>\n",
       "      <th>🙌</th>\n",
       "      <th>🙏</th>\n",
       "      <th>🚌</th>\n",
       "      <th>🚗</th>\n",
       "      <th>🚨</th>\n",
       "      <th>🚫</th>\n",
       "      <th>🛒</th>\n",
       "      <th>🤯</th>\n",
       "      <th>🥫</th>\n",
       "      <th>🧼</th>\n",
       "    </tr>\n",
       "  </thead>\n",
       "  <tbody>\n",
       "    <tr>\n",
       "      <th>0</th>\n",
       "      <td>0.0</td>\n",
       "      <td>0.0</td>\n",
       "      <td>0.0</td>\n",
       "      <td>0.0</td>\n",
       "      <td>0.0</td>\n",
       "      <td>0.000000</td>\n",
       "      <td>0.0</td>\n",
       "      <td>0.0</td>\n",
       "      <td>0.0</td>\n",
       "      <td>0.0</td>\n",
       "      <td>...</td>\n",
       "      <td>0.0</td>\n",
       "      <td>0.0</td>\n",
       "      <td>0.0</td>\n",
       "      <td>0.0</td>\n",
       "      <td>0.0</td>\n",
       "      <td>0.0</td>\n",
       "      <td>0.0</td>\n",
       "      <td>0.0</td>\n",
       "      <td>0.0</td>\n",
       "      <td>0.0</td>\n",
       "    </tr>\n",
       "    <tr>\n",
       "      <th>1</th>\n",
       "      <td>0.0</td>\n",
       "      <td>0.0</td>\n",
       "      <td>0.0</td>\n",
       "      <td>0.0</td>\n",
       "      <td>0.0</td>\n",
       "      <td>0.000000</td>\n",
       "      <td>0.0</td>\n",
       "      <td>0.0</td>\n",
       "      <td>0.0</td>\n",
       "      <td>0.0</td>\n",
       "      <td>...</td>\n",
       "      <td>0.0</td>\n",
       "      <td>0.0</td>\n",
       "      <td>0.0</td>\n",
       "      <td>0.0</td>\n",
       "      <td>0.0</td>\n",
       "      <td>0.0</td>\n",
       "      <td>0.0</td>\n",
       "      <td>0.0</td>\n",
       "      <td>0.0</td>\n",
       "      <td>0.0</td>\n",
       "    </tr>\n",
       "    <tr>\n",
       "      <th>2</th>\n",
       "      <td>0.0</td>\n",
       "      <td>0.0</td>\n",
       "      <td>0.0</td>\n",
       "      <td>0.0</td>\n",
       "      <td>0.0</td>\n",
       "      <td>0.000000</td>\n",
       "      <td>0.0</td>\n",
       "      <td>0.0</td>\n",
       "      <td>0.0</td>\n",
       "      <td>0.0</td>\n",
       "      <td>...</td>\n",
       "      <td>0.0</td>\n",
       "      <td>0.0</td>\n",
       "      <td>0.0</td>\n",
       "      <td>0.0</td>\n",
       "      <td>0.0</td>\n",
       "      <td>0.0</td>\n",
       "      <td>0.0</td>\n",
       "      <td>0.0</td>\n",
       "      <td>0.0</td>\n",
       "      <td>0.0</td>\n",
       "    </tr>\n",
       "    <tr>\n",
       "      <th>3</th>\n",
       "      <td>0.0</td>\n",
       "      <td>0.0</td>\n",
       "      <td>0.0</td>\n",
       "      <td>0.0</td>\n",
       "      <td>0.0</td>\n",
       "      <td>0.000000</td>\n",
       "      <td>0.0</td>\n",
       "      <td>0.0</td>\n",
       "      <td>0.0</td>\n",
       "      <td>0.0</td>\n",
       "      <td>...</td>\n",
       "      <td>0.0</td>\n",
       "      <td>0.0</td>\n",
       "      <td>0.0</td>\n",
       "      <td>0.0</td>\n",
       "      <td>0.0</td>\n",
       "      <td>0.0</td>\n",
       "      <td>0.0</td>\n",
       "      <td>0.0</td>\n",
       "      <td>0.0</td>\n",
       "      <td>0.0</td>\n",
       "    </tr>\n",
       "    <tr>\n",
       "      <th>4</th>\n",
       "      <td>0.0</td>\n",
       "      <td>0.0</td>\n",
       "      <td>0.0</td>\n",
       "      <td>0.0</td>\n",
       "      <td>0.0</td>\n",
       "      <td>0.000000</td>\n",
       "      <td>0.0</td>\n",
       "      <td>0.0</td>\n",
       "      <td>0.0</td>\n",
       "      <td>0.0</td>\n",
       "      <td>...</td>\n",
       "      <td>0.0</td>\n",
       "      <td>0.0</td>\n",
       "      <td>0.0</td>\n",
       "      <td>0.0</td>\n",
       "      <td>0.0</td>\n",
       "      <td>0.0</td>\n",
       "      <td>0.0</td>\n",
       "      <td>0.0</td>\n",
       "      <td>0.0</td>\n",
       "      <td>0.0</td>\n",
       "    </tr>\n",
       "    <tr>\n",
       "      <th>...</th>\n",
       "      <td>...</td>\n",
       "      <td>...</td>\n",
       "      <td>...</td>\n",
       "      <td>...</td>\n",
       "      <td>...</td>\n",
       "      <td>...</td>\n",
       "      <td>...</td>\n",
       "      <td>...</td>\n",
       "      <td>...</td>\n",
       "      <td>...</td>\n",
       "      <td>...</td>\n",
       "      <td>...</td>\n",
       "      <td>...</td>\n",
       "      <td>...</td>\n",
       "      <td>...</td>\n",
       "      <td>...</td>\n",
       "      <td>...</td>\n",
       "      <td>...</td>\n",
       "      <td>...</td>\n",
       "      <td>...</td>\n",
       "      <td>...</td>\n",
       "    </tr>\n",
       "    <tr>\n",
       "      <th>986</th>\n",
       "      <td>0.0</td>\n",
       "      <td>0.0</td>\n",
       "      <td>0.0</td>\n",
       "      <td>0.0</td>\n",
       "      <td>0.0</td>\n",
       "      <td>0.000000</td>\n",
       "      <td>0.0</td>\n",
       "      <td>0.0</td>\n",
       "      <td>0.0</td>\n",
       "      <td>0.0</td>\n",
       "      <td>...</td>\n",
       "      <td>0.0</td>\n",
       "      <td>0.0</td>\n",
       "      <td>0.0</td>\n",
       "      <td>0.0</td>\n",
       "      <td>0.0</td>\n",
       "      <td>0.0</td>\n",
       "      <td>0.0</td>\n",
       "      <td>0.0</td>\n",
       "      <td>0.0</td>\n",
       "      <td>0.0</td>\n",
       "    </tr>\n",
       "    <tr>\n",
       "      <th>987</th>\n",
       "      <td>0.0</td>\n",
       "      <td>0.0</td>\n",
       "      <td>0.0</td>\n",
       "      <td>0.0</td>\n",
       "      <td>0.0</td>\n",
       "      <td>0.000000</td>\n",
       "      <td>0.0</td>\n",
       "      <td>0.0</td>\n",
       "      <td>0.0</td>\n",
       "      <td>0.0</td>\n",
       "      <td>...</td>\n",
       "      <td>0.0</td>\n",
       "      <td>0.0</td>\n",
       "      <td>0.0</td>\n",
       "      <td>0.0</td>\n",
       "      <td>0.0</td>\n",
       "      <td>0.0</td>\n",
       "      <td>0.0</td>\n",
       "      <td>0.0</td>\n",
       "      <td>0.0</td>\n",
       "      <td>0.0</td>\n",
       "    </tr>\n",
       "    <tr>\n",
       "      <th>988</th>\n",
       "      <td>0.0</td>\n",
       "      <td>0.0</td>\n",
       "      <td>0.0</td>\n",
       "      <td>0.0</td>\n",
       "      <td>0.0</td>\n",
       "      <td>0.000000</td>\n",
       "      <td>0.0</td>\n",
       "      <td>0.0</td>\n",
       "      <td>0.0</td>\n",
       "      <td>0.0</td>\n",
       "      <td>...</td>\n",
       "      <td>0.0</td>\n",
       "      <td>0.0</td>\n",
       "      <td>0.0</td>\n",
       "      <td>0.0</td>\n",
       "      <td>0.0</td>\n",
       "      <td>0.0</td>\n",
       "      <td>0.0</td>\n",
       "      <td>0.0</td>\n",
       "      <td>0.0</td>\n",
       "      <td>0.0</td>\n",
       "    </tr>\n",
       "    <tr>\n",
       "      <th>989</th>\n",
       "      <td>0.0</td>\n",
       "      <td>0.0</td>\n",
       "      <td>0.0</td>\n",
       "      <td>0.0</td>\n",
       "      <td>0.0</td>\n",
       "      <td>0.317387</td>\n",
       "      <td>0.0</td>\n",
       "      <td>0.0</td>\n",
       "      <td>0.0</td>\n",
       "      <td>0.0</td>\n",
       "      <td>...</td>\n",
       "      <td>0.0</td>\n",
       "      <td>0.0</td>\n",
       "      <td>0.0</td>\n",
       "      <td>0.0</td>\n",
       "      <td>0.0</td>\n",
       "      <td>0.0</td>\n",
       "      <td>0.0</td>\n",
       "      <td>0.0</td>\n",
       "      <td>0.0</td>\n",
       "      <td>0.0</td>\n",
       "    </tr>\n",
       "    <tr>\n",
       "      <th>990</th>\n",
       "      <td>0.0</td>\n",
       "      <td>0.0</td>\n",
       "      <td>0.0</td>\n",
       "      <td>0.0</td>\n",
       "      <td>0.0</td>\n",
       "      <td>0.000000</td>\n",
       "      <td>0.0</td>\n",
       "      <td>0.0</td>\n",
       "      <td>0.0</td>\n",
       "      <td>0.0</td>\n",
       "      <td>...</td>\n",
       "      <td>0.0</td>\n",
       "      <td>0.0</td>\n",
       "      <td>0.0</td>\n",
       "      <td>0.0</td>\n",
       "      <td>0.0</td>\n",
       "      <td>0.0</td>\n",
       "      <td>0.0</td>\n",
       "      <td>0.0</td>\n",
       "      <td>0.0</td>\n",
       "      <td>0.0</td>\n",
       "    </tr>\n",
       "  </tbody>\n",
       "</table>\n",
       "<p>991 rows × 7082 columns</p>\n",
       "</div>"
      ],
      "text/plain": [
       "      \\n  \\n\\n\\n\\n   \\n\\n\\n   \\n\\n   \\n\\n         \\n   \\n \\n  \\n \\n   \\n    \\\n",
       "0    0.0        0.0      0.0    0.0     0.0  0.000000    0.0     0.0   0.0   \n",
       "1    0.0        0.0      0.0    0.0     0.0  0.000000    0.0     0.0   0.0   \n",
       "2    0.0        0.0      0.0    0.0     0.0  0.000000    0.0     0.0   0.0   \n",
       "3    0.0        0.0      0.0    0.0     0.0  0.000000    0.0     0.0   0.0   \n",
       "4    0.0        0.0      0.0    0.0     0.0  0.000000    0.0     0.0   0.0   \n",
       "..   ...        ...      ...    ...     ...       ...    ...     ...   ...   \n",
       "986  0.0        0.0      0.0    0.0     0.0  0.000000    0.0     0.0   0.0   \n",
       "987  0.0        0.0      0.0    0.0     0.0  0.000000    0.0     0.0   0.0   \n",
       "988  0.0        0.0      0.0    0.0     0.0  0.000000    0.0     0.0   0.0   \n",
       "989  0.0        0.0      0.0    0.0     0.0  0.317387    0.0     0.0   0.0   \n",
       "990  0.0        0.0      0.0    0.0     0.0  0.000000    0.0     0.0   0.0   \n",
       "\n",
       "     \\n     ...    🙌    🙏    🚌    🚗    🚨    🚫    🛒    🤯    🥫    🧼  \n",
       "0      0.0  ...  0.0  0.0  0.0  0.0  0.0  0.0  0.0  0.0  0.0  0.0  \n",
       "1      0.0  ...  0.0  0.0  0.0  0.0  0.0  0.0  0.0  0.0  0.0  0.0  \n",
       "2      0.0  ...  0.0  0.0  0.0  0.0  0.0  0.0  0.0  0.0  0.0  0.0  \n",
       "3      0.0  ...  0.0  0.0  0.0  0.0  0.0  0.0  0.0  0.0  0.0  0.0  \n",
       "4      0.0  ...  0.0  0.0  0.0  0.0  0.0  0.0  0.0  0.0  0.0  0.0  \n",
       "..     ...  ...  ...  ...  ...  ...  ...  ...  ...  ...  ...  ...  \n",
       "986    0.0  ...  0.0  0.0  0.0  0.0  0.0  0.0  0.0  0.0  0.0  0.0  \n",
       "987    0.0  ...  0.0  0.0  0.0  0.0  0.0  0.0  0.0  0.0  0.0  0.0  \n",
       "988    0.0  ...  0.0  0.0  0.0  0.0  0.0  0.0  0.0  0.0  0.0  0.0  \n",
       "989    0.0  ...  0.0  0.0  0.0  0.0  0.0  0.0  0.0  0.0  0.0  0.0  \n",
       "990    0.0  ...  0.0  0.0  0.0  0.0  0.0  0.0  0.0  0.0  0.0  0.0  \n",
       "\n",
       "[991 rows x 7082 columns]"
      ]
     },
     "execution_count": 58,
     "metadata": {},
     "output_type": "execute_result"
    }
   ],
   "source": [
    "tfidf_df"
   ]
  },
  {
   "cell_type": "markdown",
   "metadata": {},
   "source": [
    "### Word Embedding"
   ]
  },
  {
   "cell_type": "code",
   "execution_count": 46,
   "metadata": {},
   "outputs": [],
   "source": [
    "# Load Word2Vec model from Google; OPTIONAL depending on your computational resources (the file is ~1 GB)\n",
    "# Also note that this file path assumes that the word vectors are underneath 'data'; you may wish to point to the CSS course repo and change the path\n",
    "# or move the vector file to the project repo \n",
    "\n",
    "model = gensim.models.KeyedVectors.load_word2vec_format('GoogleNews-vectors-negative300.bin', binary = True) "
   ]
  },
  {
   "cell_type": "code",
   "execution_count": 47,
   "metadata": {},
   "outputs": [],
   "source": [
    "##We obtain the tokens one more time. \n",
    "congress_tweets_notempty['tokens'] = congress_tweets_notempty'text_URLremoved'].map(lambda x: rem_punc_stop(x))"
   ]
  },
  {
   "cell_type": "code",
   "execution_count": 59,
   "metadata": {},
   "outputs": [
    {
     "data": {
      "text/plain": [
       "'Sam guys deal experienced teammate But podium 3rd place teammates gracious Fortunately Sam alltime race record 109 stands Congrats winners competed Kodiak crabfest2019'"
      ]
     },
     "execution_count": 59,
     "metadata": {},
     "output_type": "execute_result"
    }
   ],
   "source": [
    "congress_tweets_notempty['tokens'][0]"
   ]
  },
  {
   "cell_type": "code",
   "execution_count": 49,
   "metadata": {},
   "outputs": [],
   "source": [
    "##We apply a model for Word2vec using the congress tweets. \n",
    "word2vec_model = gensim.models.Word2Vec(congress_tweets_notempty['tokens'], window=5, \n",
    "                               min_count=5, sg=0, alpha=0.025, batch_words=10000)"
   ]
  },
  {
   "cell_type": "code",
   "execution_count": 50,
   "metadata": {},
   "outputs": [
    {
     "data": {
      "text/plain": [
       "300"
      ]
     },
     "execution_count": 50,
     "metadata": {},
     "output_type": "execute_result"
    }
   ],
   "source": [
    "model.vector_size"
   ]
  },
  {
   "cell_type": "code",
   "execution_count": 51,
   "metadata": {},
   "outputs": [
    {
     "data": {
      "text/plain": [
       "23"
      ]
     },
     "execution_count": 51,
     "metadata": {},
     "output_type": "execute_result"
    }
   ],
   "source": [
    "len(congress_tweets_notempty['tokens'][0])"
   ]
  },
  {
   "cell_type": "code",
   "execution_count": 60,
   "metadata": {},
   "outputs": [
    {
     "ename": "NameError",
     "evalue": "name 'model' is not defined",
     "output_type": "error",
     "traceback": [
      "\u001b[0;31m---------------------------------------------------------------------------\u001b[0m",
      "\u001b[0;31mNameError\u001b[0m                                 Traceback (most recent call last)",
      "\u001b[0;32m/var/folders/7y/bv0474qj2x9gw3n59_7446r40000gn/T/ipykernel_11862/1769317010.py\u001b[0m in \u001b[0;36m<module>\u001b[0;34m\u001b[0m\n\u001b[0;32m----> 1\u001b[0;31m \u001b[0mdoc\u001b[0m \u001b[0;34m=\u001b[0m \u001b[0;34m[\u001b[0m\u001b[0mword\u001b[0m \u001b[0;32mfor\u001b[0m \u001b[0mword\u001b[0m \u001b[0;32min\u001b[0m \u001b[0mcongress_tweets_notempty\u001b[0m\u001b[0;34m[\u001b[0m\u001b[0;34m'tokens'\u001b[0m\u001b[0;34m]\u001b[0m\u001b[0;34m[\u001b[0m\u001b[0;36m1\u001b[0m\u001b[0;34m]\u001b[0m \u001b[0;32mif\u001b[0m \u001b[0mword\u001b[0m \u001b[0;32min\u001b[0m \u001b[0mmodel\u001b[0m\u001b[0;34m.\u001b[0m\u001b[0mkey_to_index\u001b[0m\u001b[0;34m]\u001b[0m\u001b[0;34m\u001b[0m\u001b[0;34m\u001b[0m\u001b[0m\n\u001b[0m\u001b[1;32m      2\u001b[0m \u001b[0mlen\u001b[0m\u001b[0;34m(\u001b[0m\u001b[0mdoc\u001b[0m\u001b[0;34m)\u001b[0m\u001b[0;34m\u001b[0m\u001b[0;34m\u001b[0m\u001b[0m\n",
      "\u001b[0;32m/var/folders/7y/bv0474qj2x9gw3n59_7446r40000gn/T/ipykernel_11862/1769317010.py\u001b[0m in \u001b[0;36m<listcomp>\u001b[0;34m(.0)\u001b[0m\n\u001b[0;32m----> 1\u001b[0;31m \u001b[0mdoc\u001b[0m \u001b[0;34m=\u001b[0m \u001b[0;34m[\u001b[0m\u001b[0mword\u001b[0m \u001b[0;32mfor\u001b[0m \u001b[0mword\u001b[0m \u001b[0;32min\u001b[0m \u001b[0mcongress_tweets_notempty\u001b[0m\u001b[0;34m[\u001b[0m\u001b[0;34m'tokens'\u001b[0m\u001b[0;34m]\u001b[0m\u001b[0;34m[\u001b[0m\u001b[0;36m1\u001b[0m\u001b[0;34m]\u001b[0m \u001b[0;32mif\u001b[0m \u001b[0mword\u001b[0m \u001b[0;32min\u001b[0m \u001b[0mmodel\u001b[0m\u001b[0;34m.\u001b[0m\u001b[0mkey_to_index\u001b[0m\u001b[0;34m]\u001b[0m\u001b[0;34m\u001b[0m\u001b[0;34m\u001b[0m\u001b[0m\n\u001b[0m\u001b[1;32m      2\u001b[0m \u001b[0mlen\u001b[0m\u001b[0;34m(\u001b[0m\u001b[0mdoc\u001b[0m\u001b[0;34m)\u001b[0m\u001b[0;34m\u001b[0m\u001b[0;34m\u001b[0m\u001b[0m\n",
      "\u001b[0;31mNameError\u001b[0m: name 'model' is not defined"
     ]
    }
   ],
   "source": [
    "doc = [word for word in congress_tweets_notempty['tokens'][1] if word in model.key_to_index]\n",
    "len(doc)"
   ]
  },
  {
   "cell_type": "code",
   "execution_count": 61,
   "metadata": {},
   "outputs": [
    {
     "ename": "NameError",
     "evalue": "name 'doc' is not defined",
     "output_type": "error",
     "traceback": [
      "\u001b[0;31m---------------------------------------------------------------------------\u001b[0m",
      "\u001b[0;31mNameError\u001b[0m                                 Traceback (most recent call last)",
      "\u001b[0;32m/var/folders/7y/bv0474qj2x9gw3n59_7446r40000gn/T/ipykernel_11862/3081608895.py\u001b[0m in \u001b[0;36m<module>\u001b[0;34m\u001b[0m\n\u001b[0;32m----> 1\u001b[0;31m \u001b[0mdoc\u001b[0m\u001b[0;34m[\u001b[0m\u001b[0;36m0\u001b[0m\u001b[0;34m:\u001b[0m\u001b[0;36m6\u001b[0m\u001b[0;34m]\u001b[0m\u001b[0;34m\u001b[0m\u001b[0;34m\u001b[0m\u001b[0m\n\u001b[0m",
      "\u001b[0;31mNameError\u001b[0m: name 'doc' is not defined"
     ]
    }
   ],
   "source": [
    "doc[0:6]"
   ]
  },
  {
   "cell_type": "code",
   "execution_count": 62,
   "metadata": {},
   "outputs": [
    {
     "ename": "NameError",
     "evalue": "name 'model' is not defined",
     "output_type": "error",
     "traceback": [
      "\u001b[0;31m---------------------------------------------------------------------------\u001b[0m",
      "\u001b[0;31mNameError\u001b[0m                                 Traceback (most recent call last)",
      "\u001b[0;32m/var/folders/7y/bv0474qj2x9gw3n59_7446r40000gn/T/ipykernel_11862/2220321247.py\u001b[0m in \u001b[0;36m<module>\u001b[0;34m\u001b[0m\n\u001b[0;32m----> 1\u001b[0;31m \u001b[0mprint\u001b[0m\u001b[0;34m(\u001b[0m\u001b[0mmodel\u001b[0m\u001b[0;34m.\u001b[0m\u001b[0m__getitem__\u001b[0m\u001b[0;34m(\u001b[0m\u001b[0;34m'class'\u001b[0m\u001b[0;34m)\u001b[0m\u001b[0;34m)\u001b[0m\u001b[0;34m\u001b[0m\u001b[0;34m\u001b[0m\u001b[0m\n\u001b[0m\u001b[1;32m      2\u001b[0m \u001b[0mvector\u001b[0m \u001b[0;34m=\u001b[0m \u001b[0mmodel\u001b[0m\u001b[0;34m.\u001b[0m\u001b[0mget_vector\u001b[0m\u001b[0;34m(\u001b[0m\u001b[0;34m'class'\u001b[0m\u001b[0;34m,\u001b[0m \u001b[0mnorm\u001b[0m\u001b[0;34m=\u001b[0m\u001b[0;32mTrue\u001b[0m\u001b[0;34m)\u001b[0m\u001b[0;34m\u001b[0m\u001b[0;34m\u001b[0m\u001b[0m\n\u001b[1;32m      3\u001b[0m \u001b[0mvector\u001b[0m\u001b[0;34m.\u001b[0m\u001b[0mshape\u001b[0m\u001b[0;34m\u001b[0m\u001b[0;34m\u001b[0m\u001b[0m\n",
      "\u001b[0;31mNameError\u001b[0m: name 'model' is not defined"
     ]
    }
   ],
   "source": [
    "print(model.__getitem__('class'))\n",
    "vector = model.get_vector('class', norm=True)\n",
    "vector.shape"
   ]
  },
  {
   "cell_type": "code",
   "execution_count": 63,
   "metadata": {},
   "outputs": [
    {
     "ename": "NameError",
     "evalue": "name 'model' is not defined",
     "output_type": "error",
     "traceback": [
      "\u001b[0;31m---------------------------------------------------------------------------\u001b[0m",
      "\u001b[0;31mNameError\u001b[0m                                 Traceback (most recent call last)",
      "\u001b[0;32m/var/folders/7y/bv0474qj2x9gw3n59_7446r40000gn/T/ipykernel_11862/2070935989.py\u001b[0m in \u001b[0;36m<module>\u001b[0;34m\u001b[0m\n\u001b[0;32m----> 1\u001b[0;31m \u001b[0mnumpy\u001b[0m\u001b[0;34m.\u001b[0m\u001b[0mmean\u001b[0m\u001b[0;34m(\u001b[0m\u001b[0mmodel\u001b[0m\u001b[0;34m.\u001b[0m\u001b[0m__getitem__\u001b[0m\u001b[0;34m(\u001b[0m\u001b[0;34m'class'\u001b[0m\u001b[0;34m)\u001b[0m\u001b[0;34m)\u001b[0m\u001b[0;34m\u001b[0m\u001b[0;34m\u001b[0m\u001b[0m\n\u001b[0m",
      "\u001b[0;31mNameError\u001b[0m: name 'model' is not defined"
     ]
    }
   ],
   "source": [
    "numpy.mean(model.__getitem__('class'))"
   ]
  },
  {
   "cell_type": "code",
   "execution_count": 56,
   "metadata": {},
   "outputs": [
    {
     "data": {
      "text/plain": [
       "-0.038907815"
      ]
     },
     "execution_count": 56,
     "metadata": {},
     "output_type": "execute_result"
    }
   ],
   "source": [
    "##We obtain the average over the vectors\n",
    "first_vec = []\n",
    "for token in model.__getitem__(doc):\n",
    "    first_vec.append(token[0])\n",
    "numpy.mean(first_vec)"
   ]
  },
  {
   "cell_type": "code",
   "execution_count": 57,
   "metadata": {},
   "outputs": [
    {
     "data": {
      "text/plain": [
       "['It',\n",
       " 'great',\n",
       " 'Skype',\n",
       " 'w',\n",
       " 'StuartPublicSch',\n",
       " 'government',\n",
       " 'class',\n",
       " 'morning',\n",
       " 'discuss',\n",
       " 'number',\n",
       " 'important',\n",
       " 'topics',\n",
       " 'Congratulations',\n",
       " 'seniors',\n",
       " 'upcoming',\n",
       " 'graduation',\n",
       " 'weekend',\n",
       " 'I',\n",
       " 'wish',\n",
       " 'best',\n",
       " 'chapter',\n",
       " 'TomorrowsLeaders',\n",
       " 'LoveNE',\n",
       " ' ']"
      ]
     },
     "execution_count": 57,
     "metadata": {},
     "output_type": "execute_result"
    }
   ],
   "source": [
    "congress_tweets_notempty['tokens'][1]"
   ]
  },
  {
   "cell_type": "code",
   "execution_count": 58,
   "metadata": {},
   "outputs": [],
   "source": [
    "word2vec_model = gensim.models.Word2Vec(congress_tweets_notempty['tokens'], window=5, \n",
    "                               min_count=5, sg=0, alpha=0.025, batch_words=10000)"
   ]
  },
  {
   "cell_type": "code",
   "execution_count": 59,
   "metadata": {},
   "outputs": [],
   "source": [
    "# Function to average word embeddings for a document; use examples from lab to apply this function. You can use also other techniques such as PCA and doc2vec instead.\n",
    "def document_vector(word2vec_model, doc):\n",
    "    doc = [word for word in doc if word in model.key_to_index]\n",
    "    return numpy.mean(model[doc], axis=0)"
   ]
  },
  {
   "cell_type": "code",
   "execution_count": 60,
   "metadata": {},
   "outputs": [
    {
     "ename": "ValueError",
     "evalue": "need at least one array to concatenate",
     "output_type": "error",
     "traceback": [
      "\u001b[0;31m---------------------------------------------------------------------------\u001b[0m",
      "\u001b[0;31mValueError\u001b[0m                                Traceback (most recent call last)",
      "\u001b[0;32m<ipython-input-60-1ea8418603d1>\u001b[0m in \u001b[0;36m<module>\u001b[0;34m\u001b[0m\n\u001b[1;32m      2\u001b[0m \u001b[0mempty_list_embeddings_means\u001b[0m \u001b[0;34m=\u001b[0m \u001b[0;34m[\u001b[0m\u001b[0;34m]\u001b[0m\u001b[0;34m\u001b[0m\u001b[0;34m\u001b[0m\u001b[0m\n\u001b[1;32m      3\u001b[0m \u001b[0;32mfor\u001b[0m \u001b[0mx\u001b[0m \u001b[0;32min\u001b[0m \u001b[0mcongress_tweets\u001b[0m\u001b[0;34m[\u001b[0m\u001b[0;34m'tokens'\u001b[0m\u001b[0;34m]\u001b[0m\u001b[0;34m:\u001b[0m \u001b[0;31m# append the vector for each document\u001b[0m\u001b[0;34m\u001b[0m\u001b[0;34m\u001b[0m\u001b[0m\n\u001b[0;32m----> 4\u001b[0;31m     \u001b[0mempty_list_embeddings_means\u001b[0m\u001b[0;34m.\u001b[0m\u001b[0mappend\u001b[0m\u001b[0;34m(\u001b[0m\u001b[0mdocument_vector\u001b[0m\u001b[0;34m(\u001b[0m\u001b[0mmodel\u001b[0m\u001b[0;34m,\u001b[0m \u001b[0mx\u001b[0m\u001b[0;34m)\u001b[0m\u001b[0;34m)\u001b[0m\u001b[0;34m\u001b[0m\u001b[0;34m\u001b[0m\u001b[0m\n\u001b[0m\u001b[1;32m      5\u001b[0m \u001b[0;34m\u001b[0m\u001b[0m\n\u001b[1;32m      6\u001b[0m \u001b[0mdoc_average_embeddings\u001b[0m \u001b[0;34m=\u001b[0m \u001b[0mnumpy\u001b[0m\u001b[0;34m.\u001b[0m\u001b[0mwv\u001b[0m\u001b[0;34m.\u001b[0m\u001b[0marray\u001b[0m\u001b[0;34m(\u001b[0m\u001b[0mempty_list_embeddings_means\u001b[0m\u001b[0;34m)\u001b[0m \u001b[0;31m# list to array\u001b[0m\u001b[0;34m\u001b[0m\u001b[0;34m\u001b[0m\u001b[0m\n",
      "\u001b[0;32m<ipython-input-59-02bd45bfebdf>\u001b[0m in \u001b[0;36mdocument_vector\u001b[0;34m(word2vec_model, doc)\u001b[0m\n\u001b[1;32m      2\u001b[0m \u001b[0;32mdef\u001b[0m \u001b[0mdocument_vector\u001b[0m\u001b[0;34m(\u001b[0m\u001b[0mword2vec_model\u001b[0m\u001b[0;34m,\u001b[0m \u001b[0mdoc\u001b[0m\u001b[0;34m)\u001b[0m\u001b[0;34m:\u001b[0m\u001b[0;34m\u001b[0m\u001b[0;34m\u001b[0m\u001b[0m\n\u001b[1;32m      3\u001b[0m     \u001b[0mdoc\u001b[0m \u001b[0;34m=\u001b[0m \u001b[0;34m[\u001b[0m\u001b[0mword\u001b[0m \u001b[0;32mfor\u001b[0m \u001b[0mword\u001b[0m \u001b[0;32min\u001b[0m \u001b[0mdoc\u001b[0m \u001b[0;32mif\u001b[0m \u001b[0mword\u001b[0m \u001b[0;32min\u001b[0m \u001b[0mmodel\u001b[0m\u001b[0;34m.\u001b[0m\u001b[0mkey_to_index\u001b[0m\u001b[0;34m]\u001b[0m\u001b[0;34m\u001b[0m\u001b[0;34m\u001b[0m\u001b[0m\n\u001b[0;32m----> 4\u001b[0;31m     \u001b[0;32mreturn\u001b[0m \u001b[0mnumpy\u001b[0m\u001b[0;34m.\u001b[0m\u001b[0mmean\u001b[0m\u001b[0;34m(\u001b[0m\u001b[0mmodel\u001b[0m\u001b[0;34m[\u001b[0m\u001b[0mdoc\u001b[0m\u001b[0;34m]\u001b[0m\u001b[0;34m,\u001b[0m \u001b[0maxis\u001b[0m\u001b[0;34m=\u001b[0m\u001b[0;36m0\u001b[0m\u001b[0;34m)\u001b[0m\u001b[0;34m\u001b[0m\u001b[0;34m\u001b[0m\u001b[0m\n\u001b[0m",
      "\u001b[0;32m~/opt/anaconda3/lib/python3.8/site-packages/gensim/models/keyedvectors.py\u001b[0m in \u001b[0;36m__getitem__\u001b[0;34m(self, key_or_keys)\u001b[0m\n\u001b[1;32m    395\u001b[0m             \u001b[0;32mreturn\u001b[0m \u001b[0mself\u001b[0m\u001b[0;34m.\u001b[0m\u001b[0mget_vector\u001b[0m\u001b[0;34m(\u001b[0m\u001b[0mkey_or_keys\u001b[0m\u001b[0;34m)\u001b[0m\u001b[0;34m\u001b[0m\u001b[0;34m\u001b[0m\u001b[0m\n\u001b[1;32m    396\u001b[0m \u001b[0;34m\u001b[0m\u001b[0m\n\u001b[0;32m--> 397\u001b[0;31m         \u001b[0;32mreturn\u001b[0m \u001b[0mvstack\u001b[0m\u001b[0;34m(\u001b[0m\u001b[0;34m[\u001b[0m\u001b[0mself\u001b[0m\u001b[0;34m.\u001b[0m\u001b[0mget_vector\u001b[0m\u001b[0;34m(\u001b[0m\u001b[0mkey\u001b[0m\u001b[0;34m)\u001b[0m \u001b[0;32mfor\u001b[0m \u001b[0mkey\u001b[0m \u001b[0;32min\u001b[0m \u001b[0mkey_or_keys\u001b[0m\u001b[0;34m]\u001b[0m\u001b[0;34m)\u001b[0m\u001b[0;34m\u001b[0m\u001b[0;34m\u001b[0m\u001b[0m\n\u001b[0m\u001b[1;32m    398\u001b[0m \u001b[0;34m\u001b[0m\u001b[0m\n\u001b[1;32m    399\u001b[0m     \u001b[0;32mdef\u001b[0m \u001b[0mget_index\u001b[0m\u001b[0;34m(\u001b[0m\u001b[0mself\u001b[0m\u001b[0;34m,\u001b[0m \u001b[0mkey\u001b[0m\u001b[0;34m,\u001b[0m \u001b[0mdefault\u001b[0m\u001b[0;34m=\u001b[0m\u001b[0;32mNone\u001b[0m\u001b[0;34m)\u001b[0m\u001b[0;34m:\u001b[0m\u001b[0;34m\u001b[0m\u001b[0;34m\u001b[0m\u001b[0m\n",
      "\u001b[0;32m<__array_function__ internals>\u001b[0m in \u001b[0;36mvstack\u001b[0;34m(*args, **kwargs)\u001b[0m\n",
      "\u001b[0;32m~/opt/anaconda3/lib/python3.8/site-packages/numpy/core/shape_base.py\u001b[0m in \u001b[0;36mvstack\u001b[0;34m(tup)\u001b[0m\n\u001b[1;32m    281\u001b[0m     \u001b[0;32mif\u001b[0m \u001b[0;32mnot\u001b[0m \u001b[0misinstance\u001b[0m\u001b[0;34m(\u001b[0m\u001b[0marrs\u001b[0m\u001b[0;34m,\u001b[0m \u001b[0mlist\u001b[0m\u001b[0;34m)\u001b[0m\u001b[0;34m:\u001b[0m\u001b[0;34m\u001b[0m\u001b[0;34m\u001b[0m\u001b[0m\n\u001b[1;32m    282\u001b[0m         \u001b[0marrs\u001b[0m \u001b[0;34m=\u001b[0m \u001b[0;34m[\u001b[0m\u001b[0marrs\u001b[0m\u001b[0;34m]\u001b[0m\u001b[0;34m\u001b[0m\u001b[0;34m\u001b[0m\u001b[0m\n\u001b[0;32m--> 283\u001b[0;31m     \u001b[0;32mreturn\u001b[0m \u001b[0m_nx\u001b[0m\u001b[0;34m.\u001b[0m\u001b[0mconcatenate\u001b[0m\u001b[0;34m(\u001b[0m\u001b[0marrs\u001b[0m\u001b[0;34m,\u001b[0m \u001b[0;36m0\u001b[0m\u001b[0;34m)\u001b[0m\u001b[0;34m\u001b[0m\u001b[0;34m\u001b[0m\u001b[0m\n\u001b[0m\u001b[1;32m    284\u001b[0m \u001b[0;34m\u001b[0m\u001b[0m\n\u001b[1;32m    285\u001b[0m \u001b[0;34m\u001b[0m\u001b[0m\n",
      "\u001b[0;32m<__array_function__ internals>\u001b[0m in \u001b[0;36mconcatenate\u001b[0;34m(*args, **kwargs)\u001b[0m\n",
      "\u001b[0;31mValueError\u001b[0m: need at least one array to concatenate"
     ]
    }
   ],
   "source": [
    "# Initialize an array for the size of the corpus\n",
    "empty_list_embeddings_means = []\n",
    "for x in congress_tweets_notempty['tokens']: # append the vector for each document\n",
    "    empty_list_embeddings_means.append(document_vector(model, x))\n",
    "    \n",
    "doc_average_embeddings = numpy.wv.array(empty_list_embeddings_means) # list to array\n",
    "\n",
    "##Question for KQ, not sure why the output says that there is no array?\n"
   ]
  },
  {
   "cell_type": "markdown",
   "metadata": {},
   "source": [
    "@sociologyquinn not sure why the output says that there is no array?. I'm not really sure if I fully understand what's going on.\n"
   ]
  },
  {
   "cell_type": "code",
   "execution_count": null,
   "metadata": {},
   "outputs": [],
   "source": [
    "doc_average_embeddings = numpy.array(documents) # list to array"
   ]
  },
  {
   "cell_type": "code",
   "execution_count": null,
   "metadata": {},
   "outputs": [],
   "source": [
    "doc_average_embeddings = numpy.array(empty_list_embeddings_means) # list to array"
   ]
  },
  {
   "cell_type": "code",
   "execution_count": null,
   "metadata": {},
   "outputs": [],
   "source": [
    "doc_average_embeddings"
   ]
  },
  {
   "cell_type": "code",
   "execution_count": null,
   "metadata": {},
   "outputs": [],
   "source": [
    "doc_average_embeddings.shape"
   ]
  },
  {
   "cell_type": "markdown",
   "metadata": {},
   "source": [
    "## Classification"
   ]
  },
  {
   "cell_type": "markdown",
   "metadata": {},
   "source": [
    "Either use cross-validation or partition your data with training/validation/test sets for this section. Do the following:\n",
    "\n",
    "* Choose a supervised learning algorithm such as logistic regression, random forest etc. \n",
    "* Train six models. For each of the three dataframes you created in the featurization part, train one model to predict whether the author of the tweet is a Democrat or Republican, and a second model to predict whether the author is a Senator or Representative.\n",
    "* Report the accuracy and other relevant metrics for each of these six models.\n",
    "* Choose the featurization technique associated with your best model. Combine those text features with non-text features. Train two more models: (1) A supervised learning algorithm that uses just the non-text features and (2) a supervised learning algorithm that combines text and non-text features. Report accuracy and other relevant metrics. \n",
    "\n",
    "If time permits, you are encouraged to use hyperparameter tuning or AutoML techniques like TPOT, but are not explicitly required to do so."
   ]
  },
  {
   "cell_type": "markdown",
   "metadata": {},
   "source": [
    "### Train Six Models with Just Text"
   ]
  },
  {
   "cell_type": "markdown",
   "metadata": {},
   "source": [
    "We will use logistic regression as our supervised algorithm. "
   ]
  },
  {
   "cell_type": "markdown",
   "metadata": {},
   "source": [
    "## For KQ: Just checking the models look okish. They look similar to the results from lab, but we get a message of string vs int. *"
   ]
  },
  {
   "cell_type": "code",
   "execution_count": 61,
   "metadata": {},
   "outputs": [],
   "source": [
    "##Call the appropriate functions\n",
    "\n",
    "from sklearn.model_selection import train_test_split\n",
    "from sklearn.metrics import confusion_matrix\n",
    "from sklearn.naive_bayes import MultinomialNB\n",
    "from sklearn.preprocessing import LabelBinarizer\n",
    "from sklearn.linear_model import LogisticRegression"
   ]
  },
  {
   "cell_type": "code",
   "execution_count": 64,
   "metadata": {},
   "outputs": [
    {
     "data": {
      "text/plain": [
       "0      Sen\n",
       "1      Sen\n",
       "2      Rep\n",
       "3      Sen\n",
       "4      Rep\n",
       "      ... \n",
       "995    Sen\n",
       "996    Rep\n",
       "997    Sen\n",
       "998    Rep\n",
       "999    Rep\n",
       "Name: position, Length: 991, dtype: object"
      ]
     },
     "execution_count": 64,
     "metadata": {},
     "output_type": "execute_result"
    }
   ],
   "source": [
    "congress_tweets_notempty['position']"
   ]
  },
  {
   "cell_type": "code",
   "execution_count": 63,
   "metadata": {},
   "outputs": [],
   "source": [
    "dataframes = [engineered_features, \n",
    "              engineered_features_with_topics, tfidf_df]\n",
    "\n",
    "featurization_technique = ['Engineered Text Features',\n",
    "                            'Engineered Features + Topic Model', \n",
    "                            'Tf-idf Features']\n",
    "\n",
    "lb_style = LabelBinarizer()\n",
    "y = congress_tweets_notempty['position_binary'] = lb_style.fit_transform(congress_tweets[\"position\"])"
   ]
  },
  {
   "cell_type": "code",
   "execution_count": 64,
   "metadata": {},
   "outputs": [
    {
     "data": {
      "image/png": "[encoded data removed]",
      "text/plain": [
       "<Figure size 720x504 with 2 Axes>"
      ]
     },
     "metadata": {
      "needs_background": "light"
     },
     "output_type": "display_data"
    },
    {
     "name": "stderr",
     "output_type": "stream",
     "text": [
      "/Users/evalencialopez/opt/anaconda3/lib/python3.8/site-packages/sklearn/utils/validation.py:1675: FutureWarning: Feature names only support names that are all strings. Got feature names with dtypes: ['int', 'str']. An error will be raised in 1.2.\n",
      "  warnings.warn(\n",
      "/Users/evalencialopez/opt/anaconda3/lib/python3.8/site-packages/sklearn/utils/validation.py:1675: FutureWarning: Feature names only support names that are all strings. Got feature names with dtypes: ['int', 'str']. An error will be raised in 1.2.\n",
      "  warnings.warn(\n"
     ]
    },
    {
     "data": {
      "image/png": "[encoded data removed]",
      "text/plain": [
       "<Figure size 720x504 with 2 Axes>"
      ]
     },
     "metadata": {},
     "output_type": "display_data"
    },
    {
     "data": {
      "image/png": "[encoded data removed]",
      "text/plain": [
       "<Figure size 720x504 with 2 Axes>"
      ]
     },
     "metadata": {},
     "output_type": "display_data"
    }
   ],
   "source": [
    "##Senator or representative\n",
    "###Predict democrat or republican\n",
    "for dataframe, featurization in zip(dataframes, featurization_technique):\n",
    "    X_train, X_test, y_train, y_test = train_test_split(dataframe, \n",
    "                                                        y, \n",
    "                                                        train_size = .80, \n",
    "                                                        test_size=0.20, \n",
    "                                                        random_state = 10)\n",
    "    # create a model\n",
    "    logit_reg = LogisticRegression()\n",
    "\n",
    "    # fit the model\n",
    "    logit_model = logit_reg.fit(X_train, y_train.ravel())\n",
    "\n",
    "    y_pred = logit_model.predict(X_test)\n",
    "    \n",
    "    cf_matrix = confusion_matrix(y_test, y_pred, normalize = \"true\")\n",
    "\n",
    "    df_cm = pd.DataFrame(cf_matrix, range(2),\n",
    "                      range(2))\n",
    "\n",
    "    df_cm = df_cm.rename(index=str, columns={0: \"Rep\", 1: \"Sen\"})\n",
    "    df_cm.index = [\"Rep\", \"Sen\"]\n",
    "    plt.figure(figsize = (10,7))\n",
    "    sns.set(font_scale=1.4)#for label size\n",
    "    sns.heatmap(df_cm, \n",
    "               annot=True,\n",
    "               annot_kws={\"size\": 16},\n",
    "               fmt='g')\n",
    "\n",
    "    plt.title(featurization)\n",
    "    plt.xlabel(\"Predicted Label\")\n",
    "    plt.ylabel(\"True Label\")\n",
    "    plt.show()"
   ]
  },
  {
   "cell_type": "code",
   "execution_count": 65,
   "metadata": {},
   "outputs": [
    {
     "data": {
      "text/plain": [
       "Democrat       660\n",
       "Republican     336\n",
       "Independent      4\n",
       "Name: party, dtype: int64"
      ]
     },
     "execution_count": 65,
     "metadata": {},
     "output_type": "execute_result"
    }
   ],
   "source": [
    "\n",
    "congress_tweets_notempty[\"party\"].value_counts()"
   ]
  },
  {
   "cell_type": "code",
   "execution_count": 66,
   "metadata": {},
   "outputs": [
    {
     "data": {
      "text/plain": [
       "0      0\n",
       "1      0\n",
       "2      1\n",
       "3      1\n",
       "4      1\n",
       "      ..\n",
       "995    1\n",
       "996    0\n",
       "997    1\n",
       "998    0\n",
       "999    1\n",
       "Name: party_dummy, Length: 1000, dtype: int64"
      ]
     },
     "execution_count": 66,
     "metadata": {},
     "output_type": "execute_result"
    }
   ],
   "source": [
    "congress_tweets_notempty[\"party_dummy\"] = congress_tweets_notempty[\"party\"].apply(lambda x: 1 if x == \"Democrat\" else 0)\n",
    "congress_tweets_notempty[\"party_dummy\"]"
   ]
  },
  {
   "cell_type": "code",
   "execution_count": 67,
   "metadata": {},
   "outputs": [
    {
     "data": {
      "text/plain": [
       "1    660\n",
       "0    340\n",
       "Name: party_dummy, dtype: int64"
      ]
     },
     "execution_count": 67,
     "metadata": {},
     "output_type": "execute_result"
    }
   ],
   "source": [
    "congress_tweets_notempty[\"party_dummy\"].value_counts()"
   ]
  },
  {
   "cell_type": "code",
   "execution_count": 69,
   "metadata": {},
   "outputs": [],
   "source": [
    "dataframes = [engineered_features, \n",
    "              engineered_features_with_topics, tfidf_df]\n",
    "\n",
    "featurization_technique = ['Engineered Text Features',\n",
    "                            'Engineered Features + Topic Model', \n",
    "                            'Tf-idf Features']\n",
    "\n",
    "lb_style = LabelBinarizer()\n",
    "y = congress_tweets_notempty['party_binary'] = lb_style.fit_transform(congress_tweets_notempty[\"party_dummy\"])"
   ]
  },
  {
   "cell_type": "code",
   "execution_count": 70,
   "metadata": {},
   "outputs": [
    {
     "data": {
      "image/png": "[encoded data removed]",
      "text/plain": [
       "<Figure size 720x504 with 2 Axes>"
      ]
     },
     "metadata": {},
     "output_type": "display_data"
    },
    {
     "name": "stderr",
     "output_type": "stream",
     "text": [
      "/Users/evalencialopez/opt/anaconda3/lib/python3.8/site-packages/sklearn/utils/validation.py:1675: FutureWarning: Feature names only support names that are all strings. Got feature names with dtypes: ['int', 'str']. An error will be raised in 1.2.\n",
      "  warnings.warn(\n",
      "/Users/evalencialopez/opt/anaconda3/lib/python3.8/site-packages/sklearn/utils/validation.py:1675: FutureWarning: Feature names only support names that are all strings. Got feature names with dtypes: ['int', 'str']. An error will be raised in 1.2.\n",
      "  warnings.warn(\n"
     ]
    },
    {
     "data": {
      "image/png": "[encoded data removed]",
      "text/plain": [
       "<Figure size 720x504 with 2 Axes>"
      ]
     },
     "metadata": {},
     "output_type": "display_data"
    },
    {
     "data": {
      "image/png": "[encoded data removed]",
      "text/plain": [
       "<Figure size 720x504 with 2 Axes>"
      ]
     },
     "metadata": {},
     "output_type": "display_data"
    }
   ],
   "source": [
    "# six models ([engineered features, frequency-based, embedding] * [democrat/republican, senator/representative])\n",
    "###Predict democrat or republican\n",
    "for dataframe, featurization in zip(dataframes, featurization_technique):\n",
    "    X_train, X_test, y_train, y_test = train_test_split(dataframe, \n",
    "                                                        y, \n",
    "                                                        train_size = .80, \n",
    "                                                        test_size=0.20, \n",
    "                                                        random_state = 10)\n",
    "    # create a model\n",
    "    logit_reg = LogisticRegression()\n",
    "\n",
    "    # fit the model\n",
    "    logit_model = logit_reg.fit(X_train, y_train.ravel())\n",
    "\n",
    "    y_pred = logit_model.predict(X_test)\n",
    "    \n",
    "    cf_matrix = confusion_matrix(y_test, y_pred, normalize = \"true\")\n",
    "\n",
    "    df_cm = pd.DataFrame(cf_matrix, range(2),\n",
    "                      range(2))\n",
    "\n",
    "    df_cm = df_cm.rename(index=str, columns={0: \"Republican\", 1: \"Democrat\"})\n",
    "    df_cm.index = [\"Republican\", \"Democrat\"]\n",
    "    plt.figure(figsize = (10,7))\n",
    "    sns.set(font_scale=1.4)#for label size\n",
    "    sns.heatmap(df_cm, \n",
    "               annot=True,\n",
    "               annot_kws={\"size\": 16},\n",
    "               fmt='g')\n",
    "\n",
    "    plt.title(featurization)\n",
    "    plt.xlabel(\"Predicted Label\")\n",
    "    plt.ylabel(\"True Label\")\n",
    "    plt.show()"
   ]
  },
  {
   "cell_type": "markdown",
   "metadata": {},
   "source": [
    "Choose the featurization technique associated with your best model. Combine those text features with non-text features. Train two more models: (1) A supervised learning algorithm that uses just the non-text features and (2) a supervised learning algorithm that combines text and non-text features. Report accuracy and other relevant metrics."
   ]
  },
  {
   "cell_type": "markdown",
   "metadata": {},
   "source": [
    "We are going to use the engineering features with non-text and a combined model. "
   ]
  },
  {
   "cell_type": "markdown",
   "metadata": {},
   "source": [
    "### Two Combined Models"
   ]
  },
  {
   "cell_type": "code",
   "execution_count": 81,
   "metadata": {},
   "outputs": [],
   "source": [
    "# two models ([best text features + non-text features] * [democrat/republican, senator/representative])\n",
    "# Non-text features\n",
    "non_text_features = congress_tweets_notempty[['index','tweet_id','datetime','joined_congress_date','clinton_2016_state_share', 'obama_2012_state_share','romney_2012_state_share']]\n",
    "non_text_features_dummies = pd.get_dummies(non_text_features).reset_index(drop = True)\n",
    "\n",
    "# Non-text features + engineered features\n",
    "non_text_engineered_features = non_text_features_dummies.reset_index(drop = True).join(engineered_features_with_topics)\n",
    "\n",
    "# Non-text features + tfidf\n",
    "tfidf_df = pd.DataFrame(tfidf_matrix.todense(), columns = tf.get_feature_names_out())\n",
    "non_text_plus_tfidf = non_text_features_dummies.reset_index(drop = True).join(tfidf_df)\n"
   ]
  },
  {
   "cell_type": "code",
   "execution_count": 82,
   "metadata": {},
   "outputs": [],
   "source": [
    "dataframes = [non_text_features_dummies,\n",
    "              non_text_engineered_features,\n",
    "              tfidf_df, \n",
    "              non_text_plus_tfidf]\n",
    "\n",
    "featurization_technique = ['Non-Text Features',\n",
    "                           'Non-Text + Engineered Text Features',\n",
    "                           'Tf-idf Features',\n",
    "                           'Non-Text + Tf-idf Features']\n",
    "\n",
    "lb_style = LabelBinarizer()\n",
    "y = congress_tweets_notempty['party_binary'] = lb_style.fit_transform(congress_tweets_notempty[\"party_dummy\"])"
   ]
  },
  {
   "cell_type": "code",
   "execution_count": 83,
   "metadata": {},
   "outputs": [
    {
     "data": {
      "image/png": "[encoded data removed]",
      "text/plain": [
       "<Figure size 720x504 with 2 Axes>"
      ]
     },
     "metadata": {},
     "output_type": "display_data"
    },
    {
     "name": "stderr",
     "output_type": "stream",
     "text": [
      "/Users/evalencialopez/opt/anaconda3/lib/python3.8/site-packages/sklearn/utils/validation.py:1675: FutureWarning: Feature names only support names that are all strings. Got feature names with dtypes: ['int', 'str']. An error will be raised in 1.2.\n",
      "  warnings.warn(\n",
      "/Users/evalencialopez/opt/anaconda3/lib/python3.8/site-packages/sklearn/utils/validation.py:1675: FutureWarning: Feature names only support names that are all strings. Got feature names with dtypes: ['int', 'str']. An error will be raised in 1.2.\n",
      "  warnings.warn(\n"
     ]
    },
    {
     "data": {
      "image/png": "[encoded data removed]",
      "text/plain": [
       "<Figure size 720x504 with 2 Axes>"
      ]
     },
     "metadata": {},
     "output_type": "display_data"
    },
    {
     "data": {
      "image/png": "[encoded data removed]",
      "text/plain": [
       "<Figure size 720x504 with 2 Axes>"
      ]
     },
     "metadata": {},
     "output_type": "display_data"
    },
    {
     "data": {
      "image/png": "[encoded data removed]",
      "text/plain": [
       "<Figure size 720x504 with 2 Axes>"
      ]
     },
     "metadata": {},
     "output_type": "display_data"
    }
   ],
   "source": [
    "for dataframe, featurization in zip(dataframes, featurization_technique):\n",
    "    X_train, X_test, y_train, y_test = train_test_split(dataframe, \n",
    "                                                        y, \n",
    "                                                        train_size = .80, \n",
    "                                                        test_size=0.20, \n",
    "                                                        random_state = 10)\n",
    "    # create a model\n",
    "    logit_reg = LogisticRegression()\n",
    "\n",
    "    # fit the model\n",
    "    logit_model = logit_reg.fit(X_train, y_train.ravel())\n",
    "\n",
    "    y_pred = logit_model.predict(X_test)\n",
    "    \n",
    "    cf_matrix = confusion_matrix(y_test, y_pred, normalize = \"true\")\n",
    "\n",
    "    df_cm = pd.DataFrame(cf_matrix, range(2),\n",
    "                      range(2))\n",
    "\n",
    "    df_cm = df_cm.rename(index=str, columns={0: \"Republican\", 1: \"Democrat\"})\n",
    "    df_cm.index = [\"Republican\", \"Democrat\"]\n",
    "    plt.figure(figsize = (10,7))\n",
    "    sns.set(font_scale=1.4)#for label size\n",
    "    sns.heatmap(df_cm, \n",
    "               annot=True,\n",
    "               annot_kws={\"size\": 16},\n",
    "               fmt='g')\n",
    "\n",
    "    plt.title(\"featurization\")\n",
    "    plt.xlabel(\"Predicted Label\")\n",
    "    plt.ylabel(\"True Label\")\n",
    "    plt.show()"
   ]
  },
  {
   "cell_type": "markdown",
   "metadata": {},
   "source": [
    "## Discussion Questions"
   ]
  },
  {
   "cell_type": "markdown",
   "metadata": {},
   "source": [
    "1. Why do standard preprocessing techniques need to be further customized to a particular corpus?\n",
    "\n"
   ]
  },
  {
   "cell_type": "markdown",
   "metadata": {},
   "source": [
    "**A particular corpus has its own linguistic characteristics that require specific preprocessing techniques to deal with in a way that makes features/words more representative of the text's meaning. In our twitter data analysis, we see that certain stop words (such as “RT” or “QT”) and punctuation marks, for example, are unique to our dataset and necessitate unique coding that would be irrelevant to other bodies of text. Also, we need to consider prediction tasks, analytical goals, and relevant computational time when deciding what preprocessing techniques to use.\n",
    "Depending on the purpose of the analysis, we will also need to customize the corpus to reduce noise, sparseness and increase precision in the modeling stage.**\n",
    "\n"
   ]
  },
  {
   "cell_type": "markdown",
   "metadata": {},
   "source": [
    "2. Did you find evidence for the idea that Democrats and Republicans have different sentiments in their tweets? What about Senators and Representatives?"
   ]
  },
  {
   "cell_type": "markdown",
   "metadata": {},
   "source": [
    "**Our preliminary analyses indicated that Democrats and Republicans may not differ substantially in the sentiment of their tweets. Both Democrats and Republicans appear to post mostly neutral tweets, and interject some degree of subjectivity into their content. The data did not seem particularly skewed for one group versus the other.\n",
    "Similarly, our preliminary analyses indicated that Senators and Representatives may not differ substantially in the sentiments of their tweets. We hypothesized that the difference in term length may affect tweet sentiment; would more frequent re-election considerations lead to more emotional or positive tweets? Our results did not indicate that this was the case. Senators and Representatives tweet predominantly neutral content (both trending slightly more positive), and both display similar patterns of subjectivity in their tweets.**\n"
   ]
  },
  {
   "cell_type": "markdown",
   "metadata": {},
   "source": [
    "3. Why is validating your exploratory and unsupervised learning approaches with a supervised learning algorithm valuable?"
   ]
  },
  {
   "cell_type": "markdown",
   "metadata": {},
   "source": [
    "**This is to check if the algorithms perform well and to find out which ways of feature engineering have the best accuracy in prediction. Then we can use the optimal/ validated approach for further work (e.g., labeling or coding the text).**\n"
   ]
  },
  {
   "cell_type": "markdown",
   "metadata": {},
   "source": [
    "4. Did text only, non-text only, or text and non-text features together perform the best? What is the intuition behind combining text and non-text features in a supervised learning algorithm?"
   ]
  },
  {
   "cell_type": "markdown",
   "metadata": {},
   "source": [
    "**The intuition is to capture information such as word counts, meanings, sentiments, relationships, etc in the text content and communication dynamics as much as possible.**"
   ]
  }
 ],
 "metadata": {
  "kernelspec": {
   "display_name": "Python 3 (ipykernel)",
   "language": "python",
   "name": "python3"
  },
  "language_info": {
   "codemirror_mode": {
    "name": "ipython",
    "version": 3
   },
   "file_extension": ".py",
   "mimetype": "text/x-python",
   "name": "python",
   "nbconvert_exporter": "python",
   "pygments_lexer": "ipython3",
   "version": "3.9.7"
  }
 },
 "nbformat": 4,
 "nbformat_minor": 4
}
