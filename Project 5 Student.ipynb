{
 "cells": [
  {
   "cell_type": "markdown",
   "metadata": {},
   "source": [
    "## [Computational Social Science] Project 5: Natural Language Processing"
   ]
  },
  {
   "cell_type": "markdown",
   "metadata": {},
   "source": [
    "In this project, you will use natural language processing techniques to explore a dataset containing tweets from members of the 116th United States Congress that met from January 3, 2019 to January 2, 2021. The dataset has also been cleaned to contain information about each legislator. Concretely, you will do the following:\n",
    "\n",
    "* Preprocess the text of legislators' tweets\n",
    "* Conduct Exploratory Data Analysis of the text\n",
    "* Use sentiment analysis to explore differences between legislators' tweets\n",
    "* Featurize text with manual feature engineering, frequency-based, and vector-based techniques\n",
    "* Predict legislators' political parties and whether they are a Senator or Representative\n",
    "\n",
    "You will explore two questions that relate to two central findings in political science and examine how they relate to the text of legislators' tweets. First, political scientists have argued that U.S. politics is currently highly polarized relative to other periods in American history, but also that the polarization is asymmetric. Historically, there were several conservative Democrats (i.e. \"blue dog Democrats\") and liberal Republicans (i.e. \"Rockefeller Republicans\"), as measured by popular measurement tools like [DW-NOMINATE](https://en.wikipedia.org/wiki/NOMINATE_(scaling_method)#:~:text=DW\\%2DNOMINATE\\%20scores\\%20have\\%20been,in\\%20the\\%20liberal\\%2Dconservative\\%20scale.). However, in the last few years, there are few if any examples of any Democrat in Congress being further to the right than any Republican and vice versa. At the same time, scholars have argued that this polarization is mostly a function of the Republican party moving further right than the Democratic party has moved left. **Does this sort of asymmetric polarization show up in how politicians communicate to their constituents through tweets?**\n",
    "\n",
    "Second, the U.S. Congress is a bicameral legislature, and there has long been debate about partisanship in the Senate versus the House. The House of Representatives is apportioned by population and all members serve two year terms. In the Senate, each state receives two Senators and each Senator serves a term of six years. For a variety of reasons (smaller chamber size, more insulation from the voters, rules and norms like the filibuster, etc.), the Senate has been argued to be the \"cooling saucer\" of Congress in that it is more bipartisan and moderate than the House. **Does the theory that the Senate is more moderate have support in Senators' tweets?**\n",
    "\n",
    "**Note**: See the project handout for more details on caveats and the data dictionary."
   ]
  },
  {
   "cell_type": "code",
   "execution_count": 143,
   "metadata": {},
   "outputs": [],
   "source": [
    "# pandas and numpy\n",
    "import pandas as pd\n",
    "import numpy as numpy\n",
    "\n",
    "# punctuation, stop words and English language model\n",
    "from string import punctuation\n",
    "from spacy.lang.en.stop_words import STOP_WORDS\n",
    "import en_core_web_sm\n",
    "nlp = en_core_web_sm.load()\n",
    "\n",
    "# textblob\n",
    "from textblob import TextBlob\n",
    "\n",
    "# countvectorizer, tfidfvectorizer\n",
    "from sklearn.feature_extraction.text import CountVectorizer, TfidfVectorizer\n",
    "\n",
    "# gensim\n",
    "import gensim\n",
    "from gensim import models\n",
    "\n",
    "# plotting\n",
    "import matplotlib.pyplot as plt\n",
    "import seaborn as sns\n",
    "%matplotlib inline"
   ]
  },
  {
   "cell_type": "code",
   "execution_count": 144,
   "metadata": {},
   "outputs": [],
   "source": [
    "# other useful packages \n",
    "from PIL import Image\n",
    "import spacy\n",
    "import en_core_web_sm\n",
    "import scattertext as st\n",
    "from wordcloud import WordCloud, STOPWORDS, ImageColorGenerator\n",
    "from sklearn.decomposition import LatentDirichletAllocation"
   ]
  },
  {
   "cell_type": "code",
   "execution_count": 145,
   "metadata": {},
   "outputs": [
    {
     "data": {
      "text/html": [
       "<div>\n",
       "<style scoped>\n",
       "    .dataframe tbody tr th:only-of-type {\n",
       "        vertical-align: middle;\n",
       "    }\n",
       "\n",
       "    .dataframe tbody tr th {\n",
       "        vertical-align: top;\n",
       "    }\n",
       "\n",
       "    .dataframe thead th {\n",
       "        text-align: right;\n",
       "    }\n",
       "</style>\n",
       "<table border=\"1\" class=\"dataframe\">\n",
       "  <thead>\n",
       "    <tr style=\"text-align: right;\">\n",
       "      <th></th>\n",
       "      <th>tweet_id</th>\n",
       "      <th>screen_name</th>\n",
       "      <th>datetime</th>\n",
       "      <th>text</th>\n",
       "      <th>name_wikipedia</th>\n",
       "      <th>position</th>\n",
       "      <th>joined_congress_date</th>\n",
       "      <th>birthday</th>\n",
       "      <th>gender</th>\n",
       "      <th>state</th>\n",
       "      <th>district_number</th>\n",
       "      <th>party</th>\n",
       "      <th>trump_2016_state_share</th>\n",
       "      <th>clinton_2016_state_share</th>\n",
       "      <th>obama_2012_state_share</th>\n",
       "      <th>romney_2012_state_share</th>\n",
       "    </tr>\n",
       "  </thead>\n",
       "  <tbody>\n",
       "    <tr>\n",
       "      <th>11361</th>\n",
       "      <td>1.132820e+18</td>\n",
       "      <td>SenDanSullivan</td>\n",
       "      <td>2019-05-26T21:36:32-04:00</td>\n",
       "      <td>Sam &amp;amp; the guys had to deal with a less exp...</td>\n",
       "      <td>Dan Sullivan</td>\n",
       "      <td>Sen</td>\n",
       "      <td>3-Jan-15</td>\n",
       "      <td>11/13/1964</td>\n",
       "      <td>M</td>\n",
       "      <td>AK</td>\n",
       "      <td>Senate</td>\n",
       "      <td>Republican</td>\n",
       "      <td>163,387</td>\n",
       "      <td>116,454</td>\n",
       "      <td>122,640</td>\n",
       "      <td>164,676</td>\n",
       "    </tr>\n",
       "    <tr>\n",
       "      <th>479436</th>\n",
       "      <td>1.125490e+18</td>\n",
       "      <td>SenatorFischer</td>\n",
       "      <td>2019-05-06T16:15:46-04:00</td>\n",
       "      <td>It was great to @Skype w @StuartPublicSch’s go...</td>\n",
       "      <td>Deb Fischer</td>\n",
       "      <td>Sen</td>\n",
       "      <td>3-Jan-13</td>\n",
       "      <td>3/1/1951</td>\n",
       "      <td>F</td>\n",
       "      <td>NE</td>\n",
       "      <td>Senate</td>\n",
       "      <td>Republican</td>\n",
       "      <td>495,961</td>\n",
       "      <td>284,494</td>\n",
       "      <td>302,081</td>\n",
       "      <td>475,064</td>\n",
       "    </tr>\n",
       "    <tr>\n",
       "      <th>866557</th>\n",
       "      <td>1.166860e+18</td>\n",
       "      <td>RepDonBeyer</td>\n",
       "      <td>2019-08-28T19:44:44-04:00</td>\n",
       "      <td>RT @brianstelter 170 days.\\n\\nhttp://www.cnn.c...</td>\n",
       "      <td>Don Beyer</td>\n",
       "      <td>Rep</td>\n",
       "      <td>3-Jan-15</td>\n",
       "      <td>6/20/1950</td>\n",
       "      <td>M</td>\n",
       "      <td>VA</td>\n",
       "      <td>8</td>\n",
       "      <td>Democrat</td>\n",
       "      <td>1,769,443</td>\n",
       "      <td>1,981,473</td>\n",
       "      <td>1,971,820</td>\n",
       "      <td>1,822,522</td>\n",
       "    </tr>\n",
       "    <tr>\n",
       "      <th>168486</th>\n",
       "      <td>1.242860e+18</td>\n",
       "      <td>SenatorBennet</td>\n",
       "      <td>2020-03-25T13:14:12-04:00</td>\n",
       "      <td>@SenateDems We fought hard to make sure nonpro...</td>\n",
       "      <td>Michael Bennet</td>\n",
       "      <td>Sen</td>\n",
       "      <td>21-Jan-09</td>\n",
       "      <td>11/28/1964</td>\n",
       "      <td>M</td>\n",
       "      <td>CO</td>\n",
       "      <td>Senate</td>\n",
       "      <td>Democrat</td>\n",
       "      <td>1,202,484</td>\n",
       "      <td>1,338,870</td>\n",
       "      <td>1,323,102</td>\n",
       "      <td>1,185,243</td>\n",
       "    </tr>\n",
       "    <tr>\n",
       "      <th>507812</th>\n",
       "      <td>1.126490e+18</td>\n",
       "      <td>RepSires</td>\n",
       "      <td>2019-05-09T10:26:11-04:00</td>\n",
       "      <td>This illegal act shows once again there is no ...</td>\n",
       "      <td>Albio Sires</td>\n",
       "      <td>Rep</td>\n",
       "      <td>3-Jan-13</td>\n",
       "      <td>1/26/1951</td>\n",
       "      <td>M</td>\n",
       "      <td>NJ</td>\n",
       "      <td>8</td>\n",
       "      <td>Democrat</td>\n",
       "      <td>1,601,933</td>\n",
       "      <td>2,148,278</td>\n",
       "      <td>2,125,101</td>\n",
       "      <td>1,477,568</td>\n",
       "    </tr>\n",
       "  </tbody>\n",
       "</table>\n",
       "</div>"
      ],
      "text/plain": [
       "            tweet_id     screen_name                   datetime  \\\n",
       "11361   1.132820e+18  SenDanSullivan  2019-05-26T21:36:32-04:00   \n",
       "479436  1.125490e+18  SenatorFischer  2019-05-06T16:15:46-04:00   \n",
       "866557  1.166860e+18     RepDonBeyer  2019-08-28T19:44:44-04:00   \n",
       "168486  1.242860e+18   SenatorBennet  2020-03-25T13:14:12-04:00   \n",
       "507812  1.126490e+18        RepSires  2019-05-09T10:26:11-04:00   \n",
       "\n",
       "                                                     text  name_wikipedia  \\\n",
       "11361   Sam &amp; the guys had to deal with a less exp...    Dan Sullivan   \n",
       "479436  It was great to @Skype w @StuartPublicSch’s go...     Deb Fischer   \n",
       "866557  RT @brianstelter 170 days.\\n\\nhttp://www.cnn.c...       Don Beyer   \n",
       "168486  @SenateDems We fought hard to make sure nonpro...  Michael Bennet   \n",
       "507812  This illegal act shows once again there is no ...     Albio Sires   \n",
       "\n",
       "       position joined_congress_date    birthday gender state district_number  \\\n",
       "11361       Sen             3-Jan-15  11/13/1964      M    AK          Senate   \n",
       "479436      Sen             3-Jan-13    3/1/1951      F    NE          Senate   \n",
       "866557      Rep             3-Jan-15   6/20/1950      M    VA               8   \n",
       "168486      Sen            21-Jan-09  11/28/1964      M    CO          Senate   \n",
       "507812      Rep             3-Jan-13   1/26/1951      M    NJ               8   \n",
       "\n",
       "             party trump_2016_state_share clinton_2016_state_share  \\\n",
       "11361   Republican                163,387                  116,454   \n",
       "479436  Republican                495,961                  284,494   \n",
       "866557    Democrat              1,769,443                1,981,473   \n",
       "168486    Democrat              1,202,484                1,338,870   \n",
       "507812    Democrat              1,601,933                2,148,278   \n",
       "\n",
       "       obama_2012_state_share romney_2012_state_share  \n",
       "11361                 122,640                 164,676  \n",
       "479436                302,081                 475,064  \n",
       "866557              1,971,820               1,822,522  \n",
       "168486              1,323,102               1,185,243  \n",
       "507812              2,125,101               1,477,568  "
      ]
     },
     "execution_count": 145,
     "metadata": {},
     "output_type": "execute_result"
    }
   ],
   "source": [
    "# read the data. I did not upload the big data file to GitHub, so you need to put the data file into your local project repo. \n",
    "congress_tweets = pd.read_csv(\"116th Congressional Tweets and Demographics.csv\")\n",
    "\n",
    "# sample 1000 rows to run the code. I have set the random.state to an integer so hopefully we will get the same sample in each iteration. \n",
    "congress_tweets = congress_tweets.sample(n=1000, replace=False, random_state= 5, axis= 0)\n",
    "congress_tweets.head()"
   ]
  },
  {
   "cell_type": "markdown",
   "metadata": {},
   "source": [
    "## Preprocessing"
   ]
  },
  {
   "cell_type": "markdown",
   "metadata": {},
   "source": [
    "The first step in working with text data is to preprocess it. Make sure you do the following:\n",
    "\n",
    "* Remove punctuation and stop words. The `rem_punc_stop()` function we used in lab is provided to you but you should feel free to edit it as necessary for other steps\n",
    "* Remove tokens that occur frequently in tweets, but may not be helpful for downstream classification. For instance, many tweets contain a flag for retweeting, or share a URL \n",
    "\n",
    "As you search online, you might run into solutions that rely on regular expressions. You are free to use these, but you should also be able to preprocess using the techniques we covered in lab. Specifically, we encourage you to use spaCy's token attributes and string methods to do some of this text preprocessing."
   ]
  },
  {
   "cell_type": "code",
   "execution_count": 146,
   "metadata": {},
   "outputs": [
    {
     "data": {
      "text/html": [
       "<div>\n",
       "<style scoped>\n",
       "    .dataframe tbody tr th:only-of-type {\n",
       "        vertical-align: middle;\n",
       "    }\n",
       "\n",
       "    .dataframe tbody tr th {\n",
       "        vertical-align: top;\n",
       "    }\n",
       "\n",
       "    .dataframe thead th {\n",
       "        text-align: right;\n",
       "    }\n",
       "</style>\n",
       "<table border=\"1\" class=\"dataframe\">\n",
       "  <thead>\n",
       "    <tr style=\"text-align: right;\">\n",
       "      <th></th>\n",
       "      <th>index</th>\n",
       "      <th>tweet_id</th>\n",
       "      <th>screen_name</th>\n",
       "      <th>datetime</th>\n",
       "      <th>text</th>\n",
       "      <th>name_wikipedia</th>\n",
       "      <th>position</th>\n",
       "      <th>joined_congress_date</th>\n",
       "      <th>birthday</th>\n",
       "      <th>gender</th>\n",
       "      <th>state</th>\n",
       "      <th>district_number</th>\n",
       "      <th>party</th>\n",
       "      <th>trump_2016_state_share</th>\n",
       "      <th>clinton_2016_state_share</th>\n",
       "      <th>obama_2012_state_share</th>\n",
       "      <th>romney_2012_state_share</th>\n",
       "    </tr>\n",
       "  </thead>\n",
       "  <tbody>\n",
       "    <tr>\n",
       "      <th>0</th>\n",
       "      <td>11361</td>\n",
       "      <td>1.132820e+18</td>\n",
       "      <td>SenDanSullivan</td>\n",
       "      <td>2019-05-26T21:36:32-04:00</td>\n",
       "      <td>Sam &amp;amp; the guys had to deal with a less exp...</td>\n",
       "      <td>Dan Sullivan</td>\n",
       "      <td>Sen</td>\n",
       "      <td>3-Jan-15</td>\n",
       "      <td>11/13/1964</td>\n",
       "      <td>M</td>\n",
       "      <td>AK</td>\n",
       "      <td>Senate</td>\n",
       "      <td>Republican</td>\n",
       "      <td>163,387</td>\n",
       "      <td>116,454</td>\n",
       "      <td>122,640</td>\n",
       "      <td>164,676</td>\n",
       "    </tr>\n",
       "    <tr>\n",
       "      <th>1</th>\n",
       "      <td>479436</td>\n",
       "      <td>1.125490e+18</td>\n",
       "      <td>SenatorFischer</td>\n",
       "      <td>2019-05-06T16:15:46-04:00</td>\n",
       "      <td>It was great to @Skype w @StuartPublicSch’s go...</td>\n",
       "      <td>Deb Fischer</td>\n",
       "      <td>Sen</td>\n",
       "      <td>3-Jan-13</td>\n",
       "      <td>3/1/1951</td>\n",
       "      <td>F</td>\n",
       "      <td>NE</td>\n",
       "      <td>Senate</td>\n",
       "      <td>Republican</td>\n",
       "      <td>495,961</td>\n",
       "      <td>284,494</td>\n",
       "      <td>302,081</td>\n",
       "      <td>475,064</td>\n",
       "    </tr>\n",
       "    <tr>\n",
       "      <th>2</th>\n",
       "      <td>866557</td>\n",
       "      <td>1.166860e+18</td>\n",
       "      <td>RepDonBeyer</td>\n",
       "      <td>2019-08-28T19:44:44-04:00</td>\n",
       "      <td>RT @brianstelter 170 days.\\n\\nhttp://www.cnn.c...</td>\n",
       "      <td>Don Beyer</td>\n",
       "      <td>Rep</td>\n",
       "      <td>3-Jan-15</td>\n",
       "      <td>6/20/1950</td>\n",
       "      <td>M</td>\n",
       "      <td>VA</td>\n",
       "      <td>8</td>\n",
       "      <td>Democrat</td>\n",
       "      <td>1,769,443</td>\n",
       "      <td>1,981,473</td>\n",
       "      <td>1,971,820</td>\n",
       "      <td>1,822,522</td>\n",
       "    </tr>\n",
       "    <tr>\n",
       "      <th>3</th>\n",
       "      <td>168486</td>\n",
       "      <td>1.242860e+18</td>\n",
       "      <td>SenatorBennet</td>\n",
       "      <td>2020-03-25T13:14:12-04:00</td>\n",
       "      <td>@SenateDems We fought hard to make sure nonpro...</td>\n",
       "      <td>Michael Bennet</td>\n",
       "      <td>Sen</td>\n",
       "      <td>21-Jan-09</td>\n",
       "      <td>11/28/1964</td>\n",
       "      <td>M</td>\n",
       "      <td>CO</td>\n",
       "      <td>Senate</td>\n",
       "      <td>Democrat</td>\n",
       "      <td>1,202,484</td>\n",
       "      <td>1,338,870</td>\n",
       "      <td>1,323,102</td>\n",
       "      <td>1,185,243</td>\n",
       "    </tr>\n",
       "    <tr>\n",
       "      <th>4</th>\n",
       "      <td>507812</td>\n",
       "      <td>1.126490e+18</td>\n",
       "      <td>RepSires</td>\n",
       "      <td>2019-05-09T10:26:11-04:00</td>\n",
       "      <td>This illegal act shows once again there is no ...</td>\n",
       "      <td>Albio Sires</td>\n",
       "      <td>Rep</td>\n",
       "      <td>3-Jan-13</td>\n",
       "      <td>1/26/1951</td>\n",
       "      <td>M</td>\n",
       "      <td>NJ</td>\n",
       "      <td>8</td>\n",
       "      <td>Democrat</td>\n",
       "      <td>1,601,933</td>\n",
       "      <td>2,148,278</td>\n",
       "      <td>2,125,101</td>\n",
       "      <td>1,477,568</td>\n",
       "    </tr>\n",
       "  </tbody>\n",
       "</table>\n",
       "</div>"
      ],
      "text/plain": [
       "    index      tweet_id     screen_name                   datetime  \\\n",
       "0   11361  1.132820e+18  SenDanSullivan  2019-05-26T21:36:32-04:00   \n",
       "1  479436  1.125490e+18  SenatorFischer  2019-05-06T16:15:46-04:00   \n",
       "2  866557  1.166860e+18     RepDonBeyer  2019-08-28T19:44:44-04:00   \n",
       "3  168486  1.242860e+18   SenatorBennet  2020-03-25T13:14:12-04:00   \n",
       "4  507812  1.126490e+18        RepSires  2019-05-09T10:26:11-04:00   \n",
       "\n",
       "                                                text  name_wikipedia position  \\\n",
       "0  Sam &amp; the guys had to deal with a less exp...    Dan Sullivan      Sen   \n",
       "1  It was great to @Skype w @StuartPublicSch’s go...     Deb Fischer      Sen   \n",
       "2  RT @brianstelter 170 days.\\n\\nhttp://www.cnn.c...       Don Beyer      Rep   \n",
       "3  @SenateDems We fought hard to make sure nonpro...  Michael Bennet      Sen   \n",
       "4  This illegal act shows once again there is no ...     Albio Sires      Rep   \n",
       "\n",
       "  joined_congress_date    birthday gender state district_number       party  \\\n",
       "0             3-Jan-15  11/13/1964      M    AK          Senate  Republican   \n",
       "1             3-Jan-13    3/1/1951      F    NE          Senate  Republican   \n",
       "2             3-Jan-15   6/20/1950      M    VA               8    Democrat   \n",
       "3            21-Jan-09  11/28/1964      M    CO          Senate    Democrat   \n",
       "4             3-Jan-13   1/26/1951      M    NJ               8    Democrat   \n",
       "\n",
       "  trump_2016_state_share clinton_2016_state_share obama_2012_state_share  \\\n",
       "0                163,387                  116,454                122,640   \n",
       "1                495,961                  284,494                302,081   \n",
       "2              1,769,443                1,981,473              1,971,820   \n",
       "3              1,202,484                1,338,870              1,323,102   \n",
       "4              1,601,933                2,148,278              2,125,101   \n",
       "\n",
       "  romney_2012_state_share  \n",
       "0                 164,676  \n",
       "1                 475,064  \n",
       "2               1,822,522  \n",
       "3               1,185,243  \n",
       "4               1,477,568  "
      ]
     },
     "execution_count": 146,
     "metadata": {},
     "output_type": "execute_result"
    }
   ],
   "source": [
    "# drop NA in the 'text' column \n",
    "congress_tweets = congress_tweets.dropna(subset = ['text']).reset_index()\n",
    "congress_tweets.head()"
   ]
  },
  {
   "cell_type": "code",
   "execution_count": 147,
   "metadata": {},
   "outputs": [
    {
     "data": {
      "text/plain": [
       "0      Sam &amp; the guys had to deal with a less exp...\n",
       "1      It was great to @Skype w @StuartPublicSch’s go...\n",
       "2      RT @brianstelter 170 days.\\n\\nhttp://www.cnn.c...\n",
       "3      @SenateDems We fought hard to make sure nonpro...\n",
       "4      This illegal act shows once again there is no ...\n",
       "                             ...                        \n",
       "995    Protecting our Great Lakes is part of our DNA ...\n",
       "996    Implementing #Huawei technology into national ...\n",
       "997    Sarah Pitlyk lacks the basic qualifications an...\n",
       "998    For the fourth consecutive day, Mississippi's ...\n",
       "999    They provide needed relief for local restauran...\n",
       "Name: text, Length: 1000, dtype: object"
      ]
     },
     "execution_count": 147,
     "metadata": {},
     "output_type": "execute_result"
    }
   ],
   "source": [
    "# look at the \"text\" column \n",
    "text = congress_tweets['text']\n",
    "text"
   ]
  },
  {
   "cell_type": "code",
   "execution_count": 148,
   "metadata": {},
   "outputs": [
    {
     "data": {
      "text/plain": [
       "'Sam &amp; the guys had to deal with a less experienced teammate (me). But we did make it onto the podium for 3rd place, and my teammates were gracious. Fortunately, Sam’s all-time race record of 1:09 still stands! Congrats to the winners and all who competed. #Kodiak #crabfest2019'"
      ]
     },
     "execution_count": 148,
     "metadata": {},
     "output_type": "execute_result"
    }
   ],
   "source": [
    "# see how a tweet looks like \n",
    "congress_tweets['text'][0]"
   ]
  },
  {
   "cell_type": "code",
   "execution_count": 149,
   "metadata": {},
   "outputs": [
    {
     "data": {
      "text/plain": [
       "'RT @brianstelter 170 days.\\n\\nhttp://www.cnn.com/2019/08/28/politics/trump-white-house-daily-press-briefing/index.html'"
      ]
     },
     "execution_count": 149,
     "metadata": {},
     "output_type": "execute_result"
    }
   ],
   "source": [
    "congress_tweets['text'][2]"
   ]
  },
  {
   "cell_type": "markdown",
   "metadata": {},
   "source": [
    "In addition to words with substantial meanings, we can see many symbols like @, #, &, http://, and perhaps emojis (is flag an emoji?). Let's remove URL first. "
   ]
  },
  {
   "cell_type": "code",
   "execution_count": 150,
   "metadata": {},
   "outputs": [],
   "source": [
    "import re\n",
    "def remove_URL(sample):\n",
    "    return re.sub(r\"http\\S+\", \"\", sample)"
   ]
  },
  {
   "cell_type": "code",
   "execution_count": 151,
   "metadata": {},
   "outputs": [],
   "source": [
    "congress_tweets['text_URLremoved'] = congress_tweets['text'].map(lambda x: remove_URL(x))"
   ]
  },
  {
   "cell_type": "code",
   "execution_count": 152,
   "metadata": {},
   "outputs": [
    {
     "data": {
      "text/plain": [
       "'RT @brianstelter 170 days.\\n\\n'"
      ]
     },
     "execution_count": 152,
     "metadata": {},
     "output_type": "execute_result"
    }
   ],
   "source": [
    "congress_tweets['text_URLremoved'][2]"
   ]
  },
  {
   "cell_type": "markdown",
   "metadata": {},
   "source": [
    "URL is removed, but we have new-line indicators and abbreviations such as 'RT' (retweet) and 'QT'(quote a tweet) left, which are not helpful in classification. Let's integrate removal of new-line indicators and abbreviations in the rem_punc_stop() function, and apply that function to see what we can get. \n",
    "\n",
    "(Please suggest if other abbreviations like RT or QT need to be removed - actually I don't use Twitter so I must have missed a lot:) "
   ]
  },
  {
   "cell_type": "code",
   "execution_count": 153,
   "metadata": {},
   "outputs": [],
   "source": [
    "# define the punctuation and stop words remove function \n",
    "def rem_punc_stop(text):\n",
    "    stop_words = STOP_WORDS\n",
    "    \n",
    "    nlp.Defaults.stop_words |= {\"\\n\\n\", \"\\n\", \"RT\", \"QT\", \"amp\"} \n",
    "    \n",
    "    punc = set(punctuation)\n",
    "    \n",
    "    punc_free = \"\".join([ch for ch in text if ch not in punc])\n",
    "    \n",
    "    doc = nlp(punc_free)\n",
    "    \n",
    "    spacy_words = [token.text for token in doc]\n",
    "    \n",
    "    spacy_words = [word for word in spacy_words if not word.startswith('http')]\n",
    "    \n",
    "    no_stop = [word for word in spacy_words if word not in stop_words]\n",
    "    \n",
    "    return no_stop"
   ]
  },
  {
   "cell_type": "code",
   "execution_count": 154,
   "metadata": {},
   "outputs": [],
   "source": [
    "# apply rem_punc_stop() to 'text' column to get a tokenized list of 'text' with stop words and puncutation removed \n",
    "congress_tweets['tokens'] = congress_tweets['text_URLremoved'].map(lambda x: rem_punc_stop(x))\n",
    "# this step adds a new column 'token' to the original dadaframe "
   ]
  },
  {
   "cell_type": "code",
   "execution_count": 155,
   "metadata": {},
   "outputs": [
    {
     "data": {
      "text/plain": [
       "0      [Sam, guys, deal, experienced, teammate, But, ...\n",
       "1      [It, great, Skype, w, StuartPublicSch, governm...\n",
       "2                              [brianstelter, 170, days]\n",
       "3      [SenateDems, We, fought, hard, sure, nonprofit...\n",
       "4      [This, illegal, act, shows, rule, law, Maduro,...\n",
       "                             ...                        \n",
       "995    [Protecting, Great, Lakes, DNA, Michiganders, ...\n",
       "996    [Implementing, Huawei, technology, national, i...\n",
       "997    [Sarah, Pitlyk, lacks, basic, qualifications, ...\n",
       "998    [For, fourth, consecutive, day, Mississippis, ...\n",
       "999    [They, provide, needed, relief, local, restaur...\n",
       "Name: tokens, Length: 1000, dtype: object"
      ]
     },
     "execution_count": 155,
     "metadata": {},
     "output_type": "execute_result"
    }
   ],
   "source": [
    "congress_tweets['tokens']"
   ]
  },
  {
   "cell_type": "code",
   "execution_count": 156,
   "metadata": {},
   "outputs": [
    {
     "data": {
      "text/plain": [
       "['Sam',\n",
       " 'guys',\n",
       " 'deal',\n",
       " 'experienced',\n",
       " 'teammate',\n",
       " 'But',\n",
       " 'podium',\n",
       " '3rd',\n",
       " 'place',\n",
       " 'teammates',\n",
       " 'gracious',\n",
       " 'Fortunately',\n",
       " 'Sam',\n",
       " 'alltime',\n",
       " 'race',\n",
       " 'record',\n",
       " '109',\n",
       " 'stands',\n",
       " 'Congrats',\n",
       " 'winners',\n",
       " 'competed',\n",
       " 'Kodiak',\n",
       " 'crabfest2019']"
      ]
     },
     "execution_count": 156,
     "metadata": {},
     "output_type": "execute_result"
    }
   ],
   "source": [
    "# see tokens in some tweets\n",
    "congress_tweets['tokens'][0]"
   ]
  },
  {
   "cell_type": "code",
   "execution_count": 157,
   "metadata": {},
   "outputs": [
    {
     "data": {
      "text/plain": [
       "['brianstelter', '170', 'days']"
      ]
     },
     "execution_count": 157,
     "metadata": {},
     "output_type": "execute_result"
    }
   ],
   "source": [
    "congress_tweets['tokens'][2]"
   ]
  },
  {
   "cell_type": "markdown",
   "metadata": {},
   "source": [
    "The tokens seem good. Let's use WordCloud to see if the most frequent words and their size according to frequency sound meaningful. "
   ]
  },
  {
   "cell_type": "code",
   "execution_count": 158,
   "metadata": {},
   "outputs": [
    {
     "data": {
      "image/png": "[encoded data removed]",
      "text/plain": [
       "<Figure size 432x288 with 1 Axes>"
      ]
     },
     "metadata": {
      "needs_background": "light"
     },
     "output_type": "display_data"
    }
   ],
   "source": [
    "text = ' '.join(congress_tweets['tokens'].map(lambda text: ' '.join(text))) \n",
    "wordcloud = WordCloud().generate(text)\n",
    "plt.imshow(wordcloud, interpolation = 'bilinear')\n",
    "plt.axis('off')\n",
    "plt.show()"
   ]
  },
  {
   "cell_type": "markdown",
   "metadata": {},
   "source": [
    "The word clouds seems make sense. Now we move to EDA. (Word clouds is also an EDA approach but here I use it more like a sanity check)."
   ]
  },
  {
   "cell_type": "markdown",
   "metadata": {},
   "source": [
    "## Exploratory Data Analysis"
   ]
  },
  {
   "cell_type": "markdown",
   "metadata": {},
   "source": [
    "Use two of the techniques we covered in lab (or other techniques outside of lab!) to explore the text of the tweets. You should construct these visualizations with an eye toward the eventual classification tasks: (1) predicting the legislator's political party based on the text of their tweet, and (2) predicting whether the legislator is a Senator or Representative. As a reminder, in lab we covered word frequencies, word clouds, word/character counts, scattertext, and topic modeling as possible exploration tools. "
   ]
  },
  {
   "cell_type": "markdown",
   "metadata": {},
   "source": [
    "### EDA 1 visualizing n-grams"
   ]
  },
  {
   "cell_type": "code",
   "execution_count": 163,
   "metadata": {},
   "outputs": [
    {
     "data": {
      "text/plain": [
       "0      Sam guys deal experienced teammate But podium ...\n",
       "1      It great Skype w StuartPublicSch government cl...\n",
       "2                                  brianstelter 170 days\n",
       "3      SenateDems We fought hard sure nonprofits size...\n",
       "4      This illegal act shows rule law Maduro Venezue...\n",
       "                             ...                        \n",
       "995    Protecting Great Lakes DNA Michiganders critic...\n",
       "996    Implementing Huawei technology national infras...\n",
       "997    Sarah Pitlyk lacks basic qualifications experi...\n",
       "998    For fourth consecutive day Mississippis number...\n",
       "999    They provide needed relief local restaurants l...\n",
       "Name: tokens, Length: 1000, dtype: object"
      ]
     },
     "execution_count": 163,
     "metadata": {},
     "output_type": "execute_result"
    }
   ],
   "source": [
    "# collapse our tokens back into strings with the join() string method.\n",
    "congress_tweets['tokens'] = congress_tweets['tokens'].map(lambda text: ' '.join(text))\n",
    "congress_tweets['tokens']"
   ]
  },
  {
   "cell_type": "code",
   "execution_count": 164,
   "metadata": {},
   "outputs": [
    {
     "data": {
      "text/html": [
       "<div>\n",
       "<style scoped>\n",
       "    .dataframe tbody tr th:only-of-type {\n",
       "        vertical-align: middle;\n",
       "    }\n",
       "\n",
       "    .dataframe tbody tr th {\n",
       "        vertical-align: top;\n",
       "    }\n",
       "\n",
       "    .dataframe thead th {\n",
       "        text-align: right;\n",
       "    }\n",
       "</style>\n",
       "<table border=\"1\" class=\"dataframe\">\n",
       "  <thead>\n",
       "    <tr style=\"text-align: right;\">\n",
       "      <th></th>\n",
       "      <th>index</th>\n",
       "      <th>tweet_id</th>\n",
       "      <th>screen_name</th>\n",
       "      <th>datetime</th>\n",
       "      <th>text</th>\n",
       "      <th>name_wikipedia</th>\n",
       "      <th>position</th>\n",
       "      <th>joined_congress_date</th>\n",
       "      <th>birthday</th>\n",
       "      <th>gender</th>\n",
       "      <th>state</th>\n",
       "      <th>district_number</th>\n",
       "      <th>party</th>\n",
       "      <th>trump_2016_state_share</th>\n",
       "      <th>clinton_2016_state_share</th>\n",
       "      <th>obama_2012_state_share</th>\n",
       "      <th>romney_2012_state_share</th>\n",
       "      <th>text_URLremoved</th>\n",
       "      <th>tokens</th>\n",
       "    </tr>\n",
       "  </thead>\n",
       "  <tbody>\n",
       "    <tr>\n",
       "      <th>0</th>\n",
       "      <td>11361</td>\n",
       "      <td>1.132820e+18</td>\n",
       "      <td>SenDanSullivan</td>\n",
       "      <td>2019-05-26T21:36:32-04:00</td>\n",
       "      <td>Sam &amp;amp; the guys had to deal with a less exp...</td>\n",
       "      <td>Dan Sullivan</td>\n",
       "      <td>Sen</td>\n",
       "      <td>3-Jan-15</td>\n",
       "      <td>11/13/1964</td>\n",
       "      <td>M</td>\n",
       "      <td>AK</td>\n",
       "      <td>Senate</td>\n",
       "      <td>Republican</td>\n",
       "      <td>163,387</td>\n",
       "      <td>116,454</td>\n",
       "      <td>122,640</td>\n",
       "      <td>164,676</td>\n",
       "      <td>Sam &amp;amp; the guys had to deal with a less exp...</td>\n",
       "      <td>Sam guys deal experienced teammate But podium ...</td>\n",
       "    </tr>\n",
       "    <tr>\n",
       "      <th>1</th>\n",
       "      <td>479436</td>\n",
       "      <td>1.125490e+18</td>\n",
       "      <td>SenatorFischer</td>\n",
       "      <td>2019-05-06T16:15:46-04:00</td>\n",
       "      <td>It was great to @Skype w @StuartPublicSch’s go...</td>\n",
       "      <td>Deb Fischer</td>\n",
       "      <td>Sen</td>\n",
       "      <td>3-Jan-13</td>\n",
       "      <td>3/1/1951</td>\n",
       "      <td>F</td>\n",
       "      <td>NE</td>\n",
       "      <td>Senate</td>\n",
       "      <td>Republican</td>\n",
       "      <td>495,961</td>\n",
       "      <td>284,494</td>\n",
       "      <td>302,081</td>\n",
       "      <td>475,064</td>\n",
       "      <td>It was great to @Skype w @StuartPublicSch’s go...</td>\n",
       "      <td>It great Skype w StuartPublicSch government cl...</td>\n",
       "    </tr>\n",
       "  </tbody>\n",
       "</table>\n",
       "</div>"
      ],
      "text/plain": [
       "    index      tweet_id     screen_name                   datetime  \\\n",
       "0   11361  1.132820e+18  SenDanSullivan  2019-05-26T21:36:32-04:00   \n",
       "1  479436  1.125490e+18  SenatorFischer  2019-05-06T16:15:46-04:00   \n",
       "\n",
       "                                                text name_wikipedia position  \\\n",
       "0  Sam &amp; the guys had to deal with a less exp...   Dan Sullivan      Sen   \n",
       "1  It was great to @Skype w @StuartPublicSch’s go...    Deb Fischer      Sen   \n",
       "\n",
       "  joined_congress_date    birthday gender state district_number       party  \\\n",
       "0             3-Jan-15  11/13/1964      M    AK          Senate  Republican   \n",
       "1             3-Jan-13    3/1/1951      F    NE          Senate  Republican   \n",
       "\n",
       "  trump_2016_state_share clinton_2016_state_share obama_2012_state_share  \\\n",
       "0                163,387                  116,454                122,640   \n",
       "1                495,961                  284,494                302,081   \n",
       "\n",
       "  romney_2012_state_share                                    text_URLremoved  \\\n",
       "0                 164,676  Sam &amp; the guys had to deal with a less exp...   \n",
       "1                 475,064  It was great to @Skype w @StuartPublicSch’s go...   \n",
       "\n",
       "                                              tokens  \n",
       "0  Sam guys deal experienced teammate But podium ...  \n",
       "1  It great Skype w StuartPublicSch government cl...  "
      ]
     },
     "execution_count": 164,
     "metadata": {},
     "output_type": "execute_result"
    }
   ],
   "source": [
    "congress_tweets.head(2)"
   ]
  },
  {
   "cell_type": "code",
   "execution_count": 165,
   "metadata": {},
   "outputs": [
    {
     "name": "stderr",
     "output_type": "stream",
     "text": [
      "/Applications/anaconda3/lib/python3.8/site-packages/sklearn/feature_extraction/text.py:396: UserWarning: Your stop_words may be inconsistent with your preprocessing. Tokenizing the stop words generated tokens ['ll', 'qt', 'rt', 've'] not in stop_words.\n",
      "  warnings.warn(\n",
      "/Applications/anaconda3/lib/python3.8/site-packages/sklearn/utils/deprecation.py:87: FutureWarning: Function get_feature_names is deprecated; get_feature_names is deprecated in 1.0 and will be removed in 1.2. Please use get_feature_names_out instead.\n",
      "  warnings.warn(msg, category=FutureWarning)\n"
     ]
    }
   ],
   "source": [
    "# initialize the BOW countervectorizer\n",
    "# the ngram_range argument. ngram_range=(1,2) is do to a unigram (1-gram) and a bigram (2-gram) \n",
    "countvec = CountVectorizer(stop_words=STOP_WORDS, ngram_range=(2,3)) # n-gram is a bigram and a 3-gram\n",
    "ngrams = countvec.fit_transform(congress_tweets['tokens'])\n",
    "\n",
    "dictionary_dataframe = pd.DataFrame(ngrams.todense(), columns = countvec.get_feature_names())"
   ]
  },
  {
   "cell_type": "code",
   "execution_count": 166,
   "metadata": {},
   "outputs": [
    {
     "data": {
      "text/html": [
       "<div>\n",
       "<style scoped>\n",
       "    .dataframe tbody tr th:only-of-type {\n",
       "        vertical-align: middle;\n",
       "    }\n",
       "\n",
       "    .dataframe tbody tr th {\n",
       "        vertical-align: top;\n",
       "    }\n",
       "\n",
       "    .dataframe thead th {\n",
       "        text-align: right;\n",
       "    }\n",
       "</style>\n",
       "<table border=\"1\" class=\"dataframe\">\n",
       "  <thead>\n",
       "    <tr style=\"text-align: right;\">\n",
       "      <th></th>\n",
       "      <th>10 celebrated</th>\n",
       "      <th>10 celebrated harriet</th>\n",
       "      <th>10 covid</th>\n",
       "      <th>10 covid states</th>\n",
       "      <th>10 million</th>\n",
       "      <th>10 million scientist</th>\n",
       "      <th>10 people</th>\n",
       "      <th>10 pm</th>\n",
       "      <th>10 pm week</th>\n",
       "      <th>10 years</th>\n",
       "      <th>...</th>\n",
       "      <th>zip code</th>\n",
       "      <th>zip code economic</th>\n",
       "      <th>zones act</th>\n",
       "      <th>zones act repanthonybrown</th>\n",
       "      <th>zones expand</th>\n",
       "      <th>zones expand exact</th>\n",
       "      <th>zoo nt</th>\n",
       "      <th>zoo nt know</th>\n",
       "      <th>zulu acherry13</th>\n",
       "      <th>zulu acherry13 gov</th>\n",
       "    </tr>\n",
       "  </thead>\n",
       "  <tbody>\n",
       "    <tr>\n",
       "      <th>0</th>\n",
       "      <td>0</td>\n",
       "      <td>0</td>\n",
       "      <td>0</td>\n",
       "      <td>0</td>\n",
       "      <td>0</td>\n",
       "      <td>0</td>\n",
       "      <td>0</td>\n",
       "      <td>0</td>\n",
       "      <td>0</td>\n",
       "      <td>0</td>\n",
       "      <td>...</td>\n",
       "      <td>0</td>\n",
       "      <td>0</td>\n",
       "      <td>0</td>\n",
       "      <td>0</td>\n",
       "      <td>0</td>\n",
       "      <td>0</td>\n",
       "      <td>0</td>\n",
       "      <td>0</td>\n",
       "      <td>0</td>\n",
       "      <td>0</td>\n",
       "    </tr>\n",
       "    <tr>\n",
       "      <th>1</th>\n",
       "      <td>0</td>\n",
       "      <td>0</td>\n",
       "      <td>0</td>\n",
       "      <td>0</td>\n",
       "      <td>0</td>\n",
       "      <td>0</td>\n",
       "      <td>0</td>\n",
       "      <td>0</td>\n",
       "      <td>0</td>\n",
       "      <td>0</td>\n",
       "      <td>...</td>\n",
       "      <td>0</td>\n",
       "      <td>0</td>\n",
       "      <td>0</td>\n",
       "      <td>0</td>\n",
       "      <td>0</td>\n",
       "      <td>0</td>\n",
       "      <td>0</td>\n",
       "      <td>0</td>\n",
       "      <td>0</td>\n",
       "      <td>0</td>\n",
       "    </tr>\n",
       "    <tr>\n",
       "      <th>2</th>\n",
       "      <td>0</td>\n",
       "      <td>0</td>\n",
       "      <td>0</td>\n",
       "      <td>0</td>\n",
       "      <td>0</td>\n",
       "      <td>0</td>\n",
       "      <td>0</td>\n",
       "      <td>0</td>\n",
       "      <td>0</td>\n",
       "      <td>0</td>\n",
       "      <td>...</td>\n",
       "      <td>0</td>\n",
       "      <td>0</td>\n",
       "      <td>0</td>\n",
       "      <td>0</td>\n",
       "      <td>0</td>\n",
       "      <td>0</td>\n",
       "      <td>0</td>\n",
       "      <td>0</td>\n",
       "      <td>0</td>\n",
       "      <td>0</td>\n",
       "    </tr>\n",
       "    <tr>\n",
       "      <th>3</th>\n",
       "      <td>0</td>\n",
       "      <td>0</td>\n",
       "      <td>0</td>\n",
       "      <td>0</td>\n",
       "      <td>0</td>\n",
       "      <td>0</td>\n",
       "      <td>0</td>\n",
       "      <td>0</td>\n",
       "      <td>0</td>\n",
       "      <td>0</td>\n",
       "      <td>...</td>\n",
       "      <td>0</td>\n",
       "      <td>0</td>\n",
       "      <td>0</td>\n",
       "      <td>0</td>\n",
       "      <td>0</td>\n",
       "      <td>0</td>\n",
       "      <td>0</td>\n",
       "      <td>0</td>\n",
       "      <td>0</td>\n",
       "      <td>0</td>\n",
       "    </tr>\n",
       "    <tr>\n",
       "      <th>4</th>\n",
       "      <td>0</td>\n",
       "      <td>0</td>\n",
       "      <td>0</td>\n",
       "      <td>0</td>\n",
       "      <td>0</td>\n",
       "      <td>0</td>\n",
       "      <td>0</td>\n",
       "      <td>0</td>\n",
       "      <td>0</td>\n",
       "      <td>0</td>\n",
       "      <td>...</td>\n",
       "      <td>0</td>\n",
       "      <td>0</td>\n",
       "      <td>0</td>\n",
       "      <td>0</td>\n",
       "      <td>0</td>\n",
       "      <td>0</td>\n",
       "      <td>0</td>\n",
       "      <td>0</td>\n",
       "      <td>0</td>\n",
       "      <td>0</td>\n",
       "    </tr>\n",
       "  </tbody>\n",
       "</table>\n",
       "<p>5 rows × 36123 columns</p>\n",
       "</div>"
      ],
      "text/plain": [
       "   10 celebrated  10 celebrated harriet  10 covid  10 covid states  \\\n",
       "0              0                      0         0                0   \n",
       "1              0                      0         0                0   \n",
       "2              0                      0         0                0   \n",
       "3              0                      0         0                0   \n",
       "4              0                      0         0                0   \n",
       "\n",
       "   10 million  10 million scientist  10 people  10 pm  10 pm week  10 years  \\\n",
       "0           0                     0          0      0           0         0   \n",
       "1           0                     0          0      0           0         0   \n",
       "2           0                     0          0      0           0         0   \n",
       "3           0                     0          0      0           0         0   \n",
       "4           0                     0          0      0           0         0   \n",
       "\n",
       "   ...  zip code  zip code economic  zones act  zones act repanthonybrown  \\\n",
       "0  ...         0                  0          0                          0   \n",
       "1  ...         0                  0          0                          0   \n",
       "2  ...         0                  0          0                          0   \n",
       "3  ...         0                  0          0                          0   \n",
       "4  ...         0                  0          0                          0   \n",
       "\n",
       "   zones expand  zones expand exact  zoo nt  zoo nt know  zulu acherry13  \\\n",
       "0             0                   0       0            0               0   \n",
       "1             0                   0       0            0               0   \n",
       "2             0                   0       0            0               0   \n",
       "3             0                   0       0            0               0   \n",
       "4             0                   0       0            0               0   \n",
       "\n",
       "   zulu acherry13 gov  \n",
       "0                   0  \n",
       "1                   0  \n",
       "2                   0  \n",
       "3                   0  \n",
       "4                   0  \n",
       "\n",
       "[5 rows x 36123 columns]"
      ]
     },
     "execution_count": 166,
     "metadata": {},
     "output_type": "execute_result"
    }
   ],
   "source": [
    "# see how each 2-grams or 3-grams show up in each row/individual\n",
    "dictionary_dataframe.head()"
   ]
  },
  {
   "cell_type": "code",
   "execution_count": 167,
   "metadata": {},
   "outputs": [
    {
     "data": {
      "text/html": [
       "<div>\n",
       "<style scoped>\n",
       "    .dataframe tbody tr th:only-of-type {\n",
       "        vertical-align: middle;\n",
       "    }\n",
       "\n",
       "    .dataframe tbody tr th {\n",
       "        vertical-align: top;\n",
       "    }\n",
       "\n",
       "    .dataframe thead th {\n",
       "        text-align: right;\n",
       "    }\n",
       "</style>\n",
       "<table border=\"1\" class=\"dataframe\">\n",
       "  <thead>\n",
       "    <tr style=\"text-align: right;\">\n",
       "      <th></th>\n",
       "      <th>ngrams</th>\n",
       "      <th>freq</th>\n",
       "    </tr>\n",
       "  </thead>\n",
       "  <tbody>\n",
       "    <tr>\n",
       "      <th>0</th>\n",
       "      <td>american people</td>\n",
       "      <td>23</td>\n",
       "    </tr>\n",
       "    <tr>\n",
       "      <th>1</th>\n",
       "      <td>president trump</td>\n",
       "      <td>21</td>\n",
       "    </tr>\n",
       "    <tr>\n",
       "      <th>2</th>\n",
       "      <td>health care</td>\n",
       "      <td>20</td>\n",
       "    </tr>\n",
       "    <tr>\n",
       "      <th>3</th>\n",
       "      <td>trump administration</td>\n",
       "      <td>19</td>\n",
       "    </tr>\n",
       "    <tr>\n",
       "      <th>4</th>\n",
       "      <td>supreme court</td>\n",
       "      <td>17</td>\n",
       "    </tr>\n",
       "  </tbody>\n",
       "</table>\n",
       "</div>"
      ],
      "text/plain": [
       "                 ngrams  freq\n",
       "0       american people    23\n",
       "1       president trump    21\n",
       "2           health care    20\n",
       "3  trump administration    19\n",
       "4         supreme court    17"
      ]
     },
     "execution_count": 167,
     "metadata": {},
     "output_type": "execute_result"
    }
   ],
   "source": [
    "# counts how many times each of the 2-grams and 3-grams show up across all document \n",
    "df_ngram = pd.DataFrame(dictionary_dataframe.sum().reset_index()).rename(columns={'index': 'ngrams', 0:'freq'})\n",
    "df_ngram = df_ngram.sort_values(by = ['freq'], ascending = False).reset_index(drop = True)\n",
    "df_ngram.head() "
   ]
  },
  {
   "cell_type": "code",
   "execution_count": 189,
   "metadata": {
    "scrolled": true
   },
   "outputs": [
    {
     "data": {
      "image/png": "[encoded data removed]",
      "text/plain": [
       "<Figure size 432x288 with 1 Axes>"
      ]
     },
     "metadata": {
      "needs_background": "light"
     },
     "output_type": "display_data"
    }
   ],
   "source": [
    "# plot the top 25 n-grams \n",
    "sns.barplot(x=\"ngrams\", y = 'freq', data=df_ngram[0:25]) \n",
    "plt.xticks(rotation=90)\n",
    "plt.show()"
   ]
  },
  {
   "cell_type": "markdown",
   "metadata": {},
   "source": [
    "It seems the top 25 n-grams contains words that are suggestive of topics like **People** (\"american people\", \"millions americans\"), **Health** (\"health care\", \"public health\", \"mental health\"), **Government and Politics** (\"trump administration\", \"supreme court\", \"house democrats\", \"town hall\", \"house passed\"), **Country/Nation** (\"united states\", \"national securitry\"), **COVID-19** (\"wear mask\", \"social distancing\"), **Business** (\"small business\"), etc. These messages are not indicative toward our prediciton tasks but just help us know potential themes in the tweets. Let's use topic modeling to see if these topics will appear and which topics may be good predictors of party membership or senator vs. rep positions."
   ]
  },
  {
   "cell_type": "markdown",
   "metadata": {},
   "source": [
    "### EDA 2 Latent Dirichlet Allocation (LDA) for topic modeling"
   ]
  },
  {
   "cell_type": "code",
   "execution_count": 169,
   "metadata": {},
   "outputs": [],
   "source": [
    "# create tf-idf matrix \n",
    "\n",
    "X = congress_tweets['tokens']\n",
    "tf = TfidfVectorizer(tokenizer = rem_punc_stop)  # initialize the function, name it as 'tf'\n",
    "\n",
    "tfidf_matrix =  tf.fit_transform(X)  \n",
    "dense_matrix = tfidf_matrix.todense()"
   ]
  },
  {
   "cell_type": "code",
   "execution_count": 170,
   "metadata": {},
   "outputs": [
    {
     "data": {
      "text/plain": [
       "matrix([[0., 0., 0., ..., 0., 0., 0.],\n",
       "        [0., 0., 0., ..., 0., 0., 0.],\n",
       "        [0., 0., 0., ..., 0., 0., 0.],\n",
       "        ...,\n",
       "        [0., 0., 0., ..., 0., 0., 0.],\n",
       "        [0., 0., 0., ..., 0., 0., 0.],\n",
       "        [0., 0., 0., ..., 0., 0., 0.]])"
      ]
     },
     "execution_count": 170,
     "metadata": {},
     "output_type": "execute_result"
    }
   ],
   "source": [
    "dense_matrix \n",
    "# tf-idf ranges from 0 to 1. The closer to 1, the word is more distinguishing. \n",
    "# I don't see any 1?? "
   ]
  },
  {
   "cell_type": "code",
   "execution_count": 171,
   "metadata": {},
   "outputs": [
    {
     "name": "stderr",
     "output_type": "stream",
     "text": [
      "/Applications/anaconda3/lib/python3.8/site-packages/sklearn/utils/validation.py:585: FutureWarning: np.matrix usage is deprecated in 1.0 and will raise a TypeError in 1.2. Please convert to a numpy array with np.asarray. For more information see: https://numpy.org/doc/stable/reference/generated/numpy.matrix.html\n",
      "  warnings.warn(\n"
     ]
    }
   ],
   "source": [
    "# apply the LDA model. set n_components= 6 to see what we get. \n",
    "lda = LatentDirichletAllocation(n_components=6, max_iter=20, random_state=0) \n",
    "\n",
    "# use LDA model to fit the data \n",
    "lda = lda.fit(dense_matrix)"
   ]
  },
  {
   "cell_type": "code",
   "execution_count": 172,
   "metadata": {},
   "outputs": [],
   "source": [
    "def print_top_words(model, feature_names, n_top_words):\n",
    "    for topic_idx, topic in enumerate(model.components_):\n",
    "        print(\"\\nTopic #{}:\".format(topic_idx))\n",
    "        print(\" \".join([feature_names[i]\n",
    "                        for i in topic.argsort()[:-n_top_words - 1:-1]]))\n",
    "    print()"
   ]
  },
  {
   "cell_type": "code",
   "execution_count": 173,
   "metadata": {},
   "outputs": [
    {
     "name": "stdout",
     "output_type": "stream",
     "text": [
      "\n",
      "Topic #0:\n",
      "     health today need help honor president — new “ crisis work lives americans world covid19 ” realdonaldtrump care\n",
      "\n",
      "Topic #1:\n",
      "     today time president join community people need house working states work fight americans nation congress new bill “\n",
      "\n",
      "Topic #2:\n",
      "     people families congress act trump health workers important great care – time statement today administration live help access\n",
      "\n",
      "Topic #3:\n",
      "program      trump country president health covid19 learn people ️ ⬇ support help communities new today house need week\n",
      "\n",
      "Topic #4:\n",
      "     americans thank covid19 today time health ” work “ government — great home protect important pandemic \n",
      " \n",
      "  need\n",
      "\n",
      "Topic #5:\n",
      "     trump today act covid19 tune bill house support american country watch – jobs live people thank congress help\n",
      "\n"
     ]
    },
    {
     "name": "stderr",
     "output_type": "stream",
     "text": [
      "/Applications/anaconda3/lib/python3.8/site-packages/sklearn/utils/deprecation.py:87: FutureWarning: Function get_feature_names is deprecated; get_feature_names is deprecated in 1.0 and will be removed in 1.2. Please use get_feature_names_out instead.\n",
      "  warnings.warn(msg, category=FutureWarning)\n"
     ]
    }
   ],
   "source": [
    "# see the 6 topics and print out the top 20 words in each topic\n",
    "tf_feature_names = tf.get_feature_names()\n",
    "print_top_words(lda, tf_feature_names, 20) "
   ]
  },
  {
   "cell_type": "markdown",
   "metadata": {},
   "source": [
    "Based on the top 20 words in each topic, it seems topic 0, 2, 3, 4 is about COVID-19 and health care, topic 1 and 5 is about today's community and work. All of them are related to the pandemic. Overall these topics seem more interelated than distinguishable from each other. "
   ]
  },
  {
   "cell_type": "markdown",
   "metadata": {},
   "source": [
    "Now we compare the prevalence of each topic across individuals by merging the topic distribution back into the Pandas dataframe."
   ]
  },
  {
   "cell_type": "code",
   "execution_count": 174,
   "metadata": {},
   "outputs": [
    {
     "data": {
      "text/plain": [
       "array([[0.03049656, 0.84759631, 0.03048884, 0.03045197, 0.03049689,\n",
       "        0.03046944],\n",
       "       [0.02998057, 0.02997029, 0.85027217, 0.02989659, 0.02998286,\n",
       "        0.02989752],\n",
       "       [0.06142173, 0.0616112 , 0.06137959, 0.06165661, 0.69204825,\n",
       "        0.06188262],\n",
       "       ...,\n",
       "       [0.02521082, 0.02529578, 0.02530812, 0.02528931, 0.02577301,\n",
       "        0.87312295],\n",
       "       [0.02284813, 0.02283093, 0.02289568, 0.02285903, 0.88583751,\n",
       "        0.02272871],\n",
       "       [0.03315547, 0.83368557, 0.0332357 , 0.03317182, 0.033429  ,\n",
       "        0.03332244]])"
      ]
     },
     "execution_count": 174,
     "metadata": {},
     "output_type": "execute_result"
    }
   ],
   "source": [
    "# get the topic distribution array\n",
    "topic_dist = lda.transform(tfidf_matrix)\n",
    "topic_dist"
   ]
  },
  {
   "cell_type": "code",
   "execution_count": 177,
   "metadata": {},
   "outputs": [
    {
     "data": {
      "text/html": [
       "<div>\n",
       "<style scoped>\n",
       "    .dataframe tbody tr th:only-of-type {\n",
       "        vertical-align: middle;\n",
       "    }\n",
       "\n",
       "    .dataframe tbody tr th {\n",
       "        vertical-align: top;\n",
       "    }\n",
       "\n",
       "    .dataframe thead th {\n",
       "        text-align: right;\n",
       "    }\n",
       "</style>\n",
       "<table border=\"1\" class=\"dataframe\">\n",
       "  <thead>\n",
       "    <tr style=\"text-align: right;\">\n",
       "      <th></th>\n",
       "      <th>0</th>\n",
       "      <th>1</th>\n",
       "      <th>2</th>\n",
       "      <th>3</th>\n",
       "      <th>4</th>\n",
       "      <th>5</th>\n",
       "      <th>level_0</th>\n",
       "      <th>index</th>\n",
       "      <th>tweet_id</th>\n",
       "      <th>screen_name</th>\n",
       "      <th>...</th>\n",
       "      <th>gender</th>\n",
       "      <th>state</th>\n",
       "      <th>district_number</th>\n",
       "      <th>party</th>\n",
       "      <th>trump_2016_state_share</th>\n",
       "      <th>clinton_2016_state_share</th>\n",
       "      <th>obama_2012_state_share</th>\n",
       "      <th>romney_2012_state_share</th>\n",
       "      <th>text_URLremoved</th>\n",
       "      <th>tokens</th>\n",
       "    </tr>\n",
       "  </thead>\n",
       "  <tbody>\n",
       "    <tr>\n",
       "      <th>0</th>\n",
       "      <td>0.030497</td>\n",
       "      <td>0.847596</td>\n",
       "      <td>0.030489</td>\n",
       "      <td>0.030452</td>\n",
       "      <td>0.030497</td>\n",
       "      <td>0.030469</td>\n",
       "      <td>0</td>\n",
       "      <td>11361</td>\n",
       "      <td>1.132820e+18</td>\n",
       "      <td>SenDanSullivan</td>\n",
       "      <td>...</td>\n",
       "      <td>M</td>\n",
       "      <td>AK</td>\n",
       "      <td>Senate</td>\n",
       "      <td>Republican</td>\n",
       "      <td>163,387</td>\n",
       "      <td>116,454</td>\n",
       "      <td>122,640</td>\n",
       "      <td>164,676</td>\n",
       "      <td>Sam &amp;amp; the guys had to deal with a less exp...</td>\n",
       "      <td>Sam guys deal experienced teammate But podium ...</td>\n",
       "    </tr>\n",
       "    <tr>\n",
       "      <th>1</th>\n",
       "      <td>0.029981</td>\n",
       "      <td>0.029970</td>\n",
       "      <td>0.850272</td>\n",
       "      <td>0.029897</td>\n",
       "      <td>0.029983</td>\n",
       "      <td>0.029898</td>\n",
       "      <td>1</td>\n",
       "      <td>479436</td>\n",
       "      <td>1.125490e+18</td>\n",
       "      <td>SenatorFischer</td>\n",
       "      <td>...</td>\n",
       "      <td>F</td>\n",
       "      <td>NE</td>\n",
       "      <td>Senate</td>\n",
       "      <td>Republican</td>\n",
       "      <td>495,961</td>\n",
       "      <td>284,494</td>\n",
       "      <td>302,081</td>\n",
       "      <td>475,064</td>\n",
       "      <td>It was great to @Skype w @StuartPublicSch’s go...</td>\n",
       "      <td>It great Skype w StuartPublicSch government cl...</td>\n",
       "    </tr>\n",
       "    <tr>\n",
       "      <th>2</th>\n",
       "      <td>0.061422</td>\n",
       "      <td>0.061611</td>\n",
       "      <td>0.061380</td>\n",
       "      <td>0.061657</td>\n",
       "      <td>0.692048</td>\n",
       "      <td>0.061883</td>\n",
       "      <td>2</td>\n",
       "      <td>866557</td>\n",
       "      <td>1.166860e+18</td>\n",
       "      <td>RepDonBeyer</td>\n",
       "      <td>...</td>\n",
       "      <td>M</td>\n",
       "      <td>VA</td>\n",
       "      <td>8</td>\n",
       "      <td>Democrat</td>\n",
       "      <td>1,769,443</td>\n",
       "      <td>1,981,473</td>\n",
       "      <td>1,971,820</td>\n",
       "      <td>1,822,522</td>\n",
       "      <td>RT @brianstelter 170 days.\\n\\n</td>\n",
       "      <td>brianstelter 170 days</td>\n",
       "    </tr>\n",
       "    <tr>\n",
       "      <th>3</th>\n",
       "      <td>0.031069</td>\n",
       "      <td>0.030915</td>\n",
       "      <td>0.031041</td>\n",
       "      <td>0.844513</td>\n",
       "      <td>0.031052</td>\n",
       "      <td>0.031410</td>\n",
       "      <td>3</td>\n",
       "      <td>168486</td>\n",
       "      <td>1.242860e+18</td>\n",
       "      <td>SenatorBennet</td>\n",
       "      <td>...</td>\n",
       "      <td>M</td>\n",
       "      <td>CO</td>\n",
       "      <td>Senate</td>\n",
       "      <td>Democrat</td>\n",
       "      <td>1,202,484</td>\n",
       "      <td>1,338,870</td>\n",
       "      <td>1,323,102</td>\n",
       "      <td>1,185,243</td>\n",
       "      <td>@SenateDems We fought hard to make sure nonpro...</td>\n",
       "      <td>SenateDems We fought hard sure nonprofits size...</td>\n",
       "    </tr>\n",
       "    <tr>\n",
       "      <th>4</th>\n",
       "      <td>0.034317</td>\n",
       "      <td>0.828145</td>\n",
       "      <td>0.034336</td>\n",
       "      <td>0.034479</td>\n",
       "      <td>0.034395</td>\n",
       "      <td>0.034328</td>\n",
       "      <td>4</td>\n",
       "      <td>507812</td>\n",
       "      <td>1.126490e+18</td>\n",
       "      <td>RepSires</td>\n",
       "      <td>...</td>\n",
       "      <td>M</td>\n",
       "      <td>NJ</td>\n",
       "      <td>8</td>\n",
       "      <td>Democrat</td>\n",
       "      <td>1,601,933</td>\n",
       "      <td>2,148,278</td>\n",
       "      <td>2,125,101</td>\n",
       "      <td>1,477,568</td>\n",
       "      <td>This illegal act shows once again there is no ...</td>\n",
       "      <td>This illegal act shows rule law Maduro Venezue...</td>\n",
       "    </tr>\n",
       "  </tbody>\n",
       "</table>\n",
       "<p>5 rows × 26 columns</p>\n",
       "</div>"
      ],
      "text/plain": [
       "          0         1         2         3         4         5  level_0  \\\n",
       "0  0.030497  0.847596  0.030489  0.030452  0.030497  0.030469        0   \n",
       "1  0.029981  0.029970  0.850272  0.029897  0.029983  0.029898        1   \n",
       "2  0.061422  0.061611  0.061380  0.061657  0.692048  0.061883        2   \n",
       "3  0.031069  0.030915  0.031041  0.844513  0.031052  0.031410        3   \n",
       "4  0.034317  0.828145  0.034336  0.034479  0.034395  0.034328        4   \n",
       "\n",
       "    index      tweet_id     screen_name  ... gender state district_number  \\\n",
       "0   11361  1.132820e+18  SenDanSullivan  ...      M    AK          Senate   \n",
       "1  479436  1.125490e+18  SenatorFischer  ...      F    NE          Senate   \n",
       "2  866557  1.166860e+18     RepDonBeyer  ...      M    VA               8   \n",
       "3  168486  1.242860e+18   SenatorBennet  ...      M    CO          Senate   \n",
       "4  507812  1.126490e+18        RepSires  ...      M    NJ               8   \n",
       "\n",
       "        party trump_2016_state_share clinton_2016_state_share  \\\n",
       "0  Republican                163,387                  116,454   \n",
       "1  Republican                495,961                  284,494   \n",
       "2    Democrat              1,769,443                1,981,473   \n",
       "3    Democrat              1,202,484                1,338,870   \n",
       "4    Democrat              1,601,933                2,148,278   \n",
       "\n",
       "  obama_2012_state_share romney_2012_state_share  \\\n",
       "0                122,640                 164,676   \n",
       "1                302,081                 475,064   \n",
       "2              1,971,820               1,822,522   \n",
       "3              1,323,102               1,185,243   \n",
       "4              2,125,101               1,477,568   \n",
       "\n",
       "                                     text_URLremoved  \\\n",
       "0  Sam &amp; the guys had to deal with a less exp...   \n",
       "1  It was great to @Skype w @StuartPublicSch’s go...   \n",
       "2                     RT @brianstelter 170 days.\\n\\n   \n",
       "3  @SenateDems We fought hard to make sure nonpro...   \n",
       "4  This illegal act shows once again there is no ...   \n",
       "\n",
       "                                              tokens  \n",
       "0  Sam guys deal experienced teammate But podium ...  \n",
       "1  It great Skype w StuartPublicSch government cl...  \n",
       "2                              brianstelter 170 days  \n",
       "3  SenateDems We fought hard sure nonprofits size...  \n",
       "4  This illegal act shows rule law Maduro Venezue...  \n",
       "\n",
       "[5 rows x 26 columns]"
      ]
     },
     "execution_count": 177,
     "metadata": {},
     "output_type": "execute_result"
    }
   ],
   "source": [
    "# merge back with original dataframe\n",
    "topic_dist_df = pd.DataFrame(topic_dist)\n",
    "df_w_topics = topic_dist_df.join(congress_tweets.reset_index())\n",
    "df_w_topics.head(5)\n"
   ]
  },
  {
   "cell_type": "markdown",
   "metadata": {},
   "source": [
    "In each row (which is each person's tweet), we can see the percentages represent the proportion of variation explained by each topic. For example for person 0, topic 1 explains more variations (0.847596), for person 1, topic 2 explain more variations. Now we can check the average weight of each topic across 'party' (each person's party membership) using *groupby*."
   ]
  },
  {
   "cell_type": "code",
   "execution_count": 186,
   "metadata": {},
   "outputs": [
    {
     "name": "stdout",
     "output_type": "stream",
     "text": [
      "party\n",
      "Independent    0.234552\n",
      "Republican     0.179524\n",
      "Democrat       0.163588\n",
      "Name: 0, dtype: float64\n",
      "party\n",
      "Democrat       0.171076\n",
      "Republican     0.162335\n",
      "Independent    0.031457\n",
      "Name: 1, dtype: float64\n",
      "party\n",
      "Independent    0.433833\n",
      "Republican     0.174912\n",
      "Democrat       0.160199\n",
      "Name: 2, dtype: float64\n",
      "party\n",
      "Independent    0.237411\n",
      "Democrat       0.181055\n",
      "Republican     0.137303\n",
      "Name: 3, dtype: float64\n",
      "party\n",
      "Republican     0.174900\n",
      "Democrat       0.170205\n",
      "Independent    0.031377\n",
      "Name: 4, dtype: float64\n",
      "party\n",
      "Republican     0.171027\n",
      "Democrat       0.153877\n",
      "Independent    0.031370\n",
      "Name: 5, dtype: float64\n"
     ]
    }
   ],
   "source": [
    "# check the average weight of each topic across 'party' \n",
    "grouped = df_w_topics.groupby('party')\n",
    "for i in range(0, 6):\n",
    "    print(grouped[i].mean().sort_values(ascending=False))"
   ]
  },
  {
   "cell_type": "markdown",
   "metadata": {},
   "source": [
    "Topic 2 seems to have fair separation between Independent or Republican/Democrat, so do topic 0 and 3. This aligns with our impression on the initial redults of topic modeling (i.e., overall these topics seem more interelated than distinguishable from each other). Let's plot topic 2 by party. "
   ]
  },
  {
   "cell_type": "code",
   "execution_count": 183,
   "metadata": {},
   "outputs": [
    {
     "data": {
      "image/png": "[encoded data removed]",
      "text/plain": [
       "<Figure size 459.25x360 with 1 Axes>"
      ]
     },
     "metadata": {
      "needs_background": "light"
     },
     "output_type": "display_data"
    }
   ],
   "source": [
    "sns.displot(df_w_topics, x=df_w_topics[2], hue = \"party\", kind = 'kde', fill = 'true')\n",
    "plt.show()"
   ]
  },
  {
   "cell_type": "code",
   "execution_count": 187,
   "metadata": {},
   "outputs": [
    {
     "name": "stdout",
     "output_type": "stream",
     "text": [
      "position\n",
      "Sen    0.202398\n",
      "Rep    0.159430\n",
      "Name: 0, dtype: float64\n",
      "position\n",
      "Rep    0.180183\n",
      "Sen    0.124911\n",
      "Name: 1, dtype: float64\n",
      "position\n",
      "Sen    0.186614\n",
      "Rep    0.160219\n",
      "Name: 2, dtype: float64\n",
      "position\n",
      "Rep    0.172696\n",
      "Sen    0.145870\n",
      "Name: 3, dtype: float64\n",
      "position\n",
      "Sen    0.191867\n",
      "Rep    0.165132\n",
      "Name: 4, dtype: float64\n",
      "position\n",
      "Rep    0.162341\n",
      "Sen    0.148340\n",
      "Name: 5, dtype: float64\n"
     ]
    }
   ],
   "source": [
    "# check the average weight of each topic across 'position' \n",
    "grouped = df_w_topics.groupby('position')\n",
    "for i in range(0, 6):\n",
    "    print(grouped[i].mean().sort_values(ascending=False))"
   ]
  },
  {
   "cell_type": "markdown",
   "metadata": {},
   "source": [
    "Topics are even less distinguishable across positions (senator or representative). See a plot for topic 4:"
   ]
  },
  {
   "cell_type": "code",
   "execution_count": 188,
   "metadata": {},
   "outputs": [
    {
     "data": {
      "image/png": "[encoded data removed]",
      "text/plain": [
       "<Figure size 414.75x360 with 1 Axes>"
      ]
     },
     "metadata": {
      "needs_background": "light"
     },
     "output_type": "display_data"
    }
   ],
   "source": [
    "sns.displot(df_w_topics, x=df_w_topics[2], hue = \"position\", kind = 'kde', fill = 'true')\n",
    "plt.show()"
   ]
  },
  {
   "cell_type": "markdown",
   "metadata": {},
   "source": [
    "**Summary of EDA**: Results from n-grams (we used 2- and 3-grams) and Latent Dirichlet Allocation (LDA) topic modeling suggest that topics surface from the tweeter text are related to people, government and politics, country/nation, COVID-19 and health care, business, community and work, etc. Overall these topics seem more interelated than distinguishable from each other. Toward our prediciton tasks (whether the person behind the tweeter text is a democrat, republican, or independent; or a senator or representative), these topics generally seems not strongly associate with what we want to predict. We need further analyses to see if tweeter text is indicative of prople's party membership and congress position. \n"
   ]
  },
  {
   "cell_type": "markdown",
   "metadata": {},
   "source": [
    "## Sentiment Analysis"
   ]
  },
  {
   "cell_type": "markdown",
   "metadata": {},
   "source": [
    "Next, let's analyze the sentiments contained within the tweets. You may use TextBlob or another library for these tasks. Do the following:\n",
    "\n",
    "* Choose two legislators, one who you think will be more liberal and one who you think will be more conservative, and analyze their sentiment and/or subjectivity scores per tweet. For instance, you might do two scatterplots that plot each legislator's sentiment against their subjectivity, or two density plots for their sentiments. Do the scores match what you thought?\n",
    "* Plot two more visualizations like the ones you chose in the first part, but do them to compare (1) Democrats v. Republicans and (2) Senators v. Representatives \n",
    "\n",
    "`TextBlob` has already been imported in the top cell."
   ]
  },
  {
   "cell_type": "code",
   "execution_count": null,
   "metadata": {},
   "outputs": [],
   "source": []
  },
  {
   "cell_type": "markdown",
   "metadata": {},
   "source": [
    "## Featurization"
   ]
  },
  {
   "cell_type": "markdown",
   "metadata": {},
   "source": [
    "Before going to classification, explore different featurization techniques. Create three dataframes or arrays to represent your text features, specifically:\n",
    "\n",
    "* Features engineered from your previous analysis. For example, word counts, sentiment scores, topic model etc.\n",
    "* A term frequency-inverse document frequency matrix. \n",
    "* An embedding-based featurization (like a document averaged word2vec)\n",
    "\n",
    "In the next section, you will experiment with each of these featurization techniques to see which one produces the best classifications."
   ]
  },
  {
   "cell_type": "code",
   "execution_count": null,
   "metadata": {},
   "outputs": [],
   "source": []
  },
  {
   "cell_type": "markdown",
   "metadata": {},
   "source": [
    "### Engineered Text Features"
   ]
  },
  {
   "cell_type": "code",
   "execution_count": null,
   "metadata": {},
   "outputs": [],
   "source": [
    "# Engineered Features\n",
    "..."
   ]
  },
  {
   "cell_type": "markdown",
   "metadata": {},
   "source": [
    "### Bag-of-words or Tf-idf"
   ]
  },
  {
   "cell_type": "code",
   "execution_count": null,
   "metadata": {},
   "outputs": [],
   "source": [
    "# Frequency Based featurization\n",
    "..."
   ]
  },
  {
   "cell_type": "markdown",
   "metadata": {},
   "source": [
    "### Word Embedding"
   ]
  },
  {
   "cell_type": "code",
   "execution_count": null,
   "metadata": {},
   "outputs": [],
   "source": [
    "# Load Word2Vec model from Google; OPTIONAL depending on your computational resources (the file is ~1 GB)\n",
    "# Also note that this file path assumes that the word vectors are underneath 'data'; you may wish to point to the CSS course repo and change the path\n",
    "# or move the vector file to the project repo \n",
    "\n",
    "#model = gensim.models.KeyedVectors.load_word2vec_format('data/GoogleNews-vectors-negative300.bin.gz', binary = True) "
   ]
  },
  {
   "cell_type": "code",
   "execution_count": null,
   "metadata": {},
   "outputs": [],
   "source": [
    "# Function to average word embeddings for a document; use examples from lab to apply this function. You can use also other techniques such as PCA and doc2vec instead.\n",
    "def document_vector(word2vec_model, doc):\n",
    "    doc = [word for word in doc if word in model.vocab]\n",
    "    return np.mean(model[doc], axis=0)"
   ]
  },
  {
   "cell_type": "code",
   "execution_count": null,
   "metadata": {},
   "outputs": [],
   "source": [
    "# embedding based featurization\n",
    "..."
   ]
  },
  {
   "cell_type": "markdown",
   "metadata": {},
   "source": [
    "## Classification"
   ]
  },
  {
   "cell_type": "markdown",
   "metadata": {},
   "source": [
    "Either use cross-validation or partition your data with training/validation/test sets for this section. Do the following:\n",
    "\n",
    "* Choose a supervised learning algorithm such as logistic regression, random forest etc. \n",
    "* Train six models. For each of the three dataframes you created in the featurization part, train one model to predict whether the author of the tweet is a Democrat or Republican, and a second model to predict whether the author is a Senator or Representative.\n",
    "* Report the accuracy and other relevant metrics for each of these six models.\n",
    "* Choose the featurization technique associated with your best model. Combine those text features with non-text features. Train two more models: (1) A supervised learning algorithm that uses just the non-text features and (2) a supervised learning algorithm that combines text and non-text features. Report accuracy and other relevant metrics. \n",
    "\n",
    "If time permits, you are encouraged to use hyperparameter tuning or AutoML techniques like TPOT, but are not explicitly required to do so."
   ]
  },
  {
   "cell_type": "markdown",
   "metadata": {},
   "source": [
    "### Train Six Models with Just Text"
   ]
  },
  {
   "cell_type": "code",
   "execution_count": null,
   "metadata": {},
   "outputs": [],
   "source": [
    "# six models ([engineered features, frequency-based, embedding] * [democrat/republican, senator/representative])\n",
    "..."
   ]
  },
  {
   "cell_type": "markdown",
   "metadata": {},
   "source": [
    "### Two Combined Models"
   ]
  },
  {
   "cell_type": "code",
   "execution_count": null,
   "metadata": {},
   "outputs": [],
   "source": [
    "# two models ([best text features + non-text features] * [democrat/republican, senator/representative])\n",
    "..."
   ]
  },
  {
   "cell_type": "markdown",
   "metadata": {},
   "source": [
    "## Discussion Questions"
   ]
  },
  {
   "cell_type": "markdown",
   "metadata": {},
   "source": [
    "1. Why do standard preprocessing techniques need to be further customized to a particular corpus?"
   ]
  },
  {
   "cell_type": "markdown",
   "metadata": {},
   "source": [
    "**Your Answer Here**"
   ]
  },
  {
   "cell_type": "markdown",
   "metadata": {},
   "source": [
    "2. Did you find evidence for the idea that Democrats and Republicans have different sentiments in their tweets? What about Senators and Representatives?"
   ]
  },
  {
   "cell_type": "markdown",
   "metadata": {},
   "source": [
    "**Your Answer Here**"
   ]
  },
  {
   "cell_type": "markdown",
   "metadata": {},
   "source": [
    "3. Why is validating your exploratory and unsupervised learning approaches with a supervised learning algorithm valuable?"
   ]
  },
  {
   "cell_type": "markdown",
   "metadata": {},
   "source": [
    "**Your Answer Here**"
   ]
  },
  {
   "cell_type": "markdown",
   "metadata": {},
   "source": [
    "4. Did text only, non-text only, or text and non-text features together perform the best? What is the intuition behind combining text and non-text features in a supervised learning algorithm?"
   ]
  },
  {
   "cell_type": "markdown",
   "metadata": {},
   "source": [
    "**Your Answer Here**"
   ]
  }
 ],
 "metadata": {
  "kernelspec": {
   "display_name": "Python 3",
   "language": "python",
   "name": "python3"
  },
  "language_info": {
   "codemirror_mode": {
    "name": "ipython",
    "version": 3
   },
   "file_extension": ".py",
   "mimetype": "text/x-python",
   "name": "python",
   "nbconvert_exporter": "python",
   "pygments_lexer": "ipython3",
   "version": "3.8.3"
  }
 },
 "nbformat": 4,
 "nbformat_minor": 4
}
