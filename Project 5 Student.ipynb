{
 "cells": [
  {
   "cell_type": "markdown",
   "metadata": {},
   "source": [
    "## [Computational Social Science] Project 5: Natural Language Processing"
   ]
  },
  {
   "cell_type": "markdown",
   "metadata": {},
   "source": [
    "In this project, you will use natural language processing techniques to explore a dataset containing tweets from members of the 116th United States Congress that met from January 3, 2019 to January 2, 2021. The dataset has also been cleaned to contain information about each legislator. Concretely, you will do the following:\n",
    "\n",
    "* Preprocess the text of legislators' tweets\n",
    "* Conduct Exploratory Data Analysis of the text\n",
    "* Use sentiment analysis to explore differences between legislators' tweets\n",
    "* Featurize text with manual feature engineering, frequency-based, and vector-based techniques\n",
    "* Predict legislators' political parties and whether they are a Senator or Representative\n",
    "\n",
    "You will explore two questions that relate to two central findings in political science and examine how they relate to the text of legislators' tweets. First, political scientists have argued that U.S. politics is currently highly polarized relative to other periods in American history, but also that the polarization is asymmetric. Historically, there were several conservative Democrats (i.e. \"blue dog Democrats\") and liberal Republicans (i.e. \"Rockefeller Republicans\"), as measured by popular measurement tools like [DW-NOMINATE](https://en.wikipedia.org/wiki/NOMINATE_(scaling_method)#:~:text=DW\\%2DNOMINATE\\%20scores\\%20have\\%20been,in\\%20the\\%20liberal\\%2Dconservative\\%20scale.). However, in the last few years, there are few if any examples of any Democrat in Congress being further to the right than any Republican and vice versa. At the same time, scholars have argued that this polarization is mostly a function of the Republican party moving further right than the Democratic party has moved left. **Does this sort of asymmetric polarization show up in how politicians communicate to their constituents through tweets?**\n",
    "\n",
    "Second, the U.S. Congress is a bicameral legislature, and there has long been debate about partisanship in the Senate versus the House. The House of Representatives is apportioned by population and all members serve two year terms. In the Senate, each state receives two Senators and each Senator serves a term of six years. For a variety of reasons (smaller chamber size, more insulation from the voters, rules and norms like the filibuster, etc.), the Senate has been argued to be the \"cooling saucer\" of Congress in that it is more bipartisan and moderate than the House. **Does the theory that the Senate is more moderate have support in Senators' tweets?**\n",
    "\n",
    "**Note**: See the project handout for more details on caveats and the data dictionary."
   ]
  },
  {
   "cell_type": "code",
   "execution_count": 1,
   "metadata": {},
   "outputs": [],
   "source": [
    "# pandas and numpy\n",
    "import pandas as pd\n",
    "import numpy as numpy\n",
    "\n",
    "# punctuation, stop words and English language model\n",
    "from string import punctuation\n",
    "from spacy.lang.en.stop_words import STOP_WORDS\n",
    "import en_core_web_sm\n",
    "nlp = en_core_web_sm.load()\n",
    "\n",
    "# textblob\n",
    "from textblob import TextBlob\n",
    "\n",
    "# countvectorizer, tfidfvectorizer\n",
    "from sklearn.feature_extraction.text import CountVectorizer, TfidfVectorizer\n",
    "\n",
    "# gensim\n",
    "import gensim\n",
    "from gensim import models\n",
    "from gensim.models.doc2vec import Doc2Vec, TaggedDocument\n",
    "\n",
    "# plotting\n",
    "import matplotlib.pyplot as plt\n",
    "import seaborn as sns\n",
    "%matplotlib inline"
   ]
  },
  {
   "cell_type": "code",
   "execution_count": 2,
   "metadata": {},
   "outputs": [],
   "source": [
    "# other useful packages \n",
    "from PIL import Image\n",
    "import spacy\n",
    "import en_core_web_sm\n",
    "import scattertext as st\n",
    "from wordcloud import WordCloud, STOPWORDS, ImageColorGenerator\n",
    "from sklearn.decomposition import LatentDirichletAllocation"
   ]
  },
  {
   "cell_type": "code",
   "execution_count": 3,
   "metadata": {},
   "outputs": [
    {
     "data": {
      "text/html": [
       "<div>\n",
       "<style scoped>\n",
       "    .dataframe tbody tr th:only-of-type {\n",
       "        vertical-align: middle;\n",
       "    }\n",
       "\n",
       "    .dataframe tbody tr th {\n",
       "        vertical-align: top;\n",
       "    }\n",
       "\n",
       "    .dataframe thead th {\n",
       "        text-align: right;\n",
       "    }\n",
       "</style>\n",
       "<table border=\"1\" class=\"dataframe\">\n",
       "  <thead>\n",
       "    <tr style=\"text-align: right;\">\n",
       "      <th></th>\n",
       "      <th>tweet_id</th>\n",
       "      <th>screen_name</th>\n",
       "      <th>datetime</th>\n",
       "      <th>text</th>\n",
       "      <th>name_wikipedia</th>\n",
       "      <th>position</th>\n",
       "      <th>joined_congress_date</th>\n",
       "      <th>birthday</th>\n",
       "      <th>gender</th>\n",
       "      <th>state</th>\n",
       "      <th>district_number</th>\n",
       "      <th>party</th>\n",
       "      <th>trump_2016_state_share</th>\n",
       "      <th>clinton_2016_state_share</th>\n",
       "      <th>obama_2012_state_share</th>\n",
       "      <th>romney_2012_state_share</th>\n",
       "    </tr>\n",
       "  </thead>\n",
       "  <tbody>\n",
       "    <tr>\n",
       "      <th>11361</th>\n",
       "      <td>1.132820e+18</td>\n",
       "      <td>SenDanSullivan</td>\n",
       "      <td>2019-05-26T21:36:32-04:00</td>\n",
       "      <td>Sam &amp;amp; the guys had to deal with a less exp...</td>\n",
       "      <td>Dan Sullivan</td>\n",
       "      <td>Sen</td>\n",
       "      <td>3-Jan-15</td>\n",
       "      <td>11/13/1964</td>\n",
       "      <td>M</td>\n",
       "      <td>AK</td>\n",
       "      <td>Senate</td>\n",
       "      <td>Republican</td>\n",
       "      <td>163,387</td>\n",
       "      <td>116,454</td>\n",
       "      <td>122,640</td>\n",
       "      <td>164,676</td>\n",
       "    </tr>\n",
       "    <tr>\n",
       "      <th>479436</th>\n",
       "      <td>1.125490e+18</td>\n",
       "      <td>SenatorFischer</td>\n",
       "      <td>2019-05-06T16:15:46-04:00</td>\n",
       "      <td>It was great to @Skype w @StuartPublicSch’s go...</td>\n",
       "      <td>Deb Fischer</td>\n",
       "      <td>Sen</td>\n",
       "      <td>3-Jan-13</td>\n",
       "      <td>3/1/1951</td>\n",
       "      <td>F</td>\n",
       "      <td>NE</td>\n",
       "      <td>Senate</td>\n",
       "      <td>Republican</td>\n",
       "      <td>495,961</td>\n",
       "      <td>284,494</td>\n",
       "      <td>302,081</td>\n",
       "      <td>475,064</td>\n",
       "    </tr>\n",
       "    <tr>\n",
       "      <th>866557</th>\n",
       "      <td>1.166860e+18</td>\n",
       "      <td>RepDonBeyer</td>\n",
       "      <td>2019-08-28T19:44:44-04:00</td>\n",
       "      <td>RT @brianstelter 170 days.\\n\\nhttp://www.cnn.c...</td>\n",
       "      <td>Don Beyer</td>\n",
       "      <td>Rep</td>\n",
       "      <td>3-Jan-15</td>\n",
       "      <td>6/20/1950</td>\n",
       "      <td>M</td>\n",
       "      <td>VA</td>\n",
       "      <td>8</td>\n",
       "      <td>Democrat</td>\n",
       "      <td>1,769,443</td>\n",
       "      <td>1,981,473</td>\n",
       "      <td>1,971,820</td>\n",
       "      <td>1,822,522</td>\n",
       "    </tr>\n",
       "    <tr>\n",
       "      <th>168486</th>\n",
       "      <td>1.242860e+18</td>\n",
       "      <td>SenatorBennet</td>\n",
       "      <td>2020-03-25T13:14:12-04:00</td>\n",
       "      <td>@SenateDems We fought hard to make sure nonpro...</td>\n",
       "      <td>Michael Bennet</td>\n",
       "      <td>Sen</td>\n",
       "      <td>21-Jan-09</td>\n",
       "      <td>11/28/1964</td>\n",
       "      <td>M</td>\n",
       "      <td>CO</td>\n",
       "      <td>Senate</td>\n",
       "      <td>Democrat</td>\n",
       "      <td>1,202,484</td>\n",
       "      <td>1,338,870</td>\n",
       "      <td>1,323,102</td>\n",
       "      <td>1,185,243</td>\n",
       "    </tr>\n",
       "    <tr>\n",
       "      <th>507812</th>\n",
       "      <td>1.126490e+18</td>\n",
       "      <td>RepSires</td>\n",
       "      <td>2019-05-09T10:26:11-04:00</td>\n",
       "      <td>This illegal act shows once again there is no ...</td>\n",
       "      <td>Albio Sires</td>\n",
       "      <td>Rep</td>\n",
       "      <td>3-Jan-13</td>\n",
       "      <td>1/26/1951</td>\n",
       "      <td>M</td>\n",
       "      <td>NJ</td>\n",
       "      <td>8</td>\n",
       "      <td>Democrat</td>\n",
       "      <td>1,601,933</td>\n",
       "      <td>2,148,278</td>\n",
       "      <td>2,125,101</td>\n",
       "      <td>1,477,568</td>\n",
       "    </tr>\n",
       "  </tbody>\n",
       "</table>\n",
       "</div>"
      ],
      "text/plain": [
       "            tweet_id     screen_name                   datetime  \\\n",
       "11361   1.132820e+18  SenDanSullivan  2019-05-26T21:36:32-04:00   \n",
       "479436  1.125490e+18  SenatorFischer  2019-05-06T16:15:46-04:00   \n",
       "866557  1.166860e+18     RepDonBeyer  2019-08-28T19:44:44-04:00   \n",
       "168486  1.242860e+18   SenatorBennet  2020-03-25T13:14:12-04:00   \n",
       "507812  1.126490e+18        RepSires  2019-05-09T10:26:11-04:00   \n",
       "\n",
       "                                                     text  name_wikipedia  \\\n",
       "11361   Sam &amp; the guys had to deal with a less exp...    Dan Sullivan   \n",
       "479436  It was great to @Skype w @StuartPublicSch’s go...     Deb Fischer   \n",
       "866557  RT @brianstelter 170 days.\\n\\nhttp://www.cnn.c...       Don Beyer   \n",
       "168486  @SenateDems We fought hard to make sure nonpro...  Michael Bennet   \n",
       "507812  This illegal act shows once again there is no ...     Albio Sires   \n",
       "\n",
       "       position joined_congress_date    birthday gender state district_number  \\\n",
       "11361       Sen             3-Jan-15  11/13/1964      M    AK          Senate   \n",
       "479436      Sen             3-Jan-13    3/1/1951      F    NE          Senate   \n",
       "866557      Rep             3-Jan-15   6/20/1950      M    VA               8   \n",
       "168486      Sen            21-Jan-09  11/28/1964      M    CO          Senate   \n",
       "507812      Rep             3-Jan-13   1/26/1951      M    NJ               8   \n",
       "\n",
       "             party trump_2016_state_share clinton_2016_state_share  \\\n",
       "11361   Republican                163,387                  116,454   \n",
       "479436  Republican                495,961                  284,494   \n",
       "866557    Democrat              1,769,443                1,981,473   \n",
       "168486    Democrat              1,202,484                1,338,870   \n",
       "507812    Democrat              1,601,933                2,148,278   \n",
       "\n",
       "       obama_2012_state_share romney_2012_state_share  \n",
       "11361                 122,640                 164,676  \n",
       "479436                302,081                 475,064  \n",
       "866557              1,971,820               1,822,522  \n",
       "168486              1,323,102               1,185,243  \n",
       "507812              2,125,101               1,477,568  "
      ]
     },
     "execution_count": 3,
     "metadata": {},
     "output_type": "execute_result"
    }
   ],
   "source": [
    "# read the data \n",
    "# note that this data file does not live on GitHub, so each team member has saved the file in their local project repo \n",
    "congress_tweets = pd.read_csv(\"116th Congressional Tweets and Demographics.csv\")\n",
    "\n",
    "# sample 1000 rows to run the code \n",
    "# note that random.state has been set to an integer, so hopefully we will get the same sample in each iteration \n",
    "congress_tweets = congress_tweets.sample(n=1000, replace=False, random_state= 5, axis= 0)\n",
    "congress_tweets.head()"
   ]
  },
  {
   "cell_type": "markdown",
   "metadata": {},
   "source": [
    "## Preprocessing"
   ]
  },
  {
   "cell_type": "markdown",
   "metadata": {},
   "source": [
    "The first step in working with text data is to preprocess it. Make sure you do the following:\n",
    "\n",
    "* Remove punctuation and stop words. The `rem_punc_stop()` function we used in lab is provided to you but you should feel free to edit it as necessary for other steps\n",
    "* Remove tokens that occur frequently in tweets, but may not be helpful for downstream classification. For instance, many tweets contain a flag for retweeting, or share a URL \n",
    "\n",
    "As you search online, you might run into solutions that rely on regular expressions. You are free to use these, but you should also be able to preprocess using the techniques we covered in lab. Specifically, we encourage you to use spaCy's token attributes and string methods to do some of this text preprocessing."
   ]
  },
  {
   "cell_type": "code",
   "execution_count": 4,
   "metadata": {},
   "outputs": [
    {
     "data": {
      "text/html": [
       "<div>\n",
       "<style scoped>\n",
       "    .dataframe tbody tr th:only-of-type {\n",
       "        vertical-align: middle;\n",
       "    }\n",
       "\n",
       "    .dataframe tbody tr th {\n",
       "        vertical-align: top;\n",
       "    }\n",
       "\n",
       "    .dataframe thead th {\n",
       "        text-align: right;\n",
       "    }\n",
       "</style>\n",
       "<table border=\"1\" class=\"dataframe\">\n",
       "  <thead>\n",
       "    <tr style=\"text-align: right;\">\n",
       "      <th></th>\n",
       "      <th>index</th>\n",
       "      <th>tweet_id</th>\n",
       "      <th>screen_name</th>\n",
       "      <th>datetime</th>\n",
       "      <th>text</th>\n",
       "      <th>name_wikipedia</th>\n",
       "      <th>position</th>\n",
       "      <th>joined_congress_date</th>\n",
       "      <th>birthday</th>\n",
       "      <th>gender</th>\n",
       "      <th>state</th>\n",
       "      <th>district_number</th>\n",
       "      <th>party</th>\n",
       "      <th>trump_2016_state_share</th>\n",
       "      <th>clinton_2016_state_share</th>\n",
       "      <th>obama_2012_state_share</th>\n",
       "      <th>romney_2012_state_share</th>\n",
       "    </tr>\n",
       "  </thead>\n",
       "  <tbody>\n",
       "    <tr>\n",
       "      <th>0</th>\n",
       "      <td>11361</td>\n",
       "      <td>1.132820e+18</td>\n",
       "      <td>SenDanSullivan</td>\n",
       "      <td>2019-05-26T21:36:32-04:00</td>\n",
       "      <td>Sam &amp;amp; the guys had to deal with a less exp...</td>\n",
       "      <td>Dan Sullivan</td>\n",
       "      <td>Sen</td>\n",
       "      <td>3-Jan-15</td>\n",
       "      <td>11/13/1964</td>\n",
       "      <td>M</td>\n",
       "      <td>AK</td>\n",
       "      <td>Senate</td>\n",
       "      <td>Republican</td>\n",
       "      <td>163,387</td>\n",
       "      <td>116,454</td>\n",
       "      <td>122,640</td>\n",
       "      <td>164,676</td>\n",
       "    </tr>\n",
       "    <tr>\n",
       "      <th>1</th>\n",
       "      <td>479436</td>\n",
       "      <td>1.125490e+18</td>\n",
       "      <td>SenatorFischer</td>\n",
       "      <td>2019-05-06T16:15:46-04:00</td>\n",
       "      <td>It was great to @Skype w @StuartPublicSch’s go...</td>\n",
       "      <td>Deb Fischer</td>\n",
       "      <td>Sen</td>\n",
       "      <td>3-Jan-13</td>\n",
       "      <td>3/1/1951</td>\n",
       "      <td>F</td>\n",
       "      <td>NE</td>\n",
       "      <td>Senate</td>\n",
       "      <td>Republican</td>\n",
       "      <td>495,961</td>\n",
       "      <td>284,494</td>\n",
       "      <td>302,081</td>\n",
       "      <td>475,064</td>\n",
       "    </tr>\n",
       "    <tr>\n",
       "      <th>2</th>\n",
       "      <td>866557</td>\n",
       "      <td>1.166860e+18</td>\n",
       "      <td>RepDonBeyer</td>\n",
       "      <td>2019-08-28T19:44:44-04:00</td>\n",
       "      <td>RT @brianstelter 170 days.\\n\\nhttp://www.cnn.c...</td>\n",
       "      <td>Don Beyer</td>\n",
       "      <td>Rep</td>\n",
       "      <td>3-Jan-15</td>\n",
       "      <td>6/20/1950</td>\n",
       "      <td>M</td>\n",
       "      <td>VA</td>\n",
       "      <td>8</td>\n",
       "      <td>Democrat</td>\n",
       "      <td>1,769,443</td>\n",
       "      <td>1,981,473</td>\n",
       "      <td>1,971,820</td>\n",
       "      <td>1,822,522</td>\n",
       "    </tr>\n",
       "    <tr>\n",
       "      <th>3</th>\n",
       "      <td>168486</td>\n",
       "      <td>1.242860e+18</td>\n",
       "      <td>SenatorBennet</td>\n",
       "      <td>2020-03-25T13:14:12-04:00</td>\n",
       "      <td>@SenateDems We fought hard to make sure nonpro...</td>\n",
       "      <td>Michael Bennet</td>\n",
       "      <td>Sen</td>\n",
       "      <td>21-Jan-09</td>\n",
       "      <td>11/28/1964</td>\n",
       "      <td>M</td>\n",
       "      <td>CO</td>\n",
       "      <td>Senate</td>\n",
       "      <td>Democrat</td>\n",
       "      <td>1,202,484</td>\n",
       "      <td>1,338,870</td>\n",
       "      <td>1,323,102</td>\n",
       "      <td>1,185,243</td>\n",
       "    </tr>\n",
       "    <tr>\n",
       "      <th>4</th>\n",
       "      <td>507812</td>\n",
       "      <td>1.126490e+18</td>\n",
       "      <td>RepSires</td>\n",
       "      <td>2019-05-09T10:26:11-04:00</td>\n",
       "      <td>This illegal act shows once again there is no ...</td>\n",
       "      <td>Albio Sires</td>\n",
       "      <td>Rep</td>\n",
       "      <td>3-Jan-13</td>\n",
       "      <td>1/26/1951</td>\n",
       "      <td>M</td>\n",
       "      <td>NJ</td>\n",
       "      <td>8</td>\n",
       "      <td>Democrat</td>\n",
       "      <td>1,601,933</td>\n",
       "      <td>2,148,278</td>\n",
       "      <td>2,125,101</td>\n",
       "      <td>1,477,568</td>\n",
       "    </tr>\n",
       "  </tbody>\n",
       "</table>\n",
       "</div>"
      ],
      "text/plain": [
       "    index      tweet_id     screen_name                   datetime  \\\n",
       "0   11361  1.132820e+18  SenDanSullivan  2019-05-26T21:36:32-04:00   \n",
       "1  479436  1.125490e+18  SenatorFischer  2019-05-06T16:15:46-04:00   \n",
       "2  866557  1.166860e+18     RepDonBeyer  2019-08-28T19:44:44-04:00   \n",
       "3  168486  1.242860e+18   SenatorBennet  2020-03-25T13:14:12-04:00   \n",
       "4  507812  1.126490e+18        RepSires  2019-05-09T10:26:11-04:00   \n",
       "\n",
       "                                                text  name_wikipedia position  \\\n",
       "0  Sam &amp; the guys had to deal with a less exp...    Dan Sullivan      Sen   \n",
       "1  It was great to @Skype w @StuartPublicSch’s go...     Deb Fischer      Sen   \n",
       "2  RT @brianstelter 170 days.\\n\\nhttp://www.cnn.c...       Don Beyer      Rep   \n",
       "3  @SenateDems We fought hard to make sure nonpro...  Michael Bennet      Sen   \n",
       "4  This illegal act shows once again there is no ...     Albio Sires      Rep   \n",
       "\n",
       "  joined_congress_date    birthday gender state district_number       party  \\\n",
       "0             3-Jan-15  11/13/1964      M    AK          Senate  Republican   \n",
       "1             3-Jan-13    3/1/1951      F    NE          Senate  Republican   \n",
       "2             3-Jan-15   6/20/1950      M    VA               8    Democrat   \n",
       "3            21-Jan-09  11/28/1964      M    CO          Senate    Democrat   \n",
       "4             3-Jan-13   1/26/1951      M    NJ               8    Democrat   \n",
       "\n",
       "  trump_2016_state_share clinton_2016_state_share obama_2012_state_share  \\\n",
       "0                163,387                  116,454                122,640   \n",
       "1                495,961                  284,494                302,081   \n",
       "2              1,769,443                1,981,473              1,971,820   \n",
       "3              1,202,484                1,338,870              1,323,102   \n",
       "4              1,601,933                2,148,278              2,125,101   \n",
       "\n",
       "  romney_2012_state_share  \n",
       "0                 164,676  \n",
       "1                 475,064  \n",
       "2               1,822,522  \n",
       "3               1,185,243  \n",
       "4               1,477,568  "
      ]
     },
     "execution_count": 4,
     "metadata": {},
     "output_type": "execute_result"
    }
   ],
   "source": [
    "# drop NA in the 'text' column \n",
    "congress_tweets = congress_tweets.dropna(subset = ['text']).reset_index()\n",
    "congress_tweets.head()"
   ]
  },
  {
   "cell_type": "code",
   "execution_count": 5,
   "metadata": {},
   "outputs": [
    {
     "data": {
      "text/plain": [
       "0      Sam &amp; the guys had to deal with a less exp...\n",
       "1      It was great to @Skype w @StuartPublicSch’s go...\n",
       "2      RT @brianstelter 170 days.\\n\\nhttp://www.cnn.c...\n",
       "3      @SenateDems We fought hard to make sure nonpro...\n",
       "4      This illegal act shows once again there is no ...\n",
       "                             ...                        \n",
       "995    Protecting our Great Lakes is part of our DNA ...\n",
       "996    Implementing #Huawei technology into national ...\n",
       "997    Sarah Pitlyk lacks the basic qualifications an...\n",
       "998    For the fourth consecutive day, Mississippi's ...\n",
       "999    They provide needed relief for local restauran...\n",
       "Name: text, Length: 1000, dtype: object"
      ]
     },
     "execution_count": 5,
     "metadata": {},
     "output_type": "execute_result"
    }
   ],
   "source": [
    "# look at the \"text\" column \n",
    "text = congress_tweets['text']\n",
    "text"
   ]
  },
  {
   "cell_type": "code",
   "execution_count": 6,
   "metadata": {},
   "outputs": [
    {
     "data": {
      "text/plain": [
       "'Sam &amp; the guys had to deal with a less experienced teammate (me). But we did make it onto the podium for 3rd place, and my teammates were gracious. Fortunately, Sam’s all-time race record of 1:09 still stands! Congrats to the winners and all who competed. #Kodiak #crabfest2019'"
      ]
     },
     "execution_count": 6,
     "metadata": {},
     "output_type": "execute_result"
    }
   ],
   "source": [
    "# see what a tweet looks like \n",
    "congress_tweets['text'][0]"
   ]
  },
  {
   "cell_type": "code",
   "execution_count": 7,
   "metadata": {},
   "outputs": [
    {
     "data": {
      "text/plain": [
       "'RT @brianstelter 170 days.\\n\\nhttp://www.cnn.com/2019/08/28/politics/trump-white-house-daily-press-briefing/index.html'"
      ]
     },
     "execution_count": 7,
     "metadata": {},
     "output_type": "execute_result"
    }
   ],
   "source": [
    "congress_tweets['text'][2]"
   ]
  },
  {
   "cell_type": "markdown",
   "metadata": {},
   "source": [
    "In addition to words with substantial meanings, we can see many symbols like @, #, &, http://, and perhaps emojis (is flag an emoji?). Let's remove URLs first. "
   ]
  },
  {
   "cell_type": "code",
   "execution_count": 8,
   "metadata": {},
   "outputs": [],
   "source": [
    "import re\n",
    "def remove_URL(sample):\n",
    "    return re.sub(r\"http\\S+\", \"\", sample)"
   ]
  },
  {
   "cell_type": "code",
   "execution_count": 9,
   "metadata": {},
   "outputs": [],
   "source": [
    "congress_tweets['text_URLremoved'] = congress_tweets['text'].map(lambda x: remove_URL(x))"
   ]
  },
  {
   "cell_type": "code",
   "execution_count": 10,
   "metadata": {},
   "outputs": [
    {
     "data": {
      "text/plain": [
       "'RT @brianstelter 170 days.\\n\\n'"
      ]
     },
     "execution_count": 10,
     "metadata": {},
     "output_type": "execute_result"
    }
   ],
   "source": [
    "congress_tweets['text_URLremoved'][2]"
   ]
  },
  {
   "cell_type": "markdown",
   "metadata": {},
   "source": [
    "URLs are now removed, but we still have new-line indicators and abbreviations such as 'RT' (retweet) and 'QT'(quote a tweet), which are not helpful in classification. Let's integrate removal of new-line indicators and abbreviations in the rem_punc_stop() function, and apply that function to see what we can get. \n",
    "\n",
    "(We acknowledge that our team is not the most familiar with Twitter data, and thus may have missed other commonly used abbreviations on this platform. If we were conducting this analysis in a real-world setting, we would intentionally solicit expert feedback on this pre-processing step to ensure we begin our analysis with the cleanest data possible)."
   ]
  },
  {
   "cell_type": "code",
   "execution_count": 11,
   "metadata": {},
   "outputs": [],
   "source": [
    "# define the punctuation and stop words remove function \n",
    "def rem_punc_stop(text):\n",
    "    stop_words = STOP_WORDS\n",
    "    \n",
    "    nlp.Defaults.stop_words |= {\"\\n\\n\", \"\\n\", \"RT\", \"QT\", \"amp\"} \n",
    "    \n",
    "    punc = set(punctuation)\n",
    "    \n",
    "    punc_free = \"\".join([ch for ch in text if ch not in punc])\n",
    "    \n",
    "    doc = nlp(punc_free)\n",
    "    \n",
    "    spacy_words = [token.text for token in doc]\n",
    "    \n",
    "    spacy_words = [word for word in spacy_words if not word.startswith('http')]\n",
    "    \n",
    "    no_stop = [word for word in spacy_words if word not in stop_words]\n",
    "    \n",
    "    return no_stop"
   ]
  },
  {
   "cell_type": "code",
   "execution_count": 12,
   "metadata": {},
   "outputs": [],
   "source": [
    "# apply rem_punc_stop() to 'text' column to get a tokenized list of 'text' with stop words and puncutation removed \n",
    "congress_tweets['tokens'] = congress_tweets['text_URLremoved'].map(lambda x: rem_punc_stop(x))\n",
    "# this step adds a new column 'token' to the original dadaframe "
   ]
  },
  {
   "cell_type": "code",
   "execution_count": 13,
   "metadata": {},
   "outputs": [
    {
     "data": {
      "text/plain": [
       "0      [Sam, guys, deal, experienced, teammate, But, ...\n",
       "1      [It, great, Skype, w, StuartPublicSch, governm...\n",
       "2                              [brianstelter, 170, days]\n",
       "3      [SenateDems, We, fought, hard, sure, nonprofit...\n",
       "4      [This, illegal, act, shows, rule, law, Maduro,...\n",
       "                             ...                        \n",
       "995    [Protecting, Great, Lakes, DNA, Michiganders, ...\n",
       "996    [Implementing, Huawei, technology, national, i...\n",
       "997    [Sarah, Pitlyk, lacks, basic, qualifications, ...\n",
       "998    [For, fourth, consecutive, day, Mississippis, ...\n",
       "999    [They, provide, needed, relief, local, restaur...\n",
       "Name: tokens, Length: 1000, dtype: object"
      ]
     },
     "execution_count": 13,
     "metadata": {},
     "output_type": "execute_result"
    }
   ],
   "source": [
    "congress_tweets['tokens']"
   ]
  },
  {
   "cell_type": "code",
   "execution_count": 14,
   "metadata": {},
   "outputs": [
    {
     "data": {
      "text/plain": [
       "['Sam',\n",
       " 'guys',\n",
       " 'deal',\n",
       " 'experienced',\n",
       " 'teammate',\n",
       " 'But',\n",
       " 'podium',\n",
       " '3rd',\n",
       " 'place',\n",
       " 'teammates',\n",
       " 'gracious',\n",
       " 'Fortunately',\n",
       " 'Sam',\n",
       " 'alltime',\n",
       " 'race',\n",
       " 'record',\n",
       " '109',\n",
       " 'stands',\n",
       " 'Congrats',\n",
       " 'winners',\n",
       " 'competed',\n",
       " 'Kodiak',\n",
       " 'crabfest2019']"
      ]
     },
     "execution_count": 14,
     "metadata": {},
     "output_type": "execute_result"
    }
   ],
   "source": [
    "# see tokens in some tweets\n",
    "congress_tweets['tokens'][0]"
   ]
  },
  {
   "cell_type": "code",
   "execution_count": 15,
   "metadata": {},
   "outputs": [
    {
     "data": {
      "text/plain": [
       "['brianstelter', '170', 'days']"
      ]
     },
     "execution_count": 15,
     "metadata": {},
     "output_type": "execute_result"
    }
   ],
   "source": [
    "congress_tweets['tokens'][2]"
   ]
  },
  {
   "cell_type": "markdown",
   "metadata": {},
   "source": [
    "The tokens seem good. Let's use WordCloud to see if the most frequent words and their size according to frequency sound meaningful. "
   ]
  },
  {
   "cell_type": "code",
   "execution_count": 16,
   "metadata": {},
   "outputs": [
    {
     "data": {
      "image/png": "[encoded data removed]",
      "text/plain": [
       "<Figure size 432x288 with 1 Axes>"
      ]
     },
     "metadata": {
      "needs_background": "light"
     },
     "output_type": "display_data"
    }
   ],
   "source": [
    "text = ' '.join(congress_tweets['tokens'].map(lambda text: ' '.join(text))) \n",
    "wordcloud = WordCloud().generate(text)\n",
    "plt.imshow(wordcloud, interpolation = 'bilinear')\n",
    "plt.axis('off')\n",
    "plt.show()"
   ]
  },
  {
   "cell_type": "markdown",
   "metadata": {},
   "source": [
    "The word clouds seems make sense. Now we move to EDA. (Word clouds is also an EDA approach but here I use it more like a sanity check)."
   ]
  },
  {
   "cell_type": "markdown",
   "metadata": {},
   "source": [
    "## Exploratory Data Analysis"
   ]
  },
  {
   "cell_type": "markdown",
   "metadata": {},
   "source": [
    "Use two of the techniques we covered in lab (or other techniques outside of lab!) to explore the text of the tweets. You should construct these visualizations with an eye toward the eventual classification tasks: (1) predicting the legislator's political party based on the text of their tweet, and (2) predicting whether the legislator is a Senator or Representative. As a reminder, in lab we covered word frequencies, word clouds, word/character counts, scattertext, and topic modeling as possible exploration tools. "
   ]
  },
  {
   "cell_type": "markdown",
   "metadata": {},
   "source": [
    "### EDA 1 visualizing n-grams"
   ]
  },
  {
   "cell_type": "code",
   "execution_count": 17,
   "metadata": {},
   "outputs": [
    {
     "data": {
      "text/plain": [
       "0      Sam guys deal experienced teammate But podium ...\n",
       "1      It great Skype w StuartPublicSch government cl...\n",
       "2                                  brianstelter 170 days\n",
       "3      SenateDems We fought hard sure nonprofits size...\n",
       "4      This illegal act shows rule law Maduro Venezue...\n",
       "                             ...                        \n",
       "995    Protecting Great Lakes DNA Michiganders critic...\n",
       "996    Implementing Huawei technology national infras...\n",
       "997    Sarah Pitlyk lacks basic qualifications experi...\n",
       "998    For fourth consecutive day Mississippis number...\n",
       "999    They provide needed relief local restaurants l...\n",
       "Name: tokens, Length: 1000, dtype: object"
      ]
     },
     "execution_count": 17,
     "metadata": {},
     "output_type": "execute_result"
    }
   ],
   "source": [
    "# collapse our tokens back into strings with the join() string method.\n",
    "congress_tweets['tokens'] = congress_tweets['tokens'].map(lambda text: ' '.join(text))\n",
    "congress_tweets['tokens']"
   ]
  },
  {
   "cell_type": "code",
   "execution_count": 18,
   "metadata": {},
   "outputs": [
    {
     "data": {
      "text/html": [
       "<div>\n",
       "<style scoped>\n",
       "    .dataframe tbody tr th:only-of-type {\n",
       "        vertical-align: middle;\n",
       "    }\n",
       "\n",
       "    .dataframe tbody tr th {\n",
       "        vertical-align: top;\n",
       "    }\n",
       "\n",
       "    .dataframe thead th {\n",
       "        text-align: right;\n",
       "    }\n",
       "</style>\n",
       "<table border=\"1\" class=\"dataframe\">\n",
       "  <thead>\n",
       "    <tr style=\"text-align: right;\">\n",
       "      <th></th>\n",
       "      <th>index</th>\n",
       "      <th>tweet_id</th>\n",
       "      <th>screen_name</th>\n",
       "      <th>datetime</th>\n",
       "      <th>text</th>\n",
       "      <th>name_wikipedia</th>\n",
       "      <th>position</th>\n",
       "      <th>joined_congress_date</th>\n",
       "      <th>birthday</th>\n",
       "      <th>gender</th>\n",
       "      <th>state</th>\n",
       "      <th>district_number</th>\n",
       "      <th>party</th>\n",
       "      <th>trump_2016_state_share</th>\n",
       "      <th>clinton_2016_state_share</th>\n",
       "      <th>obama_2012_state_share</th>\n",
       "      <th>romney_2012_state_share</th>\n",
       "      <th>text_URLremoved</th>\n",
       "      <th>tokens</th>\n",
       "    </tr>\n",
       "  </thead>\n",
       "  <tbody>\n",
       "    <tr>\n",
       "      <th>0</th>\n",
       "      <td>11361</td>\n",
       "      <td>1.132820e+18</td>\n",
       "      <td>SenDanSullivan</td>\n",
       "      <td>2019-05-26T21:36:32-04:00</td>\n",
       "      <td>Sam &amp;amp; the guys had to deal with a less exp...</td>\n",
       "      <td>Dan Sullivan</td>\n",
       "      <td>Sen</td>\n",
       "      <td>3-Jan-15</td>\n",
       "      <td>11/13/1964</td>\n",
       "      <td>M</td>\n",
       "      <td>AK</td>\n",
       "      <td>Senate</td>\n",
       "      <td>Republican</td>\n",
       "      <td>163,387</td>\n",
       "      <td>116,454</td>\n",
       "      <td>122,640</td>\n",
       "      <td>164,676</td>\n",
       "      <td>Sam &amp;amp; the guys had to deal with a less exp...</td>\n",
       "      <td>Sam guys deal experienced teammate But podium ...</td>\n",
       "    </tr>\n",
       "    <tr>\n",
       "      <th>1</th>\n",
       "      <td>479436</td>\n",
       "      <td>1.125490e+18</td>\n",
       "      <td>SenatorFischer</td>\n",
       "      <td>2019-05-06T16:15:46-04:00</td>\n",
       "      <td>It was great to @Skype w @StuartPublicSch’s go...</td>\n",
       "      <td>Deb Fischer</td>\n",
       "      <td>Sen</td>\n",
       "      <td>3-Jan-13</td>\n",
       "      <td>3/1/1951</td>\n",
       "      <td>F</td>\n",
       "      <td>NE</td>\n",
       "      <td>Senate</td>\n",
       "      <td>Republican</td>\n",
       "      <td>495,961</td>\n",
       "      <td>284,494</td>\n",
       "      <td>302,081</td>\n",
       "      <td>475,064</td>\n",
       "      <td>It was great to @Skype w @StuartPublicSch’s go...</td>\n",
       "      <td>It great Skype w StuartPublicSch government cl...</td>\n",
       "    </tr>\n",
       "  </tbody>\n",
       "</table>\n",
       "</div>"
      ],
      "text/plain": [
       "    index      tweet_id     screen_name                   datetime  \\\n",
       "0   11361  1.132820e+18  SenDanSullivan  2019-05-26T21:36:32-04:00   \n",
       "1  479436  1.125490e+18  SenatorFischer  2019-05-06T16:15:46-04:00   \n",
       "\n",
       "                                                text name_wikipedia position  \\\n",
       "0  Sam &amp; the guys had to deal with a less exp...   Dan Sullivan      Sen   \n",
       "1  It was great to @Skype w @StuartPublicSch’s go...    Deb Fischer      Sen   \n",
       "\n",
       "  joined_congress_date    birthday gender state district_number       party  \\\n",
       "0             3-Jan-15  11/13/1964      M    AK          Senate  Republican   \n",
       "1             3-Jan-13    3/1/1951      F    NE          Senate  Republican   \n",
       "\n",
       "  trump_2016_state_share clinton_2016_state_share obama_2012_state_share  \\\n",
       "0                163,387                  116,454                122,640   \n",
       "1                495,961                  284,494                302,081   \n",
       "\n",
       "  romney_2012_state_share                                    text_URLremoved  \\\n",
       "0                 164,676  Sam &amp; the guys had to deal with a less exp...   \n",
       "1                 475,064  It was great to @Skype w @StuartPublicSch’s go...   \n",
       "\n",
       "                                              tokens  \n",
       "0  Sam guys deal experienced teammate But podium ...  \n",
       "1  It great Skype w StuartPublicSch government cl...  "
      ]
     },
     "execution_count": 18,
     "metadata": {},
     "output_type": "execute_result"
    }
   ],
   "source": [
    "congress_tweets.head(2)"
   ]
  },
  {
   "cell_type": "code",
   "execution_count": 19,
   "metadata": {},
   "outputs": [
    {
     "name": "stderr",
     "output_type": "stream",
     "text": [
      "/Users/evalencialopez/opt/anaconda3/lib/python3.8/site-packages/sklearn/feature_extraction/text.py:396: UserWarning: Your stop_words may be inconsistent with your preprocessing. Tokenizing the stop words generated tokens ['ll', 'qt', 'rt', 've'] not in stop_words.\n",
      "  warnings.warn(\n",
      "/Users/evalencialopez/opt/anaconda3/lib/python3.8/site-packages/sklearn/utils/deprecation.py:87: FutureWarning: Function get_feature_names is deprecated; get_feature_names is deprecated in 1.0 and will be removed in 1.2. Please use get_feature_names_out instead.\n",
      "  warnings.warn(msg, category=FutureWarning)\n"
     ]
    }
   ],
   "source": [
    "# initialize the BOW countervectorizer\n",
    "# the ngram_range argument. ngram_range=(1,2) is do to a unigram (1-gram) and a bigram (2-gram) \n",
    "countvec = CountVectorizer(stop_words=STOP_WORDS, ngram_range=(2,3)) # n-gram is a bigram and a 3-gram\n",
    "ngrams = countvec.fit_transform(congress_tweets['tokens'])\n",
    "\n",
    "dictionary_dataframe = pd.DataFrame(ngrams.todense(), columns = countvec.get_feature_names())"
   ]
  },
  {
   "cell_type": "code",
   "execution_count": 20,
   "metadata": {},
   "outputs": [
    {
     "data": {
      "text/html": [
       "<div>\n",
       "<style scoped>\n",
       "    .dataframe tbody tr th:only-of-type {\n",
       "        vertical-align: middle;\n",
       "    }\n",
       "\n",
       "    .dataframe tbody tr th {\n",
       "        vertical-align: top;\n",
       "    }\n",
       "\n",
       "    .dataframe thead th {\n",
       "        text-align: right;\n",
       "    }\n",
       "</style>\n",
       "<table border=\"1\" class=\"dataframe\">\n",
       "  <thead>\n",
       "    <tr style=\"text-align: right;\">\n",
       "      <th></th>\n",
       "      <th>10 celebrated</th>\n",
       "      <th>10 celebrated harriet</th>\n",
       "      <th>10 covid</th>\n",
       "      <th>10 covid states</th>\n",
       "      <th>10 million</th>\n",
       "      <th>10 million scientist</th>\n",
       "      <th>10 people</th>\n",
       "      <th>10 pm</th>\n",
       "      <th>10 pm week</th>\n",
       "      <th>10 years</th>\n",
       "      <th>...</th>\n",
       "      <th>zip code</th>\n",
       "      <th>zip code economic</th>\n",
       "      <th>zones act</th>\n",
       "      <th>zones act repanthonybrown</th>\n",
       "      <th>zones expand</th>\n",
       "      <th>zones expand exact</th>\n",
       "      <th>zoo nt</th>\n",
       "      <th>zoo nt know</th>\n",
       "      <th>zulu acherry13</th>\n",
       "      <th>zulu acherry13 gov</th>\n",
       "    </tr>\n",
       "  </thead>\n",
       "  <tbody>\n",
       "    <tr>\n",
       "      <th>0</th>\n",
       "      <td>0</td>\n",
       "      <td>0</td>\n",
       "      <td>0</td>\n",
       "      <td>0</td>\n",
       "      <td>0</td>\n",
       "      <td>0</td>\n",
       "      <td>0</td>\n",
       "      <td>0</td>\n",
       "      <td>0</td>\n",
       "      <td>0</td>\n",
       "      <td>...</td>\n",
       "      <td>0</td>\n",
       "      <td>0</td>\n",
       "      <td>0</td>\n",
       "      <td>0</td>\n",
       "      <td>0</td>\n",
       "      <td>0</td>\n",
       "      <td>0</td>\n",
       "      <td>0</td>\n",
       "      <td>0</td>\n",
       "      <td>0</td>\n",
       "    </tr>\n",
       "    <tr>\n",
       "      <th>1</th>\n",
       "      <td>0</td>\n",
       "      <td>0</td>\n",
       "      <td>0</td>\n",
       "      <td>0</td>\n",
       "      <td>0</td>\n",
       "      <td>0</td>\n",
       "      <td>0</td>\n",
       "      <td>0</td>\n",
       "      <td>0</td>\n",
       "      <td>0</td>\n",
       "      <td>...</td>\n",
       "      <td>0</td>\n",
       "      <td>0</td>\n",
       "      <td>0</td>\n",
       "      <td>0</td>\n",
       "      <td>0</td>\n",
       "      <td>0</td>\n",
       "      <td>0</td>\n",
       "      <td>0</td>\n",
       "      <td>0</td>\n",
       "      <td>0</td>\n",
       "    </tr>\n",
       "    <tr>\n",
       "      <th>2</th>\n",
       "      <td>0</td>\n",
       "      <td>0</td>\n",
       "      <td>0</td>\n",
       "      <td>0</td>\n",
       "      <td>0</td>\n",
       "      <td>0</td>\n",
       "      <td>0</td>\n",
       "      <td>0</td>\n",
       "      <td>0</td>\n",
       "      <td>0</td>\n",
       "      <td>...</td>\n",
       "      <td>0</td>\n",
       "      <td>0</td>\n",
       "      <td>0</td>\n",
       "      <td>0</td>\n",
       "      <td>0</td>\n",
       "      <td>0</td>\n",
       "      <td>0</td>\n",
       "      <td>0</td>\n",
       "      <td>0</td>\n",
       "      <td>0</td>\n",
       "    </tr>\n",
       "    <tr>\n",
       "      <th>3</th>\n",
       "      <td>0</td>\n",
       "      <td>0</td>\n",
       "      <td>0</td>\n",
       "      <td>0</td>\n",
       "      <td>0</td>\n",
       "      <td>0</td>\n",
       "      <td>0</td>\n",
       "      <td>0</td>\n",
       "      <td>0</td>\n",
       "      <td>0</td>\n",
       "      <td>...</td>\n",
       "      <td>0</td>\n",
       "      <td>0</td>\n",
       "      <td>0</td>\n",
       "      <td>0</td>\n",
       "      <td>0</td>\n",
       "      <td>0</td>\n",
       "      <td>0</td>\n",
       "      <td>0</td>\n",
       "      <td>0</td>\n",
       "      <td>0</td>\n",
       "    </tr>\n",
       "    <tr>\n",
       "      <th>4</th>\n",
       "      <td>0</td>\n",
       "      <td>0</td>\n",
       "      <td>0</td>\n",
       "      <td>0</td>\n",
       "      <td>0</td>\n",
       "      <td>0</td>\n",
       "      <td>0</td>\n",
       "      <td>0</td>\n",
       "      <td>0</td>\n",
       "      <td>0</td>\n",
       "      <td>...</td>\n",
       "      <td>0</td>\n",
       "      <td>0</td>\n",
       "      <td>0</td>\n",
       "      <td>0</td>\n",
       "      <td>0</td>\n",
       "      <td>0</td>\n",
       "      <td>0</td>\n",
       "      <td>0</td>\n",
       "      <td>0</td>\n",
       "      <td>0</td>\n",
       "    </tr>\n",
       "  </tbody>\n",
       "</table>\n",
       "<p>5 rows × 36123 columns</p>\n",
       "</div>"
      ],
      "text/plain": [
       "   10 celebrated  10 celebrated harriet  10 covid  10 covid states  \\\n",
       "0              0                      0         0                0   \n",
       "1              0                      0         0                0   \n",
       "2              0                      0         0                0   \n",
       "3              0                      0         0                0   \n",
       "4              0                      0         0                0   \n",
       "\n",
       "   10 million  10 million scientist  10 people  10 pm  10 pm week  10 years  \\\n",
       "0           0                     0          0      0           0         0   \n",
       "1           0                     0          0      0           0         0   \n",
       "2           0                     0          0      0           0         0   \n",
       "3           0                     0          0      0           0         0   \n",
       "4           0                     0          0      0           0         0   \n",
       "\n",
       "   ...  zip code  zip code economic  zones act  zones act repanthonybrown  \\\n",
       "0  ...         0                  0          0                          0   \n",
       "1  ...         0                  0          0                          0   \n",
       "2  ...         0                  0          0                          0   \n",
       "3  ...         0                  0          0                          0   \n",
       "4  ...         0                  0          0                          0   \n",
       "\n",
       "   zones expand  zones expand exact  zoo nt  zoo nt know  zulu acherry13  \\\n",
       "0             0                   0       0            0               0   \n",
       "1             0                   0       0            0               0   \n",
       "2             0                   0       0            0               0   \n",
       "3             0                   0       0            0               0   \n",
       "4             0                   0       0            0               0   \n",
       "\n",
       "   zulu acherry13 gov  \n",
       "0                   0  \n",
       "1                   0  \n",
       "2                   0  \n",
       "3                   0  \n",
       "4                   0  \n",
       "\n",
       "[5 rows x 36123 columns]"
      ]
     },
     "execution_count": 20,
     "metadata": {},
     "output_type": "execute_result"
    }
   ],
   "source": [
    "# see how each 2-grams or 3-grams show up in each row/individual\n",
    "dictionary_dataframe.head()"
   ]
  },
  {
   "cell_type": "code",
   "execution_count": 21,
   "metadata": {},
   "outputs": [
    {
     "data": {
      "text/html": [
       "<div>\n",
       "<style scoped>\n",
       "    .dataframe tbody tr th:only-of-type {\n",
       "        vertical-align: middle;\n",
       "    }\n",
       "\n",
       "    .dataframe tbody tr th {\n",
       "        vertical-align: top;\n",
       "    }\n",
       "\n",
       "    .dataframe thead th {\n",
       "        text-align: right;\n",
       "    }\n",
       "</style>\n",
       "<table border=\"1\" class=\"dataframe\">\n",
       "  <thead>\n",
       "    <tr style=\"text-align: right;\">\n",
       "      <th></th>\n",
       "      <th>ngrams</th>\n",
       "      <th>freq</th>\n",
       "    </tr>\n",
       "  </thead>\n",
       "  <tbody>\n",
       "    <tr>\n",
       "      <th>0</th>\n",
       "      <td>american people</td>\n",
       "      <td>23</td>\n",
       "    </tr>\n",
       "    <tr>\n",
       "      <th>1</th>\n",
       "      <td>president trump</td>\n",
       "      <td>21</td>\n",
       "    </tr>\n",
       "    <tr>\n",
       "      <th>2</th>\n",
       "      <td>health care</td>\n",
       "      <td>20</td>\n",
       "    </tr>\n",
       "    <tr>\n",
       "      <th>3</th>\n",
       "      <td>trump administration</td>\n",
       "      <td>19</td>\n",
       "    </tr>\n",
       "    <tr>\n",
       "      <th>4</th>\n",
       "      <td>supreme court</td>\n",
       "      <td>17</td>\n",
       "    </tr>\n",
       "  </tbody>\n",
       "</table>\n",
       "</div>"
      ],
      "text/plain": [
       "                 ngrams  freq\n",
       "0       american people    23\n",
       "1       president trump    21\n",
       "2           health care    20\n",
       "3  trump administration    19\n",
       "4         supreme court    17"
      ]
     },
     "execution_count": 21,
     "metadata": {},
     "output_type": "execute_result"
    }
   ],
   "source": [
    "# counts how many times each of the 2-grams and 3-grams show up across all document \n",
    "df_ngram = pd.DataFrame(dictionary_dataframe.sum().reset_index()).rename(columns={'index': 'ngrams', 0:'freq'})\n",
    "df_ngram = df_ngram.sort_values(by = ['freq'], ascending = False).reset_index(drop = True)\n",
    "df_ngram.head() "
   ]
  },
  {
   "cell_type": "code",
   "execution_count": 22,
   "metadata": {
    "scrolled": true
   },
   "outputs": [
    {
     "data": {
      "image/png": "[encoded data removed]",
      "text/plain": [
       "<Figure size 432x288 with 1 Axes>"
      ]
     },
     "metadata": {
      "needs_background": "light"
     },
     "output_type": "display_data"
    }
   ],
   "source": [
    "# plot the top 25 n-grams \n",
    "sns.barplot(x=\"ngrams\", y = 'freq', data=df_ngram[0:25]) \n",
    "plt.xticks(rotation=90)\n",
    "plt.show()"
   ]
  },
  {
   "cell_type": "markdown",
   "metadata": {},
   "source": [
    "It seems the top 25 n-grams contains words that are suggestive of topics like **People** (\"american people\", \"millions americans\"), **Health** (\"health care\", \"public health\", \"mental health\"), **Government and Politics** (\"trump administration\", \"supreme court\", \"house democrats\", \"town hall\", \"house passed\"), **Country/Nation** (\"united states\", \"national securitry\"), **COVID-19** (\"wear mask\", \"social distancing\"), **Business** (\"small business\"), etc. These messages are not indicative toward our prediciton tasks but just help us know potential themes in the tweets. Let's use topic modeling to see if these topics will appear and which topics may be good predictors of party membership or senator vs. rep positions."
   ]
  },
  {
   "cell_type": "markdown",
   "metadata": {},
   "source": [
    "### EDA 2 Latent Dirichlet Allocation (LDA) for topic modeling"
   ]
  },
  {
   "cell_type": "code",
   "execution_count": 23,
   "metadata": {},
   "outputs": [],
   "source": [
    "# create tf-idf matrix \n",
    "\n",
    "X = congress_tweets['tokens']\n",
    "tf = TfidfVectorizer(tokenizer = rem_punc_stop)  # initialize the function, name it as 'tf'\n",
    "\n",
    "tfidf_matrix =  tf.fit_transform(X)  \n",
    "dense_matrix = tfidf_matrix.todense()"
   ]
  },
  {
   "cell_type": "code",
   "execution_count": 24,
   "metadata": {},
   "outputs": [
    {
     "data": {
      "text/plain": [
       "matrix([[0., 0., 0., ..., 0., 0., 0.],\n",
       "        [0., 0., 0., ..., 0., 0., 0.],\n",
       "        [0., 0., 0., ..., 0., 0., 0.],\n",
       "        ...,\n",
       "        [0., 0., 0., ..., 0., 0., 0.],\n",
       "        [0., 0., 0., ..., 0., 0., 0.],\n",
       "        [0., 0., 0., ..., 0., 0., 0.]])"
      ]
     },
     "execution_count": 24,
     "metadata": {},
     "output_type": "execute_result"
    }
   ],
   "source": [
    "dense_matrix \n",
    "# tf-idf ranges from 0 to 1. The closer to 1, the word is more distinguishing. \n",
    "# I don't see any 1?? "
   ]
  },
  {
   "cell_type": "code",
   "execution_count": 25,
   "metadata": {},
   "outputs": [
    {
     "name": "stderr",
     "output_type": "stream",
     "text": [
      "/Users/evalencialopez/opt/anaconda3/lib/python3.8/site-packages/sklearn/utils/validation.py:585: FutureWarning: np.matrix usage is deprecated in 1.0 and will raise a TypeError in 1.2. Please convert to a numpy array with np.asarray. For more information see: https://numpy.org/doc/stable/reference/generated/numpy.matrix.html\n",
      "  warnings.warn(\n"
     ]
    }
   ],
   "source": [
    "# apply the LDA model. set n_components= 6 to see what we get. \n",
    "lda = LatentDirichletAllocation(n_components=6, max_iter=20, random_state=0) \n",
    "\n",
    "# use LDA model to fit the data \n",
    "lda = lda.fit(dense_matrix)"
   ]
  },
  {
   "cell_type": "code",
   "execution_count": 26,
   "metadata": {},
   "outputs": [],
   "source": [
    "def print_top_words(model, feature_names, n_top_words):\n",
    "    for topic_idx, topic in enumerate(model.components_):\n",
    "        print(\"\\nTopic #{}:\".format(topic_idx))\n",
    "        print(\" \".join([feature_names[i]\n",
    "                        for i in topic.argsort()[:-n_top_words - 1:-1]]))\n",
    "    print()"
   ]
  },
  {
   "cell_type": "code",
   "execution_count": 27,
   "metadata": {},
   "outputs": [
    {
     "name": "stdout",
     "output_type": "stream",
     "text": [
      "\n",
      "Topic #0:\n",
      "     health today need help honor president — new “ crisis work lives americans world covid19 ” realdonaldtrump care\n",
      "\n",
      "Topic #1:\n",
      "     today time president join community people need house working states work fight americans nation congress new bill “\n",
      "\n",
      "Topic #2:\n",
      "     people families congress act trump health workers important great care – time statement today administration live help access\n",
      "\n",
      "Topic #3:\n",
      "program      trump country president health covid19 learn people ️ ⬇ support help communities new today house need week\n",
      "\n",
      "Topic #4:\n",
      "     americans thank covid19 today time health ” work “ government — great home protect important pandemic \n",
      " \n",
      "  need\n",
      "\n",
      "Topic #5:\n",
      "     trump today act covid19 tune bill house support american country watch – jobs live people thank congress help\n",
      "\n"
     ]
    },
    {
     "name": "stderr",
     "output_type": "stream",
     "text": [
      "/Users/evalencialopez/opt/anaconda3/lib/python3.8/site-packages/sklearn/utils/deprecation.py:87: FutureWarning: Function get_feature_names is deprecated; get_feature_names is deprecated in 1.0 and will be removed in 1.2. Please use get_feature_names_out instead.\n",
      "  warnings.warn(msg, category=FutureWarning)\n"
     ]
    }
   ],
   "source": [
    "# see the 6 topics and print out the top 20 words in each topic\n",
    "tf_feature_names = tf.get_feature_names()\n",
    "print_top_words(lda, tf_feature_names, 20) "
   ]
  },
  {
   "cell_type": "markdown",
   "metadata": {},
   "source": [
    "Based on the top 20 words in each topic, it seems topic 0, 2, 3, 4 is about COVID-19 and health care, topic 1 and 5 is about today's community and work. All of them are related to the pandemic. Overall these topics seem more interelated than distinguishable from each other. "
   ]
  },
  {
   "cell_type": "markdown",
   "metadata": {},
   "source": [
    "Now we compare the prevalence of each topic across individuals by merging the topic distribution back into the Pandas dataframe."
   ]
  },
  {
   "cell_type": "code",
   "execution_count": 28,
   "metadata": {},
   "outputs": [
    {
     "data": {
      "text/plain": [
       "array([[0.03049656, 0.84759631, 0.03048884, 0.03045197, 0.03049689,\n",
       "        0.03046944],\n",
       "       [0.02998057, 0.02997029, 0.85027217, 0.02989659, 0.02998286,\n",
       "        0.02989752],\n",
       "       [0.06142173, 0.0616112 , 0.06137959, 0.06165661, 0.69204825,\n",
       "        0.06188262],\n",
       "       ...,\n",
       "       [0.02521082, 0.02529578, 0.02530812, 0.02528931, 0.02577301,\n",
       "        0.87312295],\n",
       "       [0.02284813, 0.02283093, 0.02289568, 0.02285903, 0.88583751,\n",
       "        0.02272871],\n",
       "       [0.03315547, 0.83368557, 0.0332357 , 0.03317182, 0.033429  ,\n",
       "        0.03332244]])"
      ]
     },
     "execution_count": 28,
     "metadata": {},
     "output_type": "execute_result"
    }
   ],
   "source": [
    "# get the topic distribution array\n",
    "topic_dist = lda.transform(tfidf_matrix)\n",
    "topic_dist"
   ]
  },
  {
   "cell_type": "code",
   "execution_count": 29,
   "metadata": {},
   "outputs": [
    {
     "data": {
      "text/html": [
       "<div>\n",
       "<style scoped>\n",
       "    .dataframe tbody tr th:only-of-type {\n",
       "        vertical-align: middle;\n",
       "    }\n",
       "\n",
       "    .dataframe tbody tr th {\n",
       "        vertical-align: top;\n",
       "    }\n",
       "\n",
       "    .dataframe thead th {\n",
       "        text-align: right;\n",
       "    }\n",
       "</style>\n",
       "<table border=\"1\" class=\"dataframe\">\n",
       "  <thead>\n",
       "    <tr style=\"text-align: right;\">\n",
       "      <th></th>\n",
       "      <th>0</th>\n",
       "      <th>1</th>\n",
       "      <th>2</th>\n",
       "      <th>3</th>\n",
       "      <th>4</th>\n",
       "      <th>5</th>\n",
       "      <th>level_0</th>\n",
       "      <th>index</th>\n",
       "      <th>tweet_id</th>\n",
       "      <th>screen_name</th>\n",
       "      <th>...</th>\n",
       "      <th>gender</th>\n",
       "      <th>state</th>\n",
       "      <th>district_number</th>\n",
       "      <th>party</th>\n",
       "      <th>trump_2016_state_share</th>\n",
       "      <th>clinton_2016_state_share</th>\n",
       "      <th>obama_2012_state_share</th>\n",
       "      <th>romney_2012_state_share</th>\n",
       "      <th>text_URLremoved</th>\n",
       "      <th>tokens</th>\n",
       "    </tr>\n",
       "  </thead>\n",
       "  <tbody>\n",
       "    <tr>\n",
       "      <th>0</th>\n",
       "      <td>0.030497</td>\n",
       "      <td>0.847596</td>\n",
       "      <td>0.030489</td>\n",
       "      <td>0.030452</td>\n",
       "      <td>0.030497</td>\n",
       "      <td>0.030469</td>\n",
       "      <td>0</td>\n",
       "      <td>11361</td>\n",
       "      <td>1.132820e+18</td>\n",
       "      <td>SenDanSullivan</td>\n",
       "      <td>...</td>\n",
       "      <td>M</td>\n",
       "      <td>AK</td>\n",
       "      <td>Senate</td>\n",
       "      <td>Republican</td>\n",
       "      <td>163,387</td>\n",
       "      <td>116,454</td>\n",
       "      <td>122,640</td>\n",
       "      <td>164,676</td>\n",
       "      <td>Sam &amp;amp; the guys had to deal with a less exp...</td>\n",
       "      <td>Sam guys deal experienced teammate But podium ...</td>\n",
       "    </tr>\n",
       "    <tr>\n",
       "      <th>1</th>\n",
       "      <td>0.029981</td>\n",
       "      <td>0.029970</td>\n",
       "      <td>0.850272</td>\n",
       "      <td>0.029897</td>\n",
       "      <td>0.029983</td>\n",
       "      <td>0.029898</td>\n",
       "      <td>1</td>\n",
       "      <td>479436</td>\n",
       "      <td>1.125490e+18</td>\n",
       "      <td>SenatorFischer</td>\n",
       "      <td>...</td>\n",
       "      <td>F</td>\n",
       "      <td>NE</td>\n",
       "      <td>Senate</td>\n",
       "      <td>Republican</td>\n",
       "      <td>495,961</td>\n",
       "      <td>284,494</td>\n",
       "      <td>302,081</td>\n",
       "      <td>475,064</td>\n",
       "      <td>It was great to @Skype w @StuartPublicSch’s go...</td>\n",
       "      <td>It great Skype w StuartPublicSch government cl...</td>\n",
       "    </tr>\n",
       "    <tr>\n",
       "      <th>2</th>\n",
       "      <td>0.061422</td>\n",
       "      <td>0.061611</td>\n",
       "      <td>0.061380</td>\n",
       "      <td>0.061657</td>\n",
       "      <td>0.692048</td>\n",
       "      <td>0.061883</td>\n",
       "      <td>2</td>\n",
       "      <td>866557</td>\n",
       "      <td>1.166860e+18</td>\n",
       "      <td>RepDonBeyer</td>\n",
       "      <td>...</td>\n",
       "      <td>M</td>\n",
       "      <td>VA</td>\n",
       "      <td>8</td>\n",
       "      <td>Democrat</td>\n",
       "      <td>1,769,443</td>\n",
       "      <td>1,981,473</td>\n",
       "      <td>1,971,820</td>\n",
       "      <td>1,822,522</td>\n",
       "      <td>RT @brianstelter 170 days.\\n\\n</td>\n",
       "      <td>brianstelter 170 days</td>\n",
       "    </tr>\n",
       "    <tr>\n",
       "      <th>3</th>\n",
       "      <td>0.031069</td>\n",
       "      <td>0.030915</td>\n",
       "      <td>0.031041</td>\n",
       "      <td>0.844513</td>\n",
       "      <td>0.031052</td>\n",
       "      <td>0.031410</td>\n",
       "      <td>3</td>\n",
       "      <td>168486</td>\n",
       "      <td>1.242860e+18</td>\n",
       "      <td>SenatorBennet</td>\n",
       "      <td>...</td>\n",
       "      <td>M</td>\n",
       "      <td>CO</td>\n",
       "      <td>Senate</td>\n",
       "      <td>Democrat</td>\n",
       "      <td>1,202,484</td>\n",
       "      <td>1,338,870</td>\n",
       "      <td>1,323,102</td>\n",
       "      <td>1,185,243</td>\n",
       "      <td>@SenateDems We fought hard to make sure nonpro...</td>\n",
       "      <td>SenateDems We fought hard sure nonprofits size...</td>\n",
       "    </tr>\n",
       "    <tr>\n",
       "      <th>4</th>\n",
       "      <td>0.034317</td>\n",
       "      <td>0.828145</td>\n",
       "      <td>0.034336</td>\n",
       "      <td>0.034479</td>\n",
       "      <td>0.034395</td>\n",
       "      <td>0.034328</td>\n",
       "      <td>4</td>\n",
       "      <td>507812</td>\n",
       "      <td>1.126490e+18</td>\n",
       "      <td>RepSires</td>\n",
       "      <td>...</td>\n",
       "      <td>M</td>\n",
       "      <td>NJ</td>\n",
       "      <td>8</td>\n",
       "      <td>Democrat</td>\n",
       "      <td>1,601,933</td>\n",
       "      <td>2,148,278</td>\n",
       "      <td>2,125,101</td>\n",
       "      <td>1,477,568</td>\n",
       "      <td>This illegal act shows once again there is no ...</td>\n",
       "      <td>This illegal act shows rule law Maduro Venezue...</td>\n",
       "    </tr>\n",
       "  </tbody>\n",
       "</table>\n",
       "<p>5 rows × 26 columns</p>\n",
       "</div>"
      ],
      "text/plain": [
       "          0         1         2         3         4         5  level_0  \\\n",
       "0  0.030497  0.847596  0.030489  0.030452  0.030497  0.030469        0   \n",
       "1  0.029981  0.029970  0.850272  0.029897  0.029983  0.029898        1   \n",
       "2  0.061422  0.061611  0.061380  0.061657  0.692048  0.061883        2   \n",
       "3  0.031069  0.030915  0.031041  0.844513  0.031052  0.031410        3   \n",
       "4  0.034317  0.828145  0.034336  0.034479  0.034395  0.034328        4   \n",
       "\n",
       "    index      tweet_id     screen_name  ... gender state district_number  \\\n",
       "0   11361  1.132820e+18  SenDanSullivan  ...      M    AK          Senate   \n",
       "1  479436  1.125490e+18  SenatorFischer  ...      F    NE          Senate   \n",
       "2  866557  1.166860e+18     RepDonBeyer  ...      M    VA               8   \n",
       "3  168486  1.242860e+18   SenatorBennet  ...      M    CO          Senate   \n",
       "4  507812  1.126490e+18        RepSires  ...      M    NJ               8   \n",
       "\n",
       "        party trump_2016_state_share clinton_2016_state_share  \\\n",
       "0  Republican                163,387                  116,454   \n",
       "1  Republican                495,961                  284,494   \n",
       "2    Democrat              1,769,443                1,981,473   \n",
       "3    Democrat              1,202,484                1,338,870   \n",
       "4    Democrat              1,601,933                2,148,278   \n",
       "\n",
       "  obama_2012_state_share romney_2012_state_share  \\\n",
       "0                122,640                 164,676   \n",
       "1                302,081                 475,064   \n",
       "2              1,971,820               1,822,522   \n",
       "3              1,323,102               1,185,243   \n",
       "4              2,125,101               1,477,568   \n",
       "\n",
       "                                     text_URLremoved  \\\n",
       "0  Sam &amp; the guys had to deal with a less exp...   \n",
       "1  It was great to @Skype w @StuartPublicSch’s go...   \n",
       "2                     RT @brianstelter 170 days.\\n\\n   \n",
       "3  @SenateDems We fought hard to make sure nonpro...   \n",
       "4  This illegal act shows once again there is no ...   \n",
       "\n",
       "                                              tokens  \n",
       "0  Sam guys deal experienced teammate But podium ...  \n",
       "1  It great Skype w StuartPublicSch government cl...  \n",
       "2                              brianstelter 170 days  \n",
       "3  SenateDems We fought hard sure nonprofits size...  \n",
       "4  This illegal act shows rule law Maduro Venezue...  \n",
       "\n",
       "[5 rows x 26 columns]"
      ]
     },
     "execution_count": 29,
     "metadata": {},
     "output_type": "execute_result"
    }
   ],
   "source": [
    "# merge back with original dataframe\n",
    "topic_dist_df = pd.DataFrame(topic_dist)\n",
    "df_w_topics = topic_dist_df.join(congress_tweets.reset_index())\n",
    "df_w_topics.head(5)\n"
   ]
  },
  {
   "cell_type": "markdown",
   "metadata": {},
   "source": [
    "In each row (which is each person's tweet), we can see the percentages represent the proportion of variation explained by each topic. For example for person 0, topic 1 explains more variations (0.847596), for person 1, topic 2 explain more variations. Now we can check the average weight of each topic across 'party' (each person's party membership) using *groupby*."
   ]
  },
  {
   "cell_type": "code",
   "execution_count": 30,
   "metadata": {},
   "outputs": [
    {
     "name": "stdout",
     "output_type": "stream",
     "text": [
      "party\n",
      "Independent    0.234552\n",
      "Republican     0.179524\n",
      "Democrat       0.163588\n",
      "Name: 0, dtype: float64\n",
      "party\n",
      "Democrat       0.171076\n",
      "Republican     0.162335\n",
      "Independent    0.031457\n",
      "Name: 1, dtype: float64\n",
      "party\n",
      "Independent    0.433833\n",
      "Republican     0.174912\n",
      "Democrat       0.160199\n",
      "Name: 2, dtype: float64\n",
      "party\n",
      "Independent    0.237411\n",
      "Democrat       0.181055\n",
      "Republican     0.137303\n",
      "Name: 3, dtype: float64\n",
      "party\n",
      "Republican     0.174900\n",
      "Democrat       0.170205\n",
      "Independent    0.031377\n",
      "Name: 4, dtype: float64\n",
      "party\n",
      "Republican     0.171027\n",
      "Democrat       0.153877\n",
      "Independent    0.031370\n",
      "Name: 5, dtype: float64\n"
     ]
    }
   ],
   "source": [
    "# check the average weight of each topic across 'party' \n",
    "grouped = df_w_topics.groupby('party')\n",
    "for i in range(0, 6):\n",
    "    print(grouped[i].mean().sort_values(ascending=False))"
   ]
  },
  {
   "cell_type": "markdown",
   "metadata": {},
   "source": [
    "Topic 2 seems to have fair separation between Independent or Republican/Democrat, so do topic 0 and 3. This aligns with our impression on the initial redults of topic modeling (i.e., overall these topics seem more interelated than distinguishable from each other). Let's plot topic 2 by party. "
   ]
  },
  {
   "cell_type": "code",
   "execution_count": 31,
   "metadata": {},
   "outputs": [
    {
     "data": {
      "image/png": "[encoded data removed]",
      "text/plain": [
       "<Figure size 459.25x360 with 1 Axes>"
      ]
     },
     "metadata": {
      "needs_background": "light"
     },
     "output_type": "display_data"
    }
   ],
   "source": [
    "sns.displot(df_w_topics, x=df_w_topics[2], hue = \"party\", kind = 'kde', fill = 'true')\n",
    "plt.show()"
   ]
  },
  {
   "cell_type": "code",
   "execution_count": 32,
   "metadata": {},
   "outputs": [
    {
     "name": "stdout",
     "output_type": "stream",
     "text": [
      "position\n",
      "Sen    0.202398\n",
      "Rep    0.159430\n",
      "Name: 0, dtype: float64\n",
      "position\n",
      "Rep    0.180183\n",
      "Sen    0.124911\n",
      "Name: 1, dtype: float64\n",
      "position\n",
      "Sen    0.186614\n",
      "Rep    0.160219\n",
      "Name: 2, dtype: float64\n",
      "position\n",
      "Rep    0.172696\n",
      "Sen    0.145870\n",
      "Name: 3, dtype: float64\n",
      "position\n",
      "Sen    0.191867\n",
      "Rep    0.165132\n",
      "Name: 4, dtype: float64\n",
      "position\n",
      "Rep    0.162341\n",
      "Sen    0.148340\n",
      "Name: 5, dtype: float64\n"
     ]
    }
   ],
   "source": [
    "# check the average weight of each topic across 'position' \n",
    "grouped = df_w_topics.groupby('position')\n",
    "for i in range(0, 6):\n",
    "    print(grouped[i].mean().sort_values(ascending=False))"
   ]
  },
  {
   "cell_type": "markdown",
   "metadata": {},
   "source": [
    "Topics are even less distinguishable across positions (senator or representative). See a plot for topic 4:"
   ]
  },
  {
   "cell_type": "code",
   "execution_count": 33,
   "metadata": {},
   "outputs": [
    {
     "data": {
      "image/png": "[encoded data removed]",
      "text/plain": [
       "<Figure size 414.75x360 with 1 Axes>"
      ]
     },
     "metadata": {
      "needs_background": "light"
     },
     "output_type": "display_data"
    }
   ],
   "source": [
    "sns.displot(df_w_topics, x=df_w_topics[2], hue = \"position\", kind = 'kde', fill = 'true')\n",
    "plt.show()"
   ]
  },
  {
   "cell_type": "markdown",
   "metadata": {},
   "source": [
    "**Summary of EDA**: Results from n-grams (we used 2- and 3-grams) and Latent Dirichlet Allocation (LDA) topic modeling suggest that topics surface from the tweeter text are related to people, government and politics, country/nation, COVID-19 and health care, business, community and work, etc. Overall these topics seem more interelated than distinguishable from each other. Toward our prediciton tasks (whether the person behind the tweeter text is a democrat, republican, or independent; or a senator or representative), these topics generally seems not strongly associate with what we want to predict. We need further analyses to see if tweeter text is indicative of prople's party membership and congress position. \n"
   ]
  },
  {
   "cell_type": "markdown",
   "metadata": {},
   "source": [
    "## Sentiment Analysis"
   ]
  },
  {
   "cell_type": "markdown",
   "metadata": {},
   "source": [
    "Next, let's analyze the sentiments contained within the tweets. You may use TextBlob or another library for these tasks. Do the following:\n",
    "\n",
    "* Choose two legislators, one who you think will be more liberal and one who you think will be more conservative, and analyze their sentiment and/or subjectivity scores per tweet. For instance, you might do two scatterplots that plot each legislator's sentiment against their subjectivity, or two density plots for their sentiments. Do the scores match what you thought?\n",
    "* Plot two more visualizations like the ones you chose in the first part, but do them to compare (1) Democrats v. Republicans and (2) Senators v. Representatives \n",
    "\n",
    "`TextBlob` has already been imported in the top cell."
   ]
  },
  {
   "cell_type": "code",
   "execution_count": 34,
   "metadata": {},
   "outputs": [
    {
     "data": {
      "image/png": "[encoded data removed]",
      "text/plain": [
       "<Figure size 360x360 with 1 Axes>"
      ]
     },
     "metadata": {
      "needs_background": "light"
     },
     "output_type": "display_data"
    }
   ],
   "source": [
    "# examine the overall sentiment distribution in our dataset\n",
    "congress_tweets['polarity'] = congress_tweets['tokens'].map(lambda text: TextBlob(text).sentiment.polarity)\n",
    "sns.displot(congress_tweets, x=\"polarity\")\n",
    "plt.show()"
   ]
  },
  {
   "cell_type": "markdown",
   "metadata": {},
   "source": [
    "We begin by looking at the overall distribution of legislators' sentiments in their tweets (within our sample). Specifically, we look at polarity, which analyzes the negative vs. positive sentiment of a tweet using a range of -1 to 1. We see that the vast majority of tweets are relatively neutral, and that a slight majority are classified as positive. "
   ]
  },
  {
   "cell_type": "code",
   "execution_count": 35,
   "metadata": {},
   "outputs": [
    {
     "data": {
      "text/plain": [
       "screen_name\n",
       "RepAndyBiggsAZ    16\n",
       "RepDonBeyer       16\n",
       "RepJayapal        13\n",
       "RepMaloney        11\n",
       "JohnCornyn        11\n",
       "                  ..\n",
       "RepBuddyCarter     1\n",
       "RepSherrill        1\n",
       "RepSeanMaloney     1\n",
       "RepScottPeters     1\n",
       "RepJackBergman     1\n",
       "Name: state, Length: 346, dtype: int64"
      ]
     },
     "execution_count": 35,
     "metadata": {},
     "output_type": "execute_result"
    }
   ],
   "source": [
    "# Identify Legislators with the Most Tweets in our Sample\n",
    "congress_tweets.groupby('screen_name').state.count().sort_values(ascending=False)"
   ]
  },
  {
   "cell_type": "markdown",
   "metadata": {},
   "source": [
    "To decide which legislators to pick for this exercise, we first look at which senators in our sample have the highest number of tweets. We select the most frequently occuring Democrat (Representative Don Beyer) and Republican (Representative Andy Biggs) legislator in our sample."
   ]
  },
  {
   "cell_type": "code",
   "execution_count": 36,
   "metadata": {},
   "outputs": [
    {
     "data": {
      "image/png": "[encoded data removed]",
      "text/plain": [
       "<Figure size 841.75x360 with 2 Axes>"
      ]
     },
     "metadata": {
      "needs_background": "light"
     },
     "output_type": "display_data"
    }
   ],
   "source": [
    "# Plot polarity distributions for selected legilators\n",
    "beyer_biggs_tweets = congress_tweets[congress_tweets['screen_name'].isin(['RepDonBeyer','RepAndyBiggsAZ'])]\n",
    "\n",
    "sns.displot(beyer_biggs_tweets, x=\"polarity\", hue = 'screen_name', col = 'screen_name')\n",
    "plt.show()"
   ]
  },
  {
   "cell_type": "markdown",
   "metadata": {},
   "source": [
    "From this side-by-side comparison, we see that both representatives have mostly neutral tweets. This is congruent with the overall pattern we saw above. However, we do note that Representative Andy Biggs has one very negative tweet (<-0.06), while Representative Beyer does not."
   ]
  },
  {
   "cell_type": "code",
   "execution_count": 37,
   "metadata": {},
   "outputs": [
    {
     "data": {
      "text/plain": [
       "party\n",
       "Democrat       660\n",
       "Republican     336\n",
       "Independent      4\n",
       "Name: state, dtype: int64"
      ]
     },
     "execution_count": 37,
     "metadata": {},
     "output_type": "execute_result"
    },
    {
     "data": {
      "image/png": "[encoded data removed]",
      "text/plain": [
       "<Figure size 459.25x360 with 1 Axes>"
      ]
     },
     "metadata": {
      "needs_background": "light"
     },
     "output_type": "display_data"
    }
   ],
   "source": [
    "# Plot polarity distribution for Democrats, Republicans, and Independents\n",
    "sns.displot(congress_tweets, x=\"polarity\", hue=\"party\", kind='kde')\n",
    "\n",
    "# Display number of tweets by party\n",
    "congress_tweets.groupby('party').state.count().sort_values(ascending=False)"
   ]
  },
  {
   "cell_type": "code",
   "execution_count": 38,
   "metadata": {},
   "outputs": [
    {
     "data": {
      "text/plain": [
       "<seaborn.axisgrid.FacetGrid at 0x7fe3fd206d30>"
      ]
     },
     "execution_count": 38,
     "metadata": {},
     "output_type": "execute_result"
    },
    {
     "data": {
      "image/png": "[encoded data removed]",
      "text/plain": [
       "<Figure size 459.25x360 with 1 Axes>"
      ]
     },
     "metadata": {
      "needs_background": "light"
     },
     "output_type": "display_data"
    }
   ],
   "source": [
    "# Plot subjectivity distribution for Democrats, Republicans, and Independents\n",
    "congress_tweets['subjectivity'] = congress_tweets['tokens'].map(lambda text: TextBlob(text).sentiment.subjectivity)\n",
    "sns.displot(congress_tweets, x=\"subjectivity\", hue=\"party\", kind='kde')"
   ]
  },
  {
   "cell_type": "markdown",
   "metadata": {},
   "source": [
    "Here, we overlay the distribution of both polarity and subjectivity for all 3 political parties in our dataset, though we focus on the comparison between Republicans and Democrats. The addition of subjectivity allows us to quantify the amount of personal opinion vs. factural information contained in legislators tweets. While Democrats (n=660) have higher tweet frequency than Republicans (n=336) in our sample, we see extremely similar patterns across both groups. Democrats and Republicans appear to tweet with the same frequency of positivity/negativity, and both parties tend to tweet more subjective information than objective, fact-based information. The bimodal nature of the subjectivity plot is interesting, and may be something to explore in future analyses!"
   ]
  },
  {
   "cell_type": "code",
   "execution_count": 39,
   "metadata": {},
   "outputs": [
    {
     "data": {
      "text/plain": [
       "<seaborn.axisgrid.FacetGrid at 0x7fe42d02aac0>"
      ]
     },
     "execution_count": 39,
     "metadata": {},
     "output_type": "execute_result"
    },
    {
     "data": {
      "image/png": "[encoded data removed]",
      "text/plain": [
       "<Figure size 414.75x360 with 1 Axes>"
      ]
     },
     "metadata": {
      "needs_background": "light"
     },
     "output_type": "display_data"
    }
   ],
   "source": [
    "# Plot polarity distribution for Senators vs. Representatives\n",
    "sns.displot(congress_tweets, x=\"polarity\", hue=\"position\", kind=\"kde\")"
   ]
  },
  {
   "cell_type": "code",
   "execution_count": 40,
   "metadata": {
    "scrolled": true
   },
   "outputs": [
    {
     "data": {
      "text/plain": [
       "<seaborn.axisgrid.FacetGrid at 0x7fe3eccab550>"
      ]
     },
     "execution_count": 40,
     "metadata": {},
     "output_type": "execute_result"
    },
    {
     "data": {
      "image/png": "[encoded data removed]",
      "text/plain": [
       "<Figure size 414.75x360 with 1 Axes>"
      ]
     },
     "metadata": {
      "needs_background": "light"
     },
     "output_type": "display_data"
    }
   ],
   "source": [
    "# Plot subjectivity distribution for Senators vs. Representatives\n",
    "sns.displot(congress_tweets, x=\"subjectivity\", hue=\"position\", kind=\"kde\")"
   ]
  },
  {
   "cell_type": "markdown",
   "metadata": {},
   "source": [
    "Here, we overlay the distribution of both polarity and subjectivity for legislators in the house and the senate. We see more tweets from representatives than senators, which is logical because the United States congress consists of 100 total senators and 435 representatives. Overall, legislators in the house and the senate display similar patterns of posting positive/negative information and factual/subjective information. Some differences between these groups were anticipated given the difference in term lengths for members of the house (2 years) and senate (6 years). From our sample, it does not appear that differences in re-election frequency are associated with tweet sentiment."
   ]
  },
  {
   "cell_type": "markdown",
   "metadata": {},
   "source": [
    "## Featurization"
   ]
  },
  {
   "cell_type": "markdown",
   "metadata": {},
   "source": [
    "Before going to classification, explore different featurization techniques. Create three dataframes or arrays to represent your text features, specifically:\n",
    "\n",
    "* Features engineered from your previous analysis. For example, word counts, sentiment scores, topic model etc.\n",
    "* A term frequency-inverse document frequency matrix. \n",
    "* An embedding-based featurization (like a document averaged word2vec)\n",
    "\n",
    "In the next section, you will experiment with each of these featurization techniques to see which one produces the best classifications."
   ]
  },
  {
   "cell_type": "markdown",
   "metadata": {},
   "source": [
    "### Engineered Text Features"
   ]
  },
  {
   "cell_type": "code",
   "execution_count": 41,
   "metadata": {},
   "outputs": [],
   "source": [
    "# Engineered Features\n",
    "engineered_features = congress_tweets[['polarity', 'subjectivity']].reset_index(drop = True)\n",
    "\n",
    "# Engineered Features with Topics\n",
    "engineered_features_with_topics = topic_dist_df.join(engineered_features.reset_index(drop = True))"
   ]
  },
  {
   "cell_type": "code",
   "execution_count": 42,
   "metadata": {},
   "outputs": [
    {
     "data": {
      "text/html": [
       "<div>\n",
       "<style scoped>\n",
       "    .dataframe tbody tr th:only-of-type {\n",
       "        vertical-align: middle;\n",
       "    }\n",
       "\n",
       "    .dataframe tbody tr th {\n",
       "        vertical-align: top;\n",
       "    }\n",
       "\n",
       "    .dataframe thead th {\n",
       "        text-align: right;\n",
       "    }\n",
       "</style>\n",
       "<table border=\"1\" class=\"dataframe\">\n",
       "  <thead>\n",
       "    <tr style=\"text-align: right;\">\n",
       "      <th></th>\n",
       "      <th>polarity</th>\n",
       "      <th>subjectivity</th>\n",
       "    </tr>\n",
       "  </thead>\n",
       "  <tbody>\n",
       "    <tr>\n",
       "      <th>0</th>\n",
       "      <td>0.400000</td>\n",
       "      <td>0.533333</td>\n",
       "    </tr>\n",
       "    <tr>\n",
       "      <th>1</th>\n",
       "      <td>0.733333</td>\n",
       "      <td>0.683333</td>\n",
       "    </tr>\n",
       "    <tr>\n",
       "      <th>2</th>\n",
       "      <td>0.000000</td>\n",
       "      <td>0.000000</td>\n",
       "    </tr>\n",
       "    <tr>\n",
       "      <th>3</th>\n",
       "      <td>0.085417</td>\n",
       "      <td>0.474306</td>\n",
       "    </tr>\n",
       "    <tr>\n",
       "      <th>4</th>\n",
       "      <td>-0.500000</td>\n",
       "      <td>0.500000</td>\n",
       "    </tr>\n",
       "    <tr>\n",
       "      <th>...</th>\n",
       "      <td>...</td>\n",
       "      <td>...</td>\n",
       "    </tr>\n",
       "    <tr>\n",
       "      <th>995</th>\n",
       "      <td>0.533333</td>\n",
       "      <td>0.850000</td>\n",
       "    </tr>\n",
       "    <tr>\n",
       "      <th>996</th>\n",
       "      <td>-0.025000</td>\n",
       "      <td>0.200000</td>\n",
       "    </tr>\n",
       "    <tr>\n",
       "      <th>997</th>\n",
       "      <td>-0.050000</td>\n",
       "      <td>0.112500</td>\n",
       "    </tr>\n",
       "    <tr>\n",
       "      <th>998</th>\n",
       "      <td>-0.006370</td>\n",
       "      <td>0.489765</td>\n",
       "    </tr>\n",
       "    <tr>\n",
       "      <th>999</th>\n",
       "      <td>0.068182</td>\n",
       "      <td>0.250000</td>\n",
       "    </tr>\n",
       "  </tbody>\n",
       "</table>\n",
       "<p>1000 rows × 2 columns</p>\n",
       "</div>"
      ],
      "text/plain": [
       "     polarity  subjectivity\n",
       "0    0.400000      0.533333\n",
       "1    0.733333      0.683333\n",
       "2    0.000000      0.000000\n",
       "3    0.085417      0.474306\n",
       "4   -0.500000      0.500000\n",
       "..        ...           ...\n",
       "995  0.533333      0.850000\n",
       "996 -0.025000      0.200000\n",
       "997 -0.050000      0.112500\n",
       "998 -0.006370      0.489765\n",
       "999  0.068182      0.250000\n",
       "\n",
       "[1000 rows x 2 columns]"
      ]
     },
     "execution_count": 42,
     "metadata": {},
     "output_type": "execute_result"
    }
   ],
   "source": [
    "engineered_features"
   ]
  },
  {
   "cell_type": "code",
   "execution_count": 43,
   "metadata": {},
   "outputs": [
    {
     "data": {
      "text/html": [
       "<div>\n",
       "<style scoped>\n",
       "    .dataframe tbody tr th:only-of-type {\n",
       "        vertical-align: middle;\n",
       "    }\n",
       "\n",
       "    .dataframe tbody tr th {\n",
       "        vertical-align: top;\n",
       "    }\n",
       "\n",
       "    .dataframe thead th {\n",
       "        text-align: right;\n",
       "    }\n",
       "</style>\n",
       "<table border=\"1\" class=\"dataframe\">\n",
       "  <thead>\n",
       "    <tr style=\"text-align: right;\">\n",
       "      <th></th>\n",
       "      <th>0</th>\n",
       "      <th>1</th>\n",
       "      <th>2</th>\n",
       "      <th>3</th>\n",
       "      <th>4</th>\n",
       "      <th>5</th>\n",
       "      <th>polarity</th>\n",
       "      <th>subjectivity</th>\n",
       "    </tr>\n",
       "  </thead>\n",
       "  <tbody>\n",
       "    <tr>\n",
       "      <th>0</th>\n",
       "      <td>0.030497</td>\n",
       "      <td>0.847596</td>\n",
       "      <td>0.030489</td>\n",
       "      <td>0.030452</td>\n",
       "      <td>0.030497</td>\n",
       "      <td>0.030469</td>\n",
       "      <td>0.400000</td>\n",
       "      <td>0.533333</td>\n",
       "    </tr>\n",
       "    <tr>\n",
       "      <th>1</th>\n",
       "      <td>0.029981</td>\n",
       "      <td>0.029970</td>\n",
       "      <td>0.850272</td>\n",
       "      <td>0.029897</td>\n",
       "      <td>0.029983</td>\n",
       "      <td>0.029898</td>\n",
       "      <td>0.733333</td>\n",
       "      <td>0.683333</td>\n",
       "    </tr>\n",
       "    <tr>\n",
       "      <th>2</th>\n",
       "      <td>0.061422</td>\n",
       "      <td>0.061611</td>\n",
       "      <td>0.061380</td>\n",
       "      <td>0.061657</td>\n",
       "      <td>0.692048</td>\n",
       "      <td>0.061883</td>\n",
       "      <td>0.000000</td>\n",
       "      <td>0.000000</td>\n",
       "    </tr>\n",
       "    <tr>\n",
       "      <th>3</th>\n",
       "      <td>0.031069</td>\n",
       "      <td>0.030915</td>\n",
       "      <td>0.031041</td>\n",
       "      <td>0.844513</td>\n",
       "      <td>0.031052</td>\n",
       "      <td>0.031410</td>\n",
       "      <td>0.085417</td>\n",
       "      <td>0.474306</td>\n",
       "    </tr>\n",
       "    <tr>\n",
       "      <th>4</th>\n",
       "      <td>0.034317</td>\n",
       "      <td>0.828145</td>\n",
       "      <td>0.034336</td>\n",
       "      <td>0.034479</td>\n",
       "      <td>0.034395</td>\n",
       "      <td>0.034328</td>\n",
       "      <td>-0.500000</td>\n",
       "      <td>0.500000</td>\n",
       "    </tr>\n",
       "    <tr>\n",
       "      <th>...</th>\n",
       "      <td>...</td>\n",
       "      <td>...</td>\n",
       "      <td>...</td>\n",
       "      <td>...</td>\n",
       "      <td>...</td>\n",
       "      <td>...</td>\n",
       "      <td>...</td>\n",
       "      <td>...</td>\n",
       "    </tr>\n",
       "    <tr>\n",
       "      <th>995</th>\n",
       "      <td>0.033631</td>\n",
       "      <td>0.831513</td>\n",
       "      <td>0.033648</td>\n",
       "      <td>0.033655</td>\n",
       "      <td>0.033684</td>\n",
       "      <td>0.033869</td>\n",
       "      <td>0.533333</td>\n",
       "      <td>0.850000</td>\n",
       "    </tr>\n",
       "    <tr>\n",
       "      <th>996</th>\n",
       "      <td>0.030968</td>\n",
       "      <td>0.844765</td>\n",
       "      <td>0.030947</td>\n",
       "      <td>0.031029</td>\n",
       "      <td>0.031317</td>\n",
       "      <td>0.030974</td>\n",
       "      <td>-0.025000</td>\n",
       "      <td>0.200000</td>\n",
       "    </tr>\n",
       "    <tr>\n",
       "      <th>997</th>\n",
       "      <td>0.025211</td>\n",
       "      <td>0.025296</td>\n",
       "      <td>0.025308</td>\n",
       "      <td>0.025289</td>\n",
       "      <td>0.025773</td>\n",
       "      <td>0.873123</td>\n",
       "      <td>-0.050000</td>\n",
       "      <td>0.112500</td>\n",
       "    </tr>\n",
       "    <tr>\n",
       "      <th>998</th>\n",
       "      <td>0.022848</td>\n",
       "      <td>0.022831</td>\n",
       "      <td>0.022896</td>\n",
       "      <td>0.022859</td>\n",
       "      <td>0.885838</td>\n",
       "      <td>0.022729</td>\n",
       "      <td>-0.006370</td>\n",
       "      <td>0.489765</td>\n",
       "    </tr>\n",
       "    <tr>\n",
       "      <th>999</th>\n",
       "      <td>0.033155</td>\n",
       "      <td>0.833686</td>\n",
       "      <td>0.033236</td>\n",
       "      <td>0.033172</td>\n",
       "      <td>0.033429</td>\n",
       "      <td>0.033322</td>\n",
       "      <td>0.068182</td>\n",
       "      <td>0.250000</td>\n",
       "    </tr>\n",
       "  </tbody>\n",
       "</table>\n",
       "<p>1000 rows × 8 columns</p>\n",
       "</div>"
      ],
      "text/plain": [
       "            0         1         2         3         4         5  polarity  \\\n",
       "0    0.030497  0.847596  0.030489  0.030452  0.030497  0.030469  0.400000   \n",
       "1    0.029981  0.029970  0.850272  0.029897  0.029983  0.029898  0.733333   \n",
       "2    0.061422  0.061611  0.061380  0.061657  0.692048  0.061883  0.000000   \n",
       "3    0.031069  0.030915  0.031041  0.844513  0.031052  0.031410  0.085417   \n",
       "4    0.034317  0.828145  0.034336  0.034479  0.034395  0.034328 -0.500000   \n",
       "..        ...       ...       ...       ...       ...       ...       ...   \n",
       "995  0.033631  0.831513  0.033648  0.033655  0.033684  0.033869  0.533333   \n",
       "996  0.030968  0.844765  0.030947  0.031029  0.031317  0.030974 -0.025000   \n",
       "997  0.025211  0.025296  0.025308  0.025289  0.025773  0.873123 -0.050000   \n",
       "998  0.022848  0.022831  0.022896  0.022859  0.885838  0.022729 -0.006370   \n",
       "999  0.033155  0.833686  0.033236  0.033172  0.033429  0.033322  0.068182   \n",
       "\n",
       "     subjectivity  \n",
       "0        0.533333  \n",
       "1        0.683333  \n",
       "2        0.000000  \n",
       "3        0.474306  \n",
       "4        0.500000  \n",
       "..            ...  \n",
       "995      0.850000  \n",
       "996      0.200000  \n",
       "997      0.112500  \n",
       "998      0.489765  \n",
       "999      0.250000  \n",
       "\n",
       "[1000 rows x 8 columns]"
      ]
     },
     "execution_count": 43,
     "metadata": {},
     "output_type": "execute_result"
    }
   ],
   "source": [
    "engineered_features_with_topics"
   ]
  },
  {
   "cell_type": "markdown",
   "metadata": {},
   "source": [
    "We use polarity and subjectivity to engineer our text features. As we learned in lab, we can use either engineered features alone, or engineered features with topics identified from our prior LDA anlaysis."
   ]
  },
  {
   "cell_type": "markdown",
   "metadata": {},
   "source": [
    "### Bag-of-words or Tf-idf"
   ]
  },
  {
   "cell_type": "code",
   "execution_count": 44,
   "metadata": {},
   "outputs": [
    {
     "name": "stderr",
     "output_type": "stream",
     "text": [
      "/Users/evalencialopez/opt/anaconda3/lib/python3.8/site-packages/sklearn/utils/deprecation.py:87: FutureWarning: Function get_feature_names is deprecated; get_feature_names is deprecated in 1.0 and will be removed in 1.2. Please use get_feature_names_out instead.\n",
      "  warnings.warn(msg, category=FutureWarning)\n"
     ]
    }
   ],
   "source": [
    "# Frequency Based featurization\n",
    "tfidf_df = pd.DataFrame(tfidf_matrix.todense(), columns = tf.get_feature_names())"
   ]
  },
  {
   "cell_type": "code",
   "execution_count": 45,
   "metadata": {},
   "outputs": [
    {
     "data": {
      "text/html": [
       "<div>\n",
       "<style scoped>\n",
       "    .dataframe tbody tr th:only-of-type {\n",
       "        vertical-align: middle;\n",
       "    }\n",
       "\n",
       "    .dataframe tbody tr th {\n",
       "        vertical-align: top;\n",
       "    }\n",
       "\n",
       "    .dataframe thead th {\n",
       "        text-align: right;\n",
       "    }\n",
       "</style>\n",
       "<table border=\"1\" class=\"dataframe\">\n",
       "  <thead>\n",
       "    <tr style=\"text-align: right;\">\n",
       "      <th></th>\n",
       "      <th>\\n\\n\\n\\n</th>\n",
       "      <th>\\n\\n\\n</th>\n",
       "      <th>\\n\\n</th>\n",
       "      <th>\\n\\n</th>\n",
       "      <th>\\n</th>\n",
       "      <th>\\n \\n</th>\n",
       "      <th>\\n \\n</th>\n",
       "      <th>\\n</th>\n",
       "      <th>\\n</th>\n",
       "      <th>\\n</th>\n",
       "      <th>...</th>\n",
       "      <th>🙌</th>\n",
       "      <th>🙏</th>\n",
       "      <th>🚌</th>\n",
       "      <th>🚗</th>\n",
       "      <th>🚨</th>\n",
       "      <th>🚫</th>\n",
       "      <th>🛒</th>\n",
       "      <th>🤯</th>\n",
       "      <th>🥫</th>\n",
       "      <th>🧼</th>\n",
       "    </tr>\n",
       "  </thead>\n",
       "  <tbody>\n",
       "    <tr>\n",
       "      <th>0</th>\n",
       "      <td>0.0</td>\n",
       "      <td>0.0</td>\n",
       "      <td>0.0</td>\n",
       "      <td>0.0</td>\n",
       "      <td>0.0</td>\n",
       "      <td>0.0</td>\n",
       "      <td>0.0</td>\n",
       "      <td>0.0</td>\n",
       "      <td>0.0</td>\n",
       "      <td>0.0</td>\n",
       "      <td>...</td>\n",
       "      <td>0.0</td>\n",
       "      <td>0.0</td>\n",
       "      <td>0.0</td>\n",
       "      <td>0.0</td>\n",
       "      <td>0.0</td>\n",
       "      <td>0.0</td>\n",
       "      <td>0.0</td>\n",
       "      <td>0.0</td>\n",
       "      <td>0.0</td>\n",
       "      <td>0.0</td>\n",
       "    </tr>\n",
       "    <tr>\n",
       "      <th>1</th>\n",
       "      <td>0.0</td>\n",
       "      <td>0.0</td>\n",
       "      <td>0.0</td>\n",
       "      <td>0.0</td>\n",
       "      <td>0.0</td>\n",
       "      <td>0.0</td>\n",
       "      <td>0.0</td>\n",
       "      <td>0.0</td>\n",
       "      <td>0.0</td>\n",
       "      <td>0.0</td>\n",
       "      <td>...</td>\n",
       "      <td>0.0</td>\n",
       "      <td>0.0</td>\n",
       "      <td>0.0</td>\n",
       "      <td>0.0</td>\n",
       "      <td>0.0</td>\n",
       "      <td>0.0</td>\n",
       "      <td>0.0</td>\n",
       "      <td>0.0</td>\n",
       "      <td>0.0</td>\n",
       "      <td>0.0</td>\n",
       "    </tr>\n",
       "    <tr>\n",
       "      <th>2</th>\n",
       "      <td>0.0</td>\n",
       "      <td>0.0</td>\n",
       "      <td>0.0</td>\n",
       "      <td>0.0</td>\n",
       "      <td>0.0</td>\n",
       "      <td>0.0</td>\n",
       "      <td>0.0</td>\n",
       "      <td>0.0</td>\n",
       "      <td>0.0</td>\n",
       "      <td>0.0</td>\n",
       "      <td>...</td>\n",
       "      <td>0.0</td>\n",
       "      <td>0.0</td>\n",
       "      <td>0.0</td>\n",
       "      <td>0.0</td>\n",
       "      <td>0.0</td>\n",
       "      <td>0.0</td>\n",
       "      <td>0.0</td>\n",
       "      <td>0.0</td>\n",
       "      <td>0.0</td>\n",
       "      <td>0.0</td>\n",
       "    </tr>\n",
       "    <tr>\n",
       "      <th>3</th>\n",
       "      <td>0.0</td>\n",
       "      <td>0.0</td>\n",
       "      <td>0.0</td>\n",
       "      <td>0.0</td>\n",
       "      <td>0.0</td>\n",
       "      <td>0.0</td>\n",
       "      <td>0.0</td>\n",
       "      <td>0.0</td>\n",
       "      <td>0.0</td>\n",
       "      <td>0.0</td>\n",
       "      <td>...</td>\n",
       "      <td>0.0</td>\n",
       "      <td>0.0</td>\n",
       "      <td>0.0</td>\n",
       "      <td>0.0</td>\n",
       "      <td>0.0</td>\n",
       "      <td>0.0</td>\n",
       "      <td>0.0</td>\n",
       "      <td>0.0</td>\n",
       "      <td>0.0</td>\n",
       "      <td>0.0</td>\n",
       "    </tr>\n",
       "    <tr>\n",
       "      <th>4</th>\n",
       "      <td>0.0</td>\n",
       "      <td>0.0</td>\n",
       "      <td>0.0</td>\n",
       "      <td>0.0</td>\n",
       "      <td>0.0</td>\n",
       "      <td>0.0</td>\n",
       "      <td>0.0</td>\n",
       "      <td>0.0</td>\n",
       "      <td>0.0</td>\n",
       "      <td>0.0</td>\n",
       "      <td>...</td>\n",
       "      <td>0.0</td>\n",
       "      <td>0.0</td>\n",
       "      <td>0.0</td>\n",
       "      <td>0.0</td>\n",
       "      <td>0.0</td>\n",
       "      <td>0.0</td>\n",
       "      <td>0.0</td>\n",
       "      <td>0.0</td>\n",
       "      <td>0.0</td>\n",
       "      <td>0.0</td>\n",
       "    </tr>\n",
       "    <tr>\n",
       "      <th>...</th>\n",
       "      <td>...</td>\n",
       "      <td>...</td>\n",
       "      <td>...</td>\n",
       "      <td>...</td>\n",
       "      <td>...</td>\n",
       "      <td>...</td>\n",
       "      <td>...</td>\n",
       "      <td>...</td>\n",
       "      <td>...</td>\n",
       "      <td>...</td>\n",
       "      <td>...</td>\n",
       "      <td>...</td>\n",
       "      <td>...</td>\n",
       "      <td>...</td>\n",
       "      <td>...</td>\n",
       "      <td>...</td>\n",
       "      <td>...</td>\n",
       "      <td>...</td>\n",
       "      <td>...</td>\n",
       "      <td>...</td>\n",
       "      <td>...</td>\n",
       "    </tr>\n",
       "    <tr>\n",
       "      <th>995</th>\n",
       "      <td>0.0</td>\n",
       "      <td>0.0</td>\n",
       "      <td>0.0</td>\n",
       "      <td>0.0</td>\n",
       "      <td>0.0</td>\n",
       "      <td>0.0</td>\n",
       "      <td>0.0</td>\n",
       "      <td>0.0</td>\n",
       "      <td>0.0</td>\n",
       "      <td>0.0</td>\n",
       "      <td>...</td>\n",
       "      <td>0.0</td>\n",
       "      <td>0.0</td>\n",
       "      <td>0.0</td>\n",
       "      <td>0.0</td>\n",
       "      <td>0.0</td>\n",
       "      <td>0.0</td>\n",
       "      <td>0.0</td>\n",
       "      <td>0.0</td>\n",
       "      <td>0.0</td>\n",
       "      <td>0.0</td>\n",
       "    </tr>\n",
       "    <tr>\n",
       "      <th>996</th>\n",
       "      <td>0.0</td>\n",
       "      <td>0.0</td>\n",
       "      <td>0.0</td>\n",
       "      <td>0.0</td>\n",
       "      <td>0.0</td>\n",
       "      <td>0.0</td>\n",
       "      <td>0.0</td>\n",
       "      <td>0.0</td>\n",
       "      <td>0.0</td>\n",
       "      <td>0.0</td>\n",
       "      <td>...</td>\n",
       "      <td>0.0</td>\n",
       "      <td>0.0</td>\n",
       "      <td>0.0</td>\n",
       "      <td>0.0</td>\n",
       "      <td>0.0</td>\n",
       "      <td>0.0</td>\n",
       "      <td>0.0</td>\n",
       "      <td>0.0</td>\n",
       "      <td>0.0</td>\n",
       "      <td>0.0</td>\n",
       "    </tr>\n",
       "    <tr>\n",
       "      <th>997</th>\n",
       "      <td>0.0</td>\n",
       "      <td>0.0</td>\n",
       "      <td>0.0</td>\n",
       "      <td>0.0</td>\n",
       "      <td>0.0</td>\n",
       "      <td>0.0</td>\n",
       "      <td>0.0</td>\n",
       "      <td>0.0</td>\n",
       "      <td>0.0</td>\n",
       "      <td>0.0</td>\n",
       "      <td>...</td>\n",
       "      <td>0.0</td>\n",
       "      <td>0.0</td>\n",
       "      <td>0.0</td>\n",
       "      <td>0.0</td>\n",
       "      <td>0.0</td>\n",
       "      <td>0.0</td>\n",
       "      <td>0.0</td>\n",
       "      <td>0.0</td>\n",
       "      <td>0.0</td>\n",
       "      <td>0.0</td>\n",
       "    </tr>\n",
       "    <tr>\n",
       "      <th>998</th>\n",
       "      <td>0.0</td>\n",
       "      <td>0.0</td>\n",
       "      <td>0.0</td>\n",
       "      <td>0.0</td>\n",
       "      <td>0.0</td>\n",
       "      <td>0.0</td>\n",
       "      <td>0.0</td>\n",
       "      <td>0.0</td>\n",
       "      <td>0.0</td>\n",
       "      <td>0.0</td>\n",
       "      <td>...</td>\n",
       "      <td>0.0</td>\n",
       "      <td>0.0</td>\n",
       "      <td>0.0</td>\n",
       "      <td>0.0</td>\n",
       "      <td>0.0</td>\n",
       "      <td>0.0</td>\n",
       "      <td>0.0</td>\n",
       "      <td>0.0</td>\n",
       "      <td>0.0</td>\n",
       "      <td>0.0</td>\n",
       "    </tr>\n",
       "    <tr>\n",
       "      <th>999</th>\n",
       "      <td>0.0</td>\n",
       "      <td>0.0</td>\n",
       "      <td>0.0</td>\n",
       "      <td>0.0</td>\n",
       "      <td>0.0</td>\n",
       "      <td>0.0</td>\n",
       "      <td>0.0</td>\n",
       "      <td>0.0</td>\n",
       "      <td>0.0</td>\n",
       "      <td>0.0</td>\n",
       "      <td>...</td>\n",
       "      <td>0.0</td>\n",
       "      <td>0.0</td>\n",
       "      <td>0.0</td>\n",
       "      <td>0.0</td>\n",
       "      <td>0.0</td>\n",
       "      <td>0.0</td>\n",
       "      <td>0.0</td>\n",
       "      <td>0.0</td>\n",
       "      <td>0.0</td>\n",
       "      <td>0.0</td>\n",
       "    </tr>\n",
       "  </tbody>\n",
       "</table>\n",
       "<p>1000 rows × 7087 columns</p>\n",
       "</div>"
      ],
      "text/plain": [
       "     \\n\\n\\n\\n   \\n\\n\\n   \\n\\n   \\n\\n    \\n   \\n \\n  \\n \\n   \\n    \\n     \\\n",
       "0          0.0      0.0    0.0     0.0  0.0    0.0     0.0   0.0    0.0   \n",
       "1          0.0      0.0    0.0     0.0  0.0    0.0     0.0   0.0    0.0   \n",
       "2          0.0      0.0    0.0     0.0  0.0    0.0     0.0   0.0    0.0   \n",
       "3          0.0      0.0    0.0     0.0  0.0    0.0     0.0   0.0    0.0   \n",
       "4          0.0      0.0    0.0     0.0  0.0    0.0     0.0   0.0    0.0   \n",
       "..         ...      ...    ...     ...  ...    ...     ...   ...    ...   \n",
       "995        0.0      0.0    0.0     0.0  0.0    0.0     0.0   0.0    0.0   \n",
       "996        0.0      0.0    0.0     0.0  0.0    0.0     0.0   0.0    0.0   \n",
       "997        0.0      0.0    0.0     0.0  0.0    0.0     0.0   0.0    0.0   \n",
       "998        0.0      0.0    0.0     0.0  0.0    0.0     0.0   0.0    0.0   \n",
       "999        0.0      0.0    0.0     0.0  0.0    0.0     0.0   0.0    0.0   \n",
       "\n",
       "     \\n      ...    🙌    🙏    🚌    🚗    🚨    🚫    🛒    🤯    🥫    🧼  \n",
       "0       0.0  ...  0.0  0.0  0.0  0.0  0.0  0.0  0.0  0.0  0.0  0.0  \n",
       "1       0.0  ...  0.0  0.0  0.0  0.0  0.0  0.0  0.0  0.0  0.0  0.0  \n",
       "2       0.0  ...  0.0  0.0  0.0  0.0  0.0  0.0  0.0  0.0  0.0  0.0  \n",
       "3       0.0  ...  0.0  0.0  0.0  0.0  0.0  0.0  0.0  0.0  0.0  0.0  \n",
       "4       0.0  ...  0.0  0.0  0.0  0.0  0.0  0.0  0.0  0.0  0.0  0.0  \n",
       "..      ...  ...  ...  ...  ...  ...  ...  ...  ...  ...  ...  ...  \n",
       "995     0.0  ...  0.0  0.0  0.0  0.0  0.0  0.0  0.0  0.0  0.0  0.0  \n",
       "996     0.0  ...  0.0  0.0  0.0  0.0  0.0  0.0  0.0  0.0  0.0  0.0  \n",
       "997     0.0  ...  0.0  0.0  0.0  0.0  0.0  0.0  0.0  0.0  0.0  0.0  \n",
       "998     0.0  ...  0.0  0.0  0.0  0.0  0.0  0.0  0.0  0.0  0.0  0.0  \n",
       "999     0.0  ...  0.0  0.0  0.0  0.0  0.0  0.0  0.0  0.0  0.0  0.0  \n",
       "\n",
       "[1000 rows x 7087 columns]"
      ]
     },
     "execution_count": 45,
     "metadata": {},
     "output_type": "execute_result"
    }
   ],
   "source": [
    "tfidf_df"
   ]
  },
  {
   "cell_type": "markdown",
   "metadata": {},
   "source": [
    "### Word Embedding"
   ]
  },
  {
   "cell_type": "code",
   "execution_count": 46,
   "metadata": {},
   "outputs": [],
   "source": [
    "# Load Word2Vec model from Google; OPTIONAL depending on your computational resources (the file is ~1 GB)\n",
    "# Also note that this file path assumes that the word vectors are underneath 'data'; you may wish to point to the CSS course repo and change the path\n",
    "# or move the vector file to the project repo \n",
    "\n",
    "model = gensim.models.KeyedVectors.load_word2vec_format('GoogleNews-vectors-negative300.bin', binary = True) "
   ]
  },
  {
   "cell_type": "code",
   "execution_count": 47,
   "metadata": {},
   "outputs": [],
   "source": [
    "##We obtain the tokens one more time. \n",
    "congress_tweets['tokens'] = congress_tweets['text_URLremoved'].map(lambda x: rem_punc_stop(x))"
   ]
  },
  {
   "cell_type": "code",
   "execution_count": 48,
   "metadata": {},
   "outputs": [
    {
     "data": {
      "text/plain": [
       "['Sam',\n",
       " 'guys',\n",
       " 'deal',\n",
       " 'experienced',\n",
       " 'teammate',\n",
       " 'But',\n",
       " 'podium',\n",
       " '3rd',\n",
       " 'place',\n",
       " 'teammates',\n",
       " 'gracious',\n",
       " 'Fortunately',\n",
       " 'Sam',\n",
       " 'alltime',\n",
       " 'race',\n",
       " 'record',\n",
       " '109',\n",
       " 'stands',\n",
       " 'Congrats',\n",
       " 'winners',\n",
       " 'competed',\n",
       " 'Kodiak',\n",
       " 'crabfest2019']"
      ]
     },
     "execution_count": 48,
     "metadata": {},
     "output_type": "execute_result"
    }
   ],
   "source": [
    "congress_tweets['tokens'][0]"
   ]
  },
  {
   "cell_type": "code",
   "execution_count": 49,
   "metadata": {},
   "outputs": [],
   "source": [
    "##We apply a model for Word2vec using the congress tweets. \n",
    "word2vec_model = gensim.models.Word2Vec(congress_tweets['tokens'], window=5, \n",
    "                               min_count=5, sg=0, alpha=0.025, batch_words=10000)"
   ]
  },
  {
   "cell_type": "code",
   "execution_count": 50,
   "metadata": {},
   "outputs": [
    {
     "data": {
      "text/plain": [
       "300"
      ]
     },
     "execution_count": 50,
     "metadata": {},
     "output_type": "execute_result"
    }
   ],
   "source": [
    "model.vector_size"
   ]
  },
  {
   "cell_type": "code",
   "execution_count": 51,
   "metadata": {},
   "outputs": [
    {
     "data": {
      "text/plain": [
       "23"
      ]
     },
     "execution_count": 51,
     "metadata": {},
     "output_type": "execute_result"
    }
   ],
   "source": [
    "len(congress_tweets['tokens'][0])"
   ]
  },
  {
   "cell_type": "code",
   "execution_count": 52,
   "metadata": {},
   "outputs": [
    {
     "data": {
      "text/plain": [
       "20"
      ]
     },
     "execution_count": 52,
     "metadata": {},
     "output_type": "execute_result"
    }
   ],
   "source": [
    "doc = [word for word in congress_tweets['tokens'][1] if word in model.key_to_index]\n",
    "len(doc)"
   ]
  },
  {
   "cell_type": "code",
   "execution_count": 53,
   "metadata": {},
   "outputs": [
    {
     "data": {
      "text/plain": [
       "['It', 'great', 'Skype', 'w', 'government', 'class']"
      ]
     },
     "execution_count": 53,
     "metadata": {},
     "output_type": "execute_result"
    }
   ],
   "source": [
    "doc[0:6]"
   ]
  },
  {
   "cell_type": "code",
   "execution_count": 54,
   "metadata": {},
   "outputs": [
    {
     "name": "stdout",
     "output_type": "stream",
     "text": [
      "[-8.05664062e-02  2.14843750e-01 -6.05468750e-02  2.39257812e-01\n",
      " -4.68750000e-02 -4.07714844e-02  1.58203125e-01 -1.97265625e-01\n",
      " -1.06933594e-01  9.17968750e-02  2.38281250e-01  2.05078125e-01\n",
      "  2.87109375e-01 -1.25976562e-01 -6.88476562e-02  1.44531250e-01\n",
      " -6.78710938e-02  1.04980469e-01  1.06933594e-01 -1.51367188e-01\n",
      "  4.49218750e-02  5.76171875e-02 -1.04980469e-01 -5.93261719e-02\n",
      " -5.10253906e-02  1.29394531e-02 -9.66796875e-02  1.41601562e-01\n",
      "  4.61425781e-02  2.64892578e-02  7.76367188e-02  1.83105469e-02\n",
      "  1.05957031e-01  2.68554688e-02  7.17773438e-02 -3.19824219e-02\n",
      " -3.01513672e-02  3.66210938e-02  6.22558594e-02  1.07910156e-01\n",
      " -1.56250000e-01  9.94873047e-03  2.08740234e-02  8.93554688e-02\n",
      "  1.60156250e-01 -3.17382812e-02  2.55859375e-01  2.65625000e-01\n",
      " -4.39453125e-02  6.00585938e-02 -1.54296875e-01 -9.71679688e-02\n",
      " -1.18652344e-01 -1.56250000e-01  2.38281250e-01  2.05078125e-01\n",
      "  3.80859375e-02 -2.32421875e-01 -8.69140625e-02 -1.49414062e-01\n",
      "  1.05468750e-01  1.35742188e-01 -2.75390625e-01 -1.77734375e-01\n",
      " -3.56445312e-02 -1.56250000e-01 -8.54492188e-02  2.39257812e-01\n",
      "  1.78222656e-02  1.48437500e-01 -2.05078125e-01 -1.96533203e-02\n",
      "  2.10937500e-01  1.25000000e-01  1.29394531e-02  1.36718750e-01\n",
      "  2.65625000e-01 -6.29882812e-02  1.43554688e-01  4.32128906e-02\n",
      " -4.37011719e-02  6.00585938e-02 -1.77734375e-01 -1.27929688e-01\n",
      "  8.10546875e-02 -1.69921875e-01 -1.61132812e-01  1.45507812e-01\n",
      "  1.97265625e-01  1.19140625e-01 -8.74023438e-02 -1.62109375e-01\n",
      " -5.54199219e-02 -3.93066406e-02 -1.83593750e-01 -2.89306641e-02\n",
      " -6.53076172e-03 -3.12500000e-02 -1.88476562e-01 -5.95703125e-02\n",
      "  1.06933594e-01 -1.28906250e-01 -2.26562500e-01 -8.15429688e-02\n",
      " -1.89453125e-01 -6.54296875e-02  1.31835938e-01  8.64257812e-02\n",
      "  8.39843750e-02 -1.10839844e-01  3.51562500e-02  1.61132812e-01\n",
      " -1.35742188e-01  1.10839844e-01  1.65039062e-01  1.03759766e-02\n",
      " -4.80957031e-02  2.23388672e-02  6.49414062e-02 -7.86132812e-02\n",
      " -1.94091797e-02  8.48388672e-03  7.86132812e-02 -8.44726562e-02\n",
      "  4.68750000e-02  6.64062500e-02  1.04003906e-01 -2.06054688e-01\n",
      "  7.91015625e-02  7.95898438e-02  5.02929688e-02  4.56542969e-02\n",
      " -1.51367188e-01 -1.07421875e-01  3.95507812e-02 -3.16406250e-01\n",
      "  3.34472656e-02  2.53906250e-01 -7.66601562e-02  1.98974609e-02\n",
      " -1.92382812e-01 -2.98828125e-01  1.40625000e-01 -2.74658203e-02\n",
      " -3.12500000e-02 -1.09863281e-01  1.19140625e-01  1.44531250e-01\n",
      "  1.79687500e-01  1.33789062e-01  5.03906250e-01  7.17773438e-02\n",
      " -9.21630859e-03 -1.36108398e-02 -1.10351562e-01 -1.01074219e-01\n",
      " -5.06591797e-03 -8.05664062e-02 -8.93554688e-02 -3.75976562e-02\n",
      " -8.20312500e-02  8.60595703e-03  8.05664062e-02 -1.25000000e-01\n",
      " -1.68945312e-01  1.54296875e-01 -2.46763229e-05 -5.73730469e-02\n",
      " -9.61914062e-02 -2.63977051e-03 -4.16015625e-01 -1.25000000e-01\n",
      "  1.14257812e-01 -1.43554688e-01  2.24609375e-01  2.07519531e-02\n",
      "  3.95507812e-02  1.35742188e-01 -1.05468750e-01  2.36328125e-01\n",
      "  4.24804688e-02  5.37109375e-02 -2.12890625e-01  1.09375000e-01\n",
      " -8.36181641e-03 -1.34765625e-01  1.96289062e-01 -6.15234375e-02\n",
      "  2.07031250e-01 -8.00781250e-02  1.29882812e-01 -7.37304688e-02\n",
      "  4.02832031e-03 -2.17285156e-02  4.22363281e-02  7.81250000e-02\n",
      " -3.71093750e-02  1.23535156e-01 -8.78906250e-02 -1.31835938e-01\n",
      " -1.50390625e-01 -1.26953125e-02  2.33154297e-02  1.53808594e-02\n",
      " -4.35546875e-01 -5.02929688e-02 -1.60156250e-01  1.08398438e-01\n",
      " -1.98242188e-01 -9.21630859e-03  1.52343750e-01  1.52587891e-02\n",
      " -1.56250000e-01 -6.93359375e-02  2.74658203e-02  2.10937500e-01\n",
      " -4.83398438e-02 -3.71093750e-02 -1.13281250e-01 -1.56250000e-01\n",
      " -1.26953125e-01  8.83789062e-02  1.30859375e-01  5.12695312e-02\n",
      "  7.76367188e-02 -1.72119141e-02  1.07421875e-01 -7.56835938e-02\n",
      "  2.33154297e-02 -1.68945312e-01  1.49414062e-01  2.85644531e-02\n",
      "  2.30468750e-01 -1.03027344e-01  2.19726562e-01 -2.55126953e-02\n",
      " -2.73437500e-02  3.90625000e-03  1.56250000e-01 -7.95898438e-02\n",
      "  1.98242188e-01 -9.22851562e-02 -1.99218750e-01  5.93261719e-02\n",
      "  1.47094727e-02 -9.47265625e-02 -1.41601562e-01 -1.57226562e-01\n",
      " -1.54296875e-01 -1.32812500e-01  9.96093750e-02 -3.24707031e-02\n",
      "  2.07519531e-03  3.10058594e-02  2.85644531e-02 -2.98828125e-01\n",
      " -1.94335938e-01  4.83398438e-02 -1.66992188e-01 -6.07910156e-02\n",
      "  6.29882812e-02 -8.60595703e-03 -2.77343750e-01  3.83300781e-02\n",
      "  9.76562500e-03  8.44726562e-02  3.33984375e-01  6.50024414e-03\n",
      " -2.51464844e-02 -1.33789062e-01 -9.61914062e-02  5.98144531e-02\n",
      " -1.03515625e-01  1.82617188e-01  4.10156250e-02 -3.14941406e-02\n",
      " -1.53198242e-02 -3.86718750e-01 -2.45117188e-01 -1.91406250e-01\n",
      "  1.74804688e-01 -9.13085938e-02  2.96630859e-02  1.58691406e-02\n",
      " -1.90429688e-01  1.89453125e-01 -1.57226562e-01  9.22851562e-02\n",
      "  9.08203125e-02  2.27050781e-02  2.83813477e-03 -6.39648438e-02\n",
      " -1.69921875e-01 -5.54199219e-02  3.06396484e-02  6.54296875e-02\n",
      " -1.77734375e-01  1.31835938e-01 -2.99072266e-02  2.40478516e-02]\n"
     ]
    },
    {
     "data": {
      "text/plain": [
       "(300,)"
      ]
     },
     "execution_count": 54,
     "metadata": {},
     "output_type": "execute_result"
    }
   ],
   "source": [
    "print(model.__getitem__('class'))\n",
    "vector = model.get_vector('class', norm=True)\n",
    "vector.shape"
   ]
  },
  {
   "cell_type": "code",
   "execution_count": 55,
   "metadata": {},
   "outputs": [
    {
     "data": {
      "text/plain": [
       "-0.0048727733"
      ]
     },
     "execution_count": 55,
     "metadata": {},
     "output_type": "execute_result"
    }
   ],
   "source": [
    "numpy.mean(model.__getitem__('class'))"
   ]
  },
  {
   "cell_type": "code",
   "execution_count": 56,
   "metadata": {},
   "outputs": [
    {
     "data": {
      "text/plain": [
       "-0.038907815"
      ]
     },
     "execution_count": 56,
     "metadata": {},
     "output_type": "execute_result"
    }
   ],
   "source": [
    "##We obtain the average over the vectors\n",
    "first_vec = []\n",
    "for token in model.__getitem__(doc):\n",
    "    first_vec.append(token[0])\n",
    "numpy.mean(first_vec)"
   ]
  },
  {
   "cell_type": "code",
   "execution_count": 57,
   "metadata": {},
   "outputs": [
    {
     "data": {
      "text/plain": [
       "['It',\n",
       " 'great',\n",
       " 'Skype',\n",
       " 'w',\n",
       " 'StuartPublicSch',\n",
       " 'government',\n",
       " 'class',\n",
       " 'morning',\n",
       " 'discuss',\n",
       " 'number',\n",
       " 'important',\n",
       " 'topics',\n",
       " 'Congratulations',\n",
       " 'seniors',\n",
       " 'upcoming',\n",
       " 'graduation',\n",
       " 'weekend',\n",
       " 'I',\n",
       " 'wish',\n",
       " 'best',\n",
       " 'chapter',\n",
       " 'TomorrowsLeaders',\n",
       " 'LoveNE',\n",
       " ' ']"
      ]
     },
     "execution_count": 57,
     "metadata": {},
     "output_type": "execute_result"
    }
   ],
   "source": [
    "congress_tweets['tokens'][1]"
   ]
  },
  {
   "cell_type": "code",
   "execution_count": 58,
   "metadata": {},
   "outputs": [],
   "source": [
    "word2vec_model = gensim.models.Word2Vec(congress_tweets['tokens'], window=5, \n",
    "                               min_count=5, sg=0, alpha=0.025, batch_words=10000)"
   ]
  },
  {
   "cell_type": "code",
   "execution_count": 59,
   "metadata": {},
   "outputs": [],
   "source": [
    "# Function to average word embeddings for a document; use examples from lab to apply this function. You can use also other techniques such as PCA and doc2vec instead.\n",
    "def document_vector(word2vec_model, doc):\n",
    "    doc = [word for word in doc if word in model.key_to_index]\n",
    "    return numpy.mean(model[doc], axis=0)"
   ]
  },
  {
   "cell_type": "code",
   "execution_count": 60,
   "metadata": {},
   "outputs": [
    {
     "ename": "ValueError",
     "evalue": "need at least one array to concatenate",
     "output_type": "error",
     "traceback": [
      "\u001b[0;31m---------------------------------------------------------------------------\u001b[0m",
      "\u001b[0;31mValueError\u001b[0m                                Traceback (most recent call last)",
      "\u001b[0;32m<ipython-input-60-1ea8418603d1>\u001b[0m in \u001b[0;36m<module>\u001b[0;34m\u001b[0m\n\u001b[1;32m      2\u001b[0m \u001b[0mempty_list_embeddings_means\u001b[0m \u001b[0;34m=\u001b[0m \u001b[0;34m[\u001b[0m\u001b[0;34m]\u001b[0m\u001b[0;34m\u001b[0m\u001b[0;34m\u001b[0m\u001b[0m\n\u001b[1;32m      3\u001b[0m \u001b[0;32mfor\u001b[0m \u001b[0mx\u001b[0m \u001b[0;32min\u001b[0m \u001b[0mcongress_tweets\u001b[0m\u001b[0;34m[\u001b[0m\u001b[0;34m'tokens'\u001b[0m\u001b[0;34m]\u001b[0m\u001b[0;34m:\u001b[0m \u001b[0;31m# append the vector for each document\u001b[0m\u001b[0;34m\u001b[0m\u001b[0;34m\u001b[0m\u001b[0m\n\u001b[0;32m----> 4\u001b[0;31m     \u001b[0mempty_list_embeddings_means\u001b[0m\u001b[0;34m.\u001b[0m\u001b[0mappend\u001b[0m\u001b[0;34m(\u001b[0m\u001b[0mdocument_vector\u001b[0m\u001b[0;34m(\u001b[0m\u001b[0mmodel\u001b[0m\u001b[0;34m,\u001b[0m \u001b[0mx\u001b[0m\u001b[0;34m)\u001b[0m\u001b[0;34m)\u001b[0m\u001b[0;34m\u001b[0m\u001b[0;34m\u001b[0m\u001b[0m\n\u001b[0m\u001b[1;32m      5\u001b[0m \u001b[0;34m\u001b[0m\u001b[0m\n\u001b[1;32m      6\u001b[0m \u001b[0mdoc_average_embeddings\u001b[0m \u001b[0;34m=\u001b[0m \u001b[0mnumpy\u001b[0m\u001b[0;34m.\u001b[0m\u001b[0mwv\u001b[0m\u001b[0;34m.\u001b[0m\u001b[0marray\u001b[0m\u001b[0;34m(\u001b[0m\u001b[0mempty_list_embeddings_means\u001b[0m\u001b[0;34m)\u001b[0m \u001b[0;31m# list to array\u001b[0m\u001b[0;34m\u001b[0m\u001b[0;34m\u001b[0m\u001b[0m\n",
      "\u001b[0;32m<ipython-input-59-02bd45bfebdf>\u001b[0m in \u001b[0;36mdocument_vector\u001b[0;34m(word2vec_model, doc)\u001b[0m\n\u001b[1;32m      2\u001b[0m \u001b[0;32mdef\u001b[0m \u001b[0mdocument_vector\u001b[0m\u001b[0;34m(\u001b[0m\u001b[0mword2vec_model\u001b[0m\u001b[0;34m,\u001b[0m \u001b[0mdoc\u001b[0m\u001b[0;34m)\u001b[0m\u001b[0;34m:\u001b[0m\u001b[0;34m\u001b[0m\u001b[0;34m\u001b[0m\u001b[0m\n\u001b[1;32m      3\u001b[0m     \u001b[0mdoc\u001b[0m \u001b[0;34m=\u001b[0m \u001b[0;34m[\u001b[0m\u001b[0mword\u001b[0m \u001b[0;32mfor\u001b[0m \u001b[0mword\u001b[0m \u001b[0;32min\u001b[0m \u001b[0mdoc\u001b[0m \u001b[0;32mif\u001b[0m \u001b[0mword\u001b[0m \u001b[0;32min\u001b[0m \u001b[0mmodel\u001b[0m\u001b[0;34m.\u001b[0m\u001b[0mkey_to_index\u001b[0m\u001b[0;34m]\u001b[0m\u001b[0;34m\u001b[0m\u001b[0;34m\u001b[0m\u001b[0m\n\u001b[0;32m----> 4\u001b[0;31m     \u001b[0;32mreturn\u001b[0m \u001b[0mnumpy\u001b[0m\u001b[0;34m.\u001b[0m\u001b[0mmean\u001b[0m\u001b[0;34m(\u001b[0m\u001b[0mmodel\u001b[0m\u001b[0;34m[\u001b[0m\u001b[0mdoc\u001b[0m\u001b[0;34m]\u001b[0m\u001b[0;34m,\u001b[0m \u001b[0maxis\u001b[0m\u001b[0;34m=\u001b[0m\u001b[0;36m0\u001b[0m\u001b[0;34m)\u001b[0m\u001b[0;34m\u001b[0m\u001b[0;34m\u001b[0m\u001b[0m\n\u001b[0m",
      "\u001b[0;32m~/opt/anaconda3/lib/python3.8/site-packages/gensim/models/keyedvectors.py\u001b[0m in \u001b[0;36m__getitem__\u001b[0;34m(self, key_or_keys)\u001b[0m\n\u001b[1;32m    395\u001b[0m             \u001b[0;32mreturn\u001b[0m \u001b[0mself\u001b[0m\u001b[0;34m.\u001b[0m\u001b[0mget_vector\u001b[0m\u001b[0;34m(\u001b[0m\u001b[0mkey_or_keys\u001b[0m\u001b[0;34m)\u001b[0m\u001b[0;34m\u001b[0m\u001b[0;34m\u001b[0m\u001b[0m\n\u001b[1;32m    396\u001b[0m \u001b[0;34m\u001b[0m\u001b[0m\n\u001b[0;32m--> 397\u001b[0;31m         \u001b[0;32mreturn\u001b[0m \u001b[0mvstack\u001b[0m\u001b[0;34m(\u001b[0m\u001b[0;34m[\u001b[0m\u001b[0mself\u001b[0m\u001b[0;34m.\u001b[0m\u001b[0mget_vector\u001b[0m\u001b[0;34m(\u001b[0m\u001b[0mkey\u001b[0m\u001b[0;34m)\u001b[0m \u001b[0;32mfor\u001b[0m \u001b[0mkey\u001b[0m \u001b[0;32min\u001b[0m \u001b[0mkey_or_keys\u001b[0m\u001b[0;34m]\u001b[0m\u001b[0;34m)\u001b[0m\u001b[0;34m\u001b[0m\u001b[0;34m\u001b[0m\u001b[0m\n\u001b[0m\u001b[1;32m    398\u001b[0m \u001b[0;34m\u001b[0m\u001b[0m\n\u001b[1;32m    399\u001b[0m     \u001b[0;32mdef\u001b[0m \u001b[0mget_index\u001b[0m\u001b[0;34m(\u001b[0m\u001b[0mself\u001b[0m\u001b[0;34m,\u001b[0m \u001b[0mkey\u001b[0m\u001b[0;34m,\u001b[0m \u001b[0mdefault\u001b[0m\u001b[0;34m=\u001b[0m\u001b[0;32mNone\u001b[0m\u001b[0;34m)\u001b[0m\u001b[0;34m:\u001b[0m\u001b[0;34m\u001b[0m\u001b[0;34m\u001b[0m\u001b[0m\n",
      "\u001b[0;32m<__array_function__ internals>\u001b[0m in \u001b[0;36mvstack\u001b[0;34m(*args, **kwargs)\u001b[0m\n",
      "\u001b[0;32m~/opt/anaconda3/lib/python3.8/site-packages/numpy/core/shape_base.py\u001b[0m in \u001b[0;36mvstack\u001b[0;34m(tup)\u001b[0m\n\u001b[1;32m    281\u001b[0m     \u001b[0;32mif\u001b[0m \u001b[0;32mnot\u001b[0m \u001b[0misinstance\u001b[0m\u001b[0;34m(\u001b[0m\u001b[0marrs\u001b[0m\u001b[0;34m,\u001b[0m \u001b[0mlist\u001b[0m\u001b[0;34m)\u001b[0m\u001b[0;34m:\u001b[0m\u001b[0;34m\u001b[0m\u001b[0;34m\u001b[0m\u001b[0m\n\u001b[1;32m    282\u001b[0m         \u001b[0marrs\u001b[0m \u001b[0;34m=\u001b[0m \u001b[0;34m[\u001b[0m\u001b[0marrs\u001b[0m\u001b[0;34m]\u001b[0m\u001b[0;34m\u001b[0m\u001b[0;34m\u001b[0m\u001b[0m\n\u001b[0;32m--> 283\u001b[0;31m     \u001b[0;32mreturn\u001b[0m \u001b[0m_nx\u001b[0m\u001b[0;34m.\u001b[0m\u001b[0mconcatenate\u001b[0m\u001b[0;34m(\u001b[0m\u001b[0marrs\u001b[0m\u001b[0;34m,\u001b[0m \u001b[0;36m0\u001b[0m\u001b[0;34m)\u001b[0m\u001b[0;34m\u001b[0m\u001b[0;34m\u001b[0m\u001b[0m\n\u001b[0m\u001b[1;32m    284\u001b[0m \u001b[0;34m\u001b[0m\u001b[0m\n\u001b[1;32m    285\u001b[0m \u001b[0;34m\u001b[0m\u001b[0m\n",
      "\u001b[0;32m<__array_function__ internals>\u001b[0m in \u001b[0;36mconcatenate\u001b[0;34m(*args, **kwargs)\u001b[0m\n",
      "\u001b[0;31mValueError\u001b[0m: need at least one array to concatenate"
     ]
    }
   ],
   "source": [
    "# Initialize an array for the size of the corpus\n",
    "empty_list_embeddings_means = []\n",
    "for x in congress_tweets['tokens']: # append the vector for each document\n",
    "    empty_list_embeddings_means.append(document_vector(model, x))\n",
    "    \n",
    "doc_average_embeddings = numpy.wv.array(empty_list_embeddings_means) # list to array\n",
    "\n",
    "##Question for KQ, not sure why the output says that there is no array?\n"
   ]
  },
  {
   "cell_type": "markdown",
   "metadata": {},
   "source": [
    "@sociologyquinn not sure why the output says that there is no array?. I'm not really sure if I fully understand what's going on.\n"
   ]
  },
  {
   "cell_type": "code",
   "execution_count": null,
   "metadata": {},
   "outputs": [],
   "source": [
    "doc_average_embeddings = numpy.array(documents) # list to array"
   ]
  },
  {
   "cell_type": "code",
   "execution_count": null,
   "metadata": {},
   "outputs": [],
   "source": [
    "doc_average_embeddings = numpy.array(empty_list_embeddings_means) # list to array"
   ]
  },
  {
   "cell_type": "code",
   "execution_count": null,
   "metadata": {},
   "outputs": [],
   "source": [
    "doc_average_embeddings"
   ]
  },
  {
   "cell_type": "code",
   "execution_count": null,
   "metadata": {},
   "outputs": [],
   "source": [
    "doc_average_embeddings.shape"
   ]
  },
  {
   "cell_type": "markdown",
   "metadata": {},
   "source": [
    "## Classification"
   ]
  },
  {
   "cell_type": "markdown",
   "metadata": {},
   "source": [
    "Either use cross-validation or partition your data with training/validation/test sets for this section. Do the following:\n",
    "\n",
    "* Choose a supervised learning algorithm such as logistic regression, random forest etc. \n",
    "* Train six models. For each of the three dataframes you created in the featurization part, train one model to predict whether the author of the tweet is a Democrat or Republican, and a second model to predict whether the author is a Senator or Representative.\n",
    "* Report the accuracy and other relevant metrics for each of these six models.\n",
    "* Choose the featurization technique associated with your best model. Combine those text features with non-text features. Train two more models: (1) A supervised learning algorithm that uses just the non-text features and (2) a supervised learning algorithm that combines text and non-text features. Report accuracy and other relevant metrics. \n",
    "\n",
    "If time permits, you are encouraged to use hyperparameter tuning or AutoML techniques like TPOT, but are not explicitly required to do so."
   ]
  },
  {
   "cell_type": "markdown",
   "metadata": {},
   "source": [
    "### Train Six Models with Just Text"
   ]
  },
  {
   "cell_type": "markdown",
   "metadata": {},
   "source": [
    "We will use logistic regression as our supervised algorithm. "
   ]
  },
  {
   "cell_type": "code",
   "execution_count": 61,
   "metadata": {},
   "outputs": [],
   "source": [
    "##Call the appropriate functions\n",
    "\n",
    "from sklearn.model_selection import train_test_split\n",
    "from sklearn.metrics import confusion_matrix\n",
    "from sklearn.naive_bayes import MultinomialNB\n",
    "from sklearn.preprocessing import LabelBinarizer\n",
    "from sklearn.linear_model import LogisticRegression"
   ]
  },
  {
   "cell_type": "code",
   "execution_count": 62,
   "metadata": {},
   "outputs": [
    {
     "data": {
      "text/plain": [
       "0      Sen\n",
       "1      Sen\n",
       "2      Rep\n",
       "3      Sen\n",
       "4      Rep\n",
       "      ... \n",
       "995    Sen\n",
       "996    Rep\n",
       "997    Sen\n",
       "998    Rep\n",
       "999    Rep\n",
       "Name: position, Length: 1000, dtype: object"
      ]
     },
     "execution_count": 62,
     "metadata": {},
     "output_type": "execute_result"
    }
   ],
   "source": [
    "congress_tweets['position']"
   ]
  },
  {
   "cell_type": "code",
   "execution_count": 63,
   "metadata": {},
   "outputs": [],
   "source": [
    "dataframes = [engineered_features, \n",
    "              engineered_features_with_topics, tfidf_df]\n",
    "\n",
    "featurization_technique = ['Engineered Text Features',\n",
    "                            'Engineered Features + Topic Model', \n",
    "                            'Tf-idf Features']\n",
    "\n",
    "lb_style = LabelBinarizer()\n",
    "y = congress_tweets['position_binary'] = lb_style.fit_transform(congress_tweets[\"position\"])"
   ]
  },
  {
   "cell_type": "code",
   "execution_count": 64,
   "metadata": {},
   "outputs": [
    {
     "data": {
      "image/png": "[encoded data removed]",
      "text/plain": [
       "<Figure size 720x504 with 2 Axes>"
      ]
     },
     "metadata": {
      "needs_background": "light"
     },
     "output_type": "display_data"
    },
    {
     "name": "stderr",
     "output_type": "stream",
     "text": [
      "/Users/evalencialopez/opt/anaconda3/lib/python3.8/site-packages/sklearn/utils/validation.py:1675: FutureWarning: Feature names only support names that are all strings. Got feature names with dtypes: ['int', 'str']. An error will be raised in 1.2.\n",
      "  warnings.warn(\n",
      "/Users/evalencialopez/opt/anaconda3/lib/python3.8/site-packages/sklearn/utils/validation.py:1675: FutureWarning: Feature names only support names that are all strings. Got feature names with dtypes: ['int', 'str']. An error will be raised in 1.2.\n",
      "  warnings.warn(\n"
     ]
    },
    {
     "data": {
      "image/png": "[encoded data removed]",
      "text/plain": [
       "<Figure size 720x504 with 2 Axes>"
      ]
     },
     "metadata": {},
     "output_type": "display_data"
    },
    {
     "data": {
      "image/png": "[encoded data removed]",
      "text/plain": [
       "<Figure size 720x504 with 2 Axes>"
      ]
     },
     "metadata": {},
     "output_type": "display_data"
    }
   ],
   "source": [
    "##Senator or representative\n",
    "###Predict democrat or republican\n",
    "for dataframe, featurization in zip(dataframes, featurization_technique):\n",
    "    X_train, X_test, y_train, y_test = train_test_split(dataframe, \n",
    "                                                        y, \n",
    "                                                        train_size = .80, \n",
    "                                                        test_size=0.20, \n",
    "                                                        random_state = 10)\n",
    "    # create a model\n",
    "    logit_reg = LogisticRegression()\n",
    "\n",
    "    # fit the model\n",
    "    logit_model = logit_reg.fit(X_train, y_train.ravel())\n",
    "\n",
    "    y_pred = logit_model.predict(X_test)\n",
    "    \n",
    "    cf_matrix = confusion_matrix(y_test, y_pred, normalize = \"true\")\n",
    "\n",
    "    df_cm = pd.DataFrame(cf_matrix, range(2),\n",
    "                      range(2))\n",
    "\n",
    "    df_cm = df_cm.rename(index=str, columns={0: \"Rep\", 1: \"Sen\"})\n",
    "    df_cm.index = [\"Rep\", \"Sen\"]\n",
    "    plt.figure(figsize = (10,7))\n",
    "    sns.set(font_scale=1.4)#for label size\n",
    "    sns.heatmap(df_cm, \n",
    "               annot=True,\n",
    "               annot_kws={\"size\": 16},\n",
    "               fmt='g')\n",
    "\n",
    "    plt.title(featurization)\n",
    "    plt.xlabel(\"Predicted Label\")\n",
    "    plt.ylabel(\"True Label\")\n",
    "    plt.show()"
   ]
  },
  {
   "cell_type": "code",
   "execution_count": 65,
   "metadata": {},
   "outputs": [
    {
     "data": {
      "text/plain": [
       "Democrat       660\n",
       "Republican     336\n",
       "Independent      4\n",
       "Name: party, dtype: int64"
      ]
     },
     "execution_count": 65,
     "metadata": {},
     "output_type": "execute_result"
    }
   ],
   "source": [
    "\n",
    "congress_tweets[\"party\"].value_counts()"
   ]
  },
  {
   "cell_type": "code",
   "execution_count": 66,
   "metadata": {},
   "outputs": [
    {
     "data": {
      "text/plain": [
       "0      0\n",
       "1      0\n",
       "2      1\n",
       "3      1\n",
       "4      1\n",
       "      ..\n",
       "995    1\n",
       "996    0\n",
       "997    1\n",
       "998    0\n",
       "999    1\n",
       "Name: party_dummy, Length: 1000, dtype: int64"
      ]
     },
     "execution_count": 66,
     "metadata": {},
     "output_type": "execute_result"
    }
   ],
   "source": [
    "congress_tweets[\"party_dummy\"] = congress_tweets[\"party\"].apply(lambda x: 1 if x == \"Democrat\" else 0)\n",
    "congress_tweets[\"party_dummy\"]"
   ]
  },
  {
   "cell_type": "code",
   "execution_count": 67,
   "metadata": {},
   "outputs": [
    {
     "data": {
      "text/plain": [
       "1    660\n",
       "0    340\n",
       "Name: party_dummy, dtype: int64"
      ]
     },
     "execution_count": 67,
     "metadata": {},
     "output_type": "execute_result"
    }
   ],
   "source": [
    "congress_tweets[\"party_dummy\"].value_counts()"
   ]
  },
  {
   "cell_type": "code",
   "execution_count": 69,
   "metadata": {},
   "outputs": [],
   "source": [
    "dataframes = [engineered_features, \n",
    "              engineered_features_with_topics, tfidf_df]\n",
    "\n",
    "featurization_technique = ['Engineered Text Features',\n",
    "                            'Engineered Features + Topic Model', \n",
    "                            'Tf-idf Features']\n",
    "\n",
    "lb_style = LabelBinarizer()\n",
    "y = congress_tweets['party_binary'] = lb_style.fit_transform(congress_tweets[\"party_dummy\"])"
   ]
  },
  {
   "cell_type": "code",
   "execution_count": 70,
   "metadata": {},
   "outputs": [
    {
     "data": {
      "image/png": "[encoded data removed]",
      "text/plain": [
       "<Figure size 720x504 with 2 Axes>"
      ]
     },
     "metadata": {},
     "output_type": "display_data"
    },
    {
     "name": "stderr",
     "output_type": "stream",
     "text": [
      "/Users/evalencialopez/opt/anaconda3/lib/python3.8/site-packages/sklearn/utils/validation.py:1675: FutureWarning: Feature names only support names that are all strings. Got feature names with dtypes: ['int', 'str']. An error will be raised in 1.2.\n",
      "  warnings.warn(\n",
      "/Users/evalencialopez/opt/anaconda3/lib/python3.8/site-packages/sklearn/utils/validation.py:1675: FutureWarning: Feature names only support names that are all strings. Got feature names with dtypes: ['int', 'str']. An error will be raised in 1.2.\n",
      "  warnings.warn(\n"
     ]
    },
    {
     "data": {
      "image/png": "[encoded data removed]",
      "text/plain": [
       "<Figure size 720x504 with 2 Axes>"
      ]
     },
     "metadata": {},
     "output_type": "display_data"
    },
    {
     "data": {
      "image/png": "[encoded data removed]",
      "text/plain": [
       "<Figure size 720x504 with 2 Axes>"
      ]
     },
     "metadata": {},
     "output_type": "display_data"
    }
   ],
   "source": [
    "# six models ([engineered features, frequency-based, embedding] * [democrat/republican, senator/representative])\n",
    "###Predict democrat or republican\n",
    "for dataframe, featurization in zip(dataframes, featurization_technique):\n",
    "    X_train, X_test, y_train, y_test = train_test_split(dataframe, \n",
    "                                                        y, \n",
    "                                                        train_size = .80, \n",
    "                                                        test_size=0.20, \n",
    "                                                        random_state = 10)\n",
    "    # create a model\n",
    "    logit_reg = LogisticRegression()\n",
    "\n",
    "    # fit the model\n",
    "    logit_model = logit_reg.fit(X_train, y_train.ravel())\n",
    "\n",
    "    y_pred = logit_model.predict(X_test)\n",
    "    \n",
    "    cf_matrix = confusion_matrix(y_test, y_pred, normalize = \"true\")\n",
    "\n",
    "    df_cm = pd.DataFrame(cf_matrix, range(2),\n",
    "                      range(2))\n",
    "\n",
    "    df_cm = df_cm.rename(index=str, columns={0: \"Republican\", 1: \"Democrat\"})\n",
    "    df_cm.index = [\"Republican\", \"Democrat\"]\n",
    "    plt.figure(figsize = (10,7))\n",
    "    sns.set(font_scale=1.4)#for label size\n",
    "    sns.heatmap(df_cm, \n",
    "               annot=True,\n",
    "               annot_kws={\"size\": 16},\n",
    "               fmt='g')\n",
    "\n",
    "    plt.title(featurization)\n",
    "    plt.xlabel(\"Predicted Label\")\n",
    "    plt.ylabel(\"True Label\")\n",
    "    plt.show()"
   ]
  },
  {
   "cell_type": "markdown",
   "metadata": {},
   "source": [
    "Choose the featurization technique associated with your best model. Combine those text features with non-text features. Train two more models: (1) A supervised learning algorithm that uses just the non-text features and (2) a supervised learning algorithm that combines text and non-text features. Report accuracy and other relevant metrics."
   ]
  },
  {
   "cell_type": "markdown",
   "metadata": {},
   "source": [
    "We are going to use the engineering features with non-text and a combined model. "
   ]
  },
  {
   "cell_type": "markdown",
   "metadata": {},
   "source": [
    "### Two Combined Models"
   ]
  },
  {
   "cell_type": "code",
   "execution_count": 81,
   "metadata": {},
   "outputs": [],
   "source": [
    "# two models ([best text features + non-text features] * [democrat/republican, senator/representative])\n",
    "# Non-text features\n",
    "non_text_features = congress_tweets[['index','tweet_id','datetime','joined_congress_date','clinton_2016_state_share', 'obama_2012_state_share','romney_2012_state_share']]\n",
    "non_text_features_dummies = pd.get_dummies(non_text_features).reset_index(drop = True)\n",
    "\n",
    "# Non-text features + engineered features\n",
    "non_text_engineered_features = non_text_features_dummies.reset_index(drop = True).join(engineered_features_with_topics)\n",
    "\n",
    "# Non-text features + tfidf\n",
    "tfidf_df = pd.DataFrame(tfidf_matrix.todense(), columns = tf.get_feature_names_out())\n",
    "non_text_plus_tfidf = non_text_features_dummies.reset_index(drop = True).join(tfidf_df)\n"
   ]
  },
  {
   "cell_type": "code",
   "execution_count": 82,
   "metadata": {},
   "outputs": [],
   "source": [
    "dataframes = [non_text_features_dummies,\n",
    "              non_text_engineered_features,\n",
    "              tfidf_df, \n",
    "              non_text_plus_tfidf]\n",
    "\n",
    "featurization_technique = ['Non-Text Features',\n",
    "                           'Non-Text + Engineered Text Features',\n",
    "                           'Tf-idf Features',\n",
    "                           'Non-Text + Tf-idf Features']\n",
    "\n",
    "lb_style = LabelBinarizer()\n",
    "y = congress_tweets['party_binary'] = lb_style.fit_transform(congress_tweets[\"party_dummy\"])"
   ]
  },
  {
   "cell_type": "code",
   "execution_count": 83,
   "metadata": {},
   "outputs": [
    {
     "data": {
      "image/png": "[encoded data removed]",
      "text/plain": [
       "<Figure size 720x504 with 2 Axes>"
      ]
     },
     "metadata": {},
     "output_type": "display_data"
    },
    {
     "name": "stderr",
     "output_type": "stream",
     "text": [
      "/Users/evalencialopez/opt/anaconda3/lib/python3.8/site-packages/sklearn/utils/validation.py:1675: FutureWarning: Feature names only support names that are all strings. Got feature names with dtypes: ['int', 'str']. An error will be raised in 1.2.\n",
      "  warnings.warn(\n",
      "/Users/evalencialopez/opt/anaconda3/lib/python3.8/site-packages/sklearn/utils/validation.py:1675: FutureWarning: Feature names only support names that are all strings. Got feature names with dtypes: ['int', 'str']. An error will be raised in 1.2.\n",
      "  warnings.warn(\n"
     ]
    },
    {
     "data": {
      "image/png": "[encoded data removed]",
      "text/plain": [
       "<Figure size 720x504 with 2 Axes>"
      ]
     },
     "metadata": {},
     "output_type": "display_data"
    },
    {
     "data": {
      "image/png": "[encoded data removed]",
      "text/plain": [
       "<Figure size 720x504 with 2 Axes>"
      ]
     },
     "metadata": {},
     "output_type": "display_data"
    },
    {
     "data": {
      "image/png": "[encoded data removed]",
      "text/plain": [
       "<Figure size 720x504 with 2 Axes>"
      ]
     },
     "metadata": {},
     "output_type": "display_data"
    }
   ],
   "source": [
    "for dataframe, featurization in zip(dataframes, featurization_technique):\n",
    "    X_train, X_test, y_train, y_test = train_test_split(dataframe, \n",
    "                                                        y, \n",
    "                                                        train_size = .80, \n",
    "                                                        test_size=0.20, \n",
    "                                                        random_state = 10)\n",
    "    # create a model\n",
    "    logit_reg = LogisticRegression()\n",
    "\n",
    "    # fit the model\n",
    "    logit_model = logit_reg.fit(X_train, y_train.ravel())\n",
    "\n",
    "    y_pred = logit_model.predict(X_test)\n",
    "    \n",
    "    cf_matrix = confusion_matrix(y_test, y_pred, normalize = \"true\")\n",
    "\n",
    "    df_cm = pd.DataFrame(cf_matrix, range(2),\n",
    "                      range(2))\n",
    "\n",
    "    df_cm = df_cm.rename(index=str, columns={0: \"Republican\", 1: \"Democrat\"})\n",
    "    df_cm.index = [\"Republican\", \"Democrat\"]\n",
    "    plt.figure(figsize = (10,7))\n",
    "    sns.set(font_scale=1.4)#for label size\n",
    "    sns.heatmap(df_cm, \n",
    "               annot=True,\n",
    "               annot_kws={\"size\": 16},\n",
    "               fmt='g')\n",
    "\n",
    "    plt.title(\"featurization\")\n",
    "    plt.xlabel(\"Predicted Label\")\n",
    "    plt.ylabel(\"True Label\")\n",
    "    plt.show()"
   ]
  },
  {
   "cell_type": "markdown",
   "metadata": {},
   "source": [
    "## Discussion Questions"
   ]
  },
  {
   "cell_type": "markdown",
   "metadata": {},
   "source": [
    "1. Why do standard preprocessing techniques need to be further customized to a particular corpus?\n",
    "\n"
   ]
  },
  {
   "cell_type": "markdown",
   "metadata": {},
   "source": [
    "**A particular corpus has its own linguistic characteristics that require specific preprocessing techniques to deal with in a way that makes features/words more representative of the text's meaning. In our twitter data analysis, we see that certain stop words (such as “RT” or “QT”) and punctuation marks, for example, are unique to our dataset and necessitate unique coding that would be irrelevant to other bodies of text. Also, we need to consider prediction tasks, analytical goals, and relevant computational time when deciding what preprocessing techniques to use.\n",
    "Depending on the purpose of the analysis, we will also need to customize the corpus to reduce noise, sparseness and increase precision in the modeling stage.**\n",
    "\n"
   ]
  },
  {
   "cell_type": "markdown",
   "metadata": {},
   "source": [
    "2. Did you find evidence for the idea that Democrats and Republicans have different sentiments in their tweets? What about Senators and Representatives?"
   ]
  },
  {
   "cell_type": "markdown",
   "metadata": {},
   "source": [
    "**Our preliminary analyses indicated that Democrats and Republicans may not differ substantially in the sentiment of their tweets. Both Democrats and Republicans appear to post mostly neutral tweets, and interject some degree of subjectivity into their content. The data did not seem particularly skewed for one group versus the other.\n",
    "Similarly, our preliminary analyses indicated that Senators and Representatives may not differ substantially in the sentiments of their tweets. We hypothesized that the difference in term length may affect tweet sentiment; would more frequent re-election considerations lead to more emotional or positive tweets? Our results did not indicate that this was the case. Senators and Representatives tweet predominantly neutral content (both trending slightly more positive), and both display similar patterns of subjectivity in their tweets.**\n"
   ]
  },
  {
   "cell_type": "markdown",
   "metadata": {},
   "source": [
    "3. Why is validating your exploratory and unsupervised learning approaches with a supervised learning algorithm valuable?"
   ]
  },
  {
   "cell_type": "markdown",
   "metadata": {},
   "source": [
    "**This is to check if the algorithms perform well and to find out which ways of feature engineering have the best accuracy in prediction. Then we can use the optimal/ validated approach for further work (e.g., labeling or coding the text).**\n"
   ]
  },
  {
   "cell_type": "markdown",
   "metadata": {},
   "source": [
    "4. Did text only, non-text only, or text and non-text features together perform the best? What is the intuition behind combining text and non-text features in a supervised learning algorithm?"
   ]
  },
  {
   "cell_type": "markdown",
   "metadata": {},
   "source": [
    "**The intuition is to capture information such as word counts, meanings, sentiments, relationships, etc in the text content and communication dynamics as much as possible.**"
   ]
  }
 ],
 "metadata": {
  "kernelspec": {
   "display_name": "Python 3",
   "language": "python",
   "name": "python3"
  },
  "language_info": {
   "codemirror_mode": {
    "name": "ipython",
    "version": 3
   },
   "file_extension": ".py",
   "mimetype": "text/x-python",
   "name": "python",
   "nbconvert_exporter": "python",
   "pygments_lexer": "ipython3",
   "version": "3.8.5"
  }
 },
 "nbformat": 4,
 "nbformat_minor": 4
}
